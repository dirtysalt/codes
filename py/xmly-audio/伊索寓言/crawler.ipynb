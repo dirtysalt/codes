{
 "cells": [
  {
   "cell_type": "code",
   "execution_count": 1,
   "metadata": {},
   "outputs": [
    {
     "data": {
      "text/plain": [
       "<module 'common' from '../common.py'>"
      ]
     },
     "execution_count": 1,
     "metadata": {},
     "output_type": "execute_result"
    }
   ],
   "source": [
    "# !pip3 install beautifulsoup4\n",
    "# !pip3 install requests\n",
    "import sys\n",
    "sys.path.append('../')\n",
    "import common\n",
    "import imp\n",
    "imp.reload(common)"
   ]
  },
  {
   "cell_type": "code",
   "execution_count": 2,
   "metadata": {},
   "outputs": [
    {
     "name": "stderr",
     "output_type": "stream",
     "text": [
      "../common.py:73: GuessedAtParserWarning: No parser was explicitly specified, so I'm using the best available HTML parser for this system (\"html.parser\"). This usually isn't a problem, but if you run this code on another system, or in a different virtual environment, it may use a different parser and behave differently.\n",
      "\n",
      "The code that caused this warning is on line 73 of the file ../common.py. To get rid of this warning, pass the additional argument 'features=\"html.parser\"' to the BeautifulSoup constructor.\n",
      "\n",
      "  bs = BeautifulSoup(html)\n"
     ]
    }
   ],
   "source": [
    "elements = []\n",
    "for i in range(1, 3+1):\n",
    "    inputFile = 'p{}.txt'.format(i)\n",
    "    es = common.loadElements(inputFile)\n",
    "    elements.extend(es)\n",
    "items = [common.parseElement(x) for x in elements]"
   ]
  },
  {
   "cell_type": "code",
   "execution_count": 3,
   "metadata": {},
   "outputs": [
    {
     "data": {
      "text/plain": [
       "63"
      ]
     },
     "execution_count": 3,
     "metadata": {},
     "output_type": "execute_result"
    }
   ],
   "source": [
    "len(items)"
   ]
  },
  {
   "cell_type": "code",
   "execution_count": 4,
   "metadata": {},
   "outputs": [
    {
     "data": {
      "text/plain": [
       "63"
      ]
     },
     "execution_count": 4,
     "metadata": {},
     "output_type": "execute_result"
    }
   ],
   "source": [
    "len(set([x['title'] for x in items]))"
   ]
  },
  {
   "cell_type": "code",
   "execution_count": 5,
   "metadata": {},
   "outputs": [
    {
     "data": {
      "text/plain": [
       "[{'item_id': '356123785', 'title': '《伊索寓言》010狮子和报恩的老鼠'},\n",
       " {'item_id': '355784878', 'title': '《伊索寓言》009田鼠和家鼠'},\n",
       " {'item_id': '355784832', 'title': '《伊索寓言》008狼和狮子'},\n",
       " {'item_id': '355784766', 'title': '《伊索寓言》007运盐的驴子'},\n",
       " {'item_id': '354858781', 'title': '《伊索寓言》006老鼠开会'},\n",
       " {'item_id': '354858721', 'title': '《伊索寓言》005狐狸和葡萄'},\n",
       " {'item_id': '354531546', 'title': '《伊索寓言》004两个朋友和熊'},\n",
       " {'item_id': '354531488', 'title': '《伊索寓言》003狼和小羊'},\n",
       " {'item_id': '354531437', 'title': '《伊索寓言》002乌鸦喝水'},\n",
       " {'item_id': '354531379', 'title': '《伊索寓言》001龟兔赛跑'}]"
      ]
     },
     "execution_count": 5,
     "metadata": {},
     "output_type": "execute_result"
    }
   ],
   "source": [
    "items[-10:]"
   ]
  },
  {
   "cell_type": "code",
   "execution_count": 6,
   "metadata": {},
   "outputs": [
    {
     "name": "stdout",
     "output_type": "stream",
     "text": [
      "https://www.ximalaya.com/revision/play/v1/audio?id=371817478&ptype=1\n",
      "200 b'{\"ret\":200,\"data\":{\"trackId\":371817478,\"canPlay\":true,\"isPaid\":false,\"hasBuy\":true,\"src\":\"https://aod.cos.tx.xmcdn.com/storages/1e4d-audiofreehighqps/6B/57/CMCoOR4DzgDaAB7d5AB5jMGN.m4a\",\"albumIsSample\":false,\"sampleDuration\":74,\"isBaiduMusic\":false,\"firstPlayStatus\":true,\"isVipFree\":false,\"isXimiAhead\":false,\"isAlbumTimeLimited\":false,\"ximiVipFreeType\":0}}'\n",
      "OK!!!\n",
      "https://www.ximalaya.com/revision/play/v1/audio?id=371496161&ptype=1\n",
      "200 b'{\"ret\":200,\"data\":{\"trackId\":371496161,\"canPlay\":true,\"isPaid\":false,\"hasBuy\":true,\"src\":\"https://aod.cos.tx.xmcdn.com/storages/bce5-audiofreehighqps/98/09/CMCoOSADr4bbAB2w3gBx31n8.m4a\",\"albumIsSample\":false,\"sampleDuration\":72,\"isBaiduMusic\":false,\"firstPlayStatus\":true,\"isVipFree\":false,\"isXimiAhead\":false,\"isAlbumTimeLimited\":false,\"ximiVipFreeType\":0}}'\n",
      "OK!!!\n",
      "https://www.ximalaya.com/revision/play/v1/audio?id=371202499&ptype=1\n",
      "200 b'{\"ret\":200,\"data\":{\"trackId\":371202499,\"canPlay\":true,\"isPaid\":false,\"hasBuy\":true,\"src\":\"https://aod.cos.tx.xmcdn.com/storages/a458-audiofreehighqps/4D/20/CMCoOSUDr4bVAB8UOgBx31hB.m4a\",\"albumIsSample\":false,\"sampleDuration\":75,\"isBaiduMusic\":false,\"firstPlayStatus\":true,\"isVipFree\":false,\"isXimiAhead\":false,\"isAlbumTimeLimited\":false,\"ximiVipFreeType\":0}}'\n",
      "OK!!!\n",
      "https://www.ximalaya.com/revision/play/v1/audio?id=370893501&ptype=1\n",
      "200 b'{\"ret\":200,\"data\":{\"trackId\":370893501,\"canPlay\":true,\"isPaid\":false,\"hasBuy\":true,\"src\":\"https://aod.cos.tx.xmcdn.com/storages/65ed-audiofreehighqps/41/20/CMCoOSUDrjSVABsmVwBxfvwU.m4a\",\"albumIsSample\":false,\"sampleDuration\":65,\"isBaiduMusic\":false,\"firstPlayStatus\":true,\"isVipFree\":false,\"isXimiAhead\":false,\"isAlbumTimeLimited\":false,\"ximiVipFreeType\":0}}'\n",
      "OK!!!\n",
      "https://www.ximalaya.com/revision/play/v1/audio?id=370606602&ptype=1\n",
      "200 b'{\"ret\":200,\"data\":{\"trackId\":370606602,\"canPlay\":true,\"isPaid\":false,\"hasBuy\":true,\"src\":\"https://aod.cos.tx.xmcdn.com/storages/c7e5-audiofreehighqps/A8/09/CMCoOSIDrjSRABn_MABxfvuG.m4a\",\"albumIsSample\":false,\"sampleDuration\":63,\"isBaiduMusic\":false,\"firstPlayStatus\":true,\"isVipFree\":false,\"isXimiAhead\":false,\"isAlbumTimeLimited\":false,\"ximiVipFreeType\":0}}'\n",
      "OK!!!\n",
      "https://www.ximalaya.com/revision/play/v1/audio?id=370343944&ptype=1\n",
      "200 b'{\"ret\":200,\"data\":{\"trackId\":370343944,\"canPlay\":true,\"isPaid\":false,\"hasBuy\":true,\"src\":\"https://aod.cos.tx.xmcdn.com/storages/e2fc-audiofreehighqps/18/0D/CMCoOSIDrjSQAB_5TwBxfvtg.m4a\",\"albumIsSample\":false,\"sampleDuration\":77,\"isBaiduMusic\":false,\"firstPlayStatus\":true,\"isVipFree\":false,\"isXimiAhead\":false,\"isAlbumTimeLimited\":false,\"ximiVipFreeType\":0}}'\n",
      "OK!!!\n",
      "https://www.ximalaya.com/revision/play/v1/audio?id=370047340&ptype=1\n",
      "200 b'{\"ret\":200,\"data\":{\"trackId\":370047340,\"canPlay\":true,\"isPaid\":false,\"hasBuy\":true,\"src\":\"https://aod.cos.tx.xmcdn.com/storages/b04f-audiofreehighqps/AB/B9/CMCoOSADrjSIAB4mWABxfvm2.m4a\",\"albumIsSample\":false,\"sampleDuration\":73,\"isBaiduMusic\":false,\"firstPlayStatus\":true,\"isVipFree\":false,\"isXimiAhead\":false,\"isAlbumTimeLimited\":false,\"ximiVipFreeType\":0}}'\n",
      "OK!!!\n",
      "https://www.ximalaya.com/revision/play/v1/audio?id=369736607&ptype=1\n",
      "200 b'{\"ret\":200,\"data\":{\"trackId\":369736607,\"canPlay\":true,\"isPaid\":false,\"hasBuy\":true,\"src\":\"https://aod.cos.tx.xmcdn.com/storages/4599-audiofreehighqps/FF/FC/CMCoOSEDrOeQAB7E8ABxH2rt.m4a\",\"albumIsSample\":false,\"sampleDuration\":74,\"isBaiduMusic\":false,\"firstPlayStatus\":true,\"isVipFree\":false,\"isXimiAhead\":false,\"isAlbumTimeLimited\":false,\"ximiVipFreeType\":0}}'\n",
      "OK!!!\n",
      "https://www.ximalaya.com/revision/play/v1/audio?id=369413724&ptype=1\n",
      "200 b'{\"ret\":200,\"data\":{\"trackId\":369413724,\"canPlay\":true,\"isPaid\":false,\"hasBuy\":true,\"src\":\"https://aod.cos.tx.xmcdn.com/storages/1dc5-audiofreehighqps/92/AC/CMCoOSADrN0XACPopQBxHL9M.m4a\",\"albumIsSample\":false,\"sampleDuration\":87,\"isBaiduMusic\":false,\"firstPlayStatus\":true,\"isVipFree\":false,\"isXimiAhead\":false,\"isAlbumTimeLimited\":false,\"ximiVipFreeType\":0}}'\n",
      "OK!!!\n",
      "https://www.ximalaya.com/revision/play/v1/audio?id=369127760&ptype=1\n",
      "200 b'{\"ret\":200,\"data\":{\"trackId\":369127760,\"canPlay\":true,\"isPaid\":false,\"hasBuy\":true,\"src\":\"https://aod.cos.tx.xmcdn.com/storages/aa24-audiofreehighqps/36/E0/CMCoOSEDrN0SACHpoABxHL4q.m4a\",\"albumIsSample\":false,\"sampleDuration\":82,\"isBaiduMusic\":false,\"firstPlayStatus\":true,\"isVipFree\":false,\"isXimiAhead\":false,\"isAlbumTimeLimited\":false,\"ximiVipFreeType\":0}}'\n",
      "OK!!!\n",
      "https://www.ximalaya.com/revision/play/v1/audio?id=368818536&ptype=1\n",
      "200 b'{\"ret\":200,\"data\":{\"trackId\":368818536,\"canPlay\":true,\"isPaid\":false,\"hasBuy\":true,\"src\":\"https://aod.cos.tx.xmcdn.com/storages/a883-audiofreehighqps/B3/C7/CMCoOR8DrN0LACC7IwBxHLx1.m4a\",\"albumIsSample\":false,\"sampleDuration\":79,\"isBaiduMusic\":false,\"firstPlayStatus\":true,\"isVipFree\":false,\"isXimiAhead\":false,\"isAlbumTimeLimited\":false,\"ximiVipFreeType\":0}}'\n",
      "OK!!!\n",
      "https://www.ximalaya.com/revision/play/v1/audio?id=368532658&ptype=1\n",
      "200 b'{\"ret\":200,\"data\":{\"trackId\":368532658,\"canPlay\":true,\"isPaid\":false,\"hasBuy\":true,\"src\":\"https://aod.cos.tx.xmcdn.com/storages/5af5-audiofreehighqps/02/3B/CMCoOSADp6DuAB0eBgBv3-mn.m4a\",\"albumIsSample\":false,\"sampleDuration\":70,\"isBaiduMusic\":false,\"firstPlayStatus\":true,\"isVipFree\":false,\"isXimiAhead\":false,\"isAlbumTimeLimited\":false,\"ximiVipFreeType\":0}}'\n",
      "OK!!!\n",
      "https://www.ximalaya.com/revision/play/v1/audio?id=368226505&ptype=1\n",
      "200 b'{\"ret\":200,\"data\":{\"trackId\":368226505,\"canPlay\":true,\"isPaid\":false,\"hasBuy\":true,\"src\":\"https://aod.cos.tx.xmcdn.com/storages/96b1-audiofreehighqps/38/58/CMCoOSUDp6DsACWJsQBv3-kJ.m4a\",\"albumIsSample\":false,\"sampleDuration\":90,\"isBaiduMusic\":false,\"firstPlayStatus\":true,\"isVipFree\":false,\"isXimiAhead\":false,\"isAlbumTimeLimited\":false,\"ximiVipFreeType\":0}}'\n",
      "OK!!!\n",
      "https://www.ximalaya.com/revision/play/v1/audio?id=367907217&ptype=1\n",
      "200 b'{\"ret\":200,\"data\":{\"trackId\":367907217,\"canPlay\":true,\"isPaid\":false,\"hasBuy\":true,\"src\":\"https://aod.cos.tx.xmcdn.com/storages/c3c7-audiofreehighqps/A3/59/CMCoOSADp6DpABynFQBv3-gF.m4a\",\"albumIsSample\":false,\"sampleDuration\":69,\"isBaiduMusic\":false,\"firstPlayStatus\":true,\"isVipFree\":false,\"isXimiAhead\":false,\"isAlbumTimeLimited\":false,\"ximiVipFreeType\":0}}'\n",
      "OK!!!\n",
      "https://www.ximalaya.com/revision/play/v1/audio?id=367580951&ptype=1\n",
      "200 b'{\"ret\":200,\"data\":{\"trackId\":367580951,\"canPlay\":true,\"isPaid\":false,\"hasBuy\":true,\"src\":\"https://aod.cos.tx.xmcdn.com/storages/7512-audiofreehighqps/71/1F/CMCoOScDpks7AB8tMgBvhcTs.m4a\",\"albumIsSample\":false,\"sampleDuration\":75,\"isBaiduMusic\":false,\"firstPlayStatus\":true,\"isVipFree\":false,\"isXimiAhead\":false,\"isAlbumTimeLimited\":false,\"ximiVipFreeType\":0}}'\n",
      "OK!!!\n",
      "https://www.ximalaya.com/revision/play/v1/audio?id=367254140&ptype=1\n",
      "200 b'{\"ret\":200,\"data\":{\"trackId\":367254140,\"canPlay\":true,\"isPaid\":false,\"hasBuy\":true,\"src\":\"https://aod.cos.tx.xmcdn.com/storages/082a-audiofreehighqps/36/35/CMCoOSEDpks3AB_05ABvhcQh.m4a\",\"albumIsSample\":false,\"sampleDuration\":77,\"isBaiduMusic\":false,\"firstPlayStatus\":true,\"isVipFree\":false,\"isXimiAhead\":false,\"isAlbumTimeLimited\":false,\"ximiVipFreeType\":0}}'\n",
      "OK!!!\n",
      "https://www.ximalaya.com/revision/play/v1/audio?id=366962168&ptype=1\n",
      "200 b'{\"ret\":200,\"data\":{\"trackId\":366962168,\"canPlay\":true,\"isPaid\":false,\"hasBuy\":true,\"src\":\"https://aod.cos.tx.xmcdn.com/storages/169a-audiofreehighqps/8C/8C/CMCoOSIDpkszAB_THwBvhcMO.m4a\",\"albumIsSample\":false,\"sampleDuration\":77,\"isBaiduMusic\":false,\"firstPlayStatus\":true,\"isVipFree\":false,\"isXimiAhead\":false,\"isAlbumTimeLimited\":false,\"ximiVipFreeType\":0}}'\n",
      "OK!!!\n",
      "https://www.ximalaya.com/revision/play/v1/audio?id=366650017&ptype=1\n",
      "200 b'{\"ret\":200,\"data\":{\"trackId\":366650017,\"canPlay\":true,\"isPaid\":false,\"hasBuy\":true,\"src\":\"https://aod.cos.tx.xmcdn.com/storages/78df-audiofreehighqps/05/A5/CMCoOScDpOm0ABfBCABvIsXP.m4a\",\"albumIsSample\":false,\"sampleDuration\":57,\"isBaiduMusic\":false,\"firstPlayStatus\":true,\"isVipFree\":false,\"isXimiAhead\":false,\"isAlbumTimeLimited\":false,\"ximiVipFreeType\":0}}'\n",
      "OK!!!\n",
      "https://www.ximalaya.com/revision/play/v1/audio?id=366347818&ptype=1\n",
      "200 b'{\"ret\":200,\"data\":{\"trackId\":366347818,\"canPlay\":true,\"isPaid\":false,\"hasBuy\":true,\"src\":\"https://aod.cos.tx.xmcdn.com/storages/59e8-audiofreehighqps/C8/F2/CMCoOSEDpOmwAB7w_QBvIsUM.m4a\",\"albumIsSample\":false,\"sampleDuration\":75,\"isBaiduMusic\":false,\"firstPlayStatus\":true,\"isVipFree\":false,\"isXimiAhead\":false,\"isAlbumTimeLimited\":false,\"ximiVipFreeType\":0}}'\n",
      "OK!!!\n",
      "https://www.ximalaya.com/revision/play/v1/audio?id=366017905&ptype=1\n",
      "200 b'{\"ret\":200,\"data\":{\"trackId\":366017905,\"canPlay\":true,\"isPaid\":false,\"hasBuy\":true,\"src\":\"https://aod.cos.tx.xmcdn.com/storages/8bf8-audiofreehighqps/42/DD/CMCoOSIDo6wSACz11wBuxLhb.m4a\",\"albumIsSample\":false,\"sampleDuration\":90,\"isBaiduMusic\":false,\"firstPlayStatus\":true,\"isVipFree\":false,\"isXimiAhead\":false,\"isAlbumTimeLimited\":false,\"ximiVipFreeType\":0}}'\n",
      "OK!!!\n",
      "https://www.ximalaya.com/revision/play/v1/audio?id=365676768&ptype=1\n"
     ]
    },
    {
     "name": "stdout",
     "output_type": "stream",
     "text": [
      "200 b'{\"ret\":200,\"data\":{\"trackId\":365676768,\"canPlay\":true,\"isPaid\":false,\"hasBuy\":true,\"src\":\"https://aod.cos.tx.xmcdn.com/storages/cea1-audiofreehighqps/DC/D2/CMCoOSMDo6wKACWA3wBuxLZF.m4a\",\"albumIsSample\":false,\"sampleDuration\":90,\"isBaiduMusic\":false,\"firstPlayStatus\":true,\"isVipFree\":false,\"isXimiAhead\":false,\"isAlbumTimeLimited\":false,\"ximiVipFreeType\":0}}'\n",
      "OK!!!\n",
      "https://www.ximalaya.com/revision/play/v1/audio?id=365340440&ptype=1\n",
      "200 b'{\"ret\":200,\"data\":{\"trackId\":365340440,\"canPlay\":true,\"isPaid\":false,\"hasBuy\":true,\"src\":\"https://aod.cos.tx.xmcdn.com/storages/6537-audiofreehighqps/76/35/CMCoOSEDmnP-ABtPdgBsVc4t.m4a\",\"albumIsSample\":false,\"sampleDuration\":66,\"isBaiduMusic\":false,\"firstPlayStatus\":true,\"isVipFree\":false,\"isXimiAhead\":false,\"isAlbumTimeLimited\":false,\"ximiVipFreeType\":0}}'\n",
      "OK!!!\n",
      "https://www.ximalaya.com/revision/play/v1/audio?id=365002335&ptype=1\n",
      "200 b'{\"ret\":200,\"data\":{\"trackId\":365002335,\"canPlay\":true,\"isPaid\":false,\"hasBuy\":true,\"src\":\"https://aod.cos.tx.xmcdn.com/storages/4ba8-audiofreehighqps/27/7D/CMCoOR8DmnPrACLI1wBsVciG.m4a\",\"albumIsSample\":false,\"sampleDuration\":84,\"isBaiduMusic\":false,\"firstPlayStatus\":true,\"isVipFree\":false,\"isXimiAhead\":false,\"isAlbumTimeLimited\":false,\"ximiVipFreeType\":0}}'\n",
      "OK!!!\n",
      "https://www.ximalaya.com/revision/play/v1/audio?id=364694857&ptype=1\n",
      "200 b'{\"ret\":200,\"data\":{\"trackId\":364694857,\"canPlay\":true,\"isPaid\":false,\"hasBuy\":true,\"src\":\"https://aod.cos.tx.xmcdn.com/storages/d0b5-audiofreehighqps/F8/A7/CMCoOSIDlRWLAB4DFwBq8mtr.m4a\",\"albumIsSample\":false,\"sampleDuration\":72,\"isBaiduMusic\":false,\"firstPlayStatus\":true,\"isVipFree\":false,\"isXimiAhead\":false,\"isAlbumTimeLimited\":false,\"ximiVipFreeType\":0}}'\n",
      "OK!!!\n",
      "https://www.ximalaya.com/revision/play/v1/audio?id=364368473&ptype=1\n",
      "200 b'{\"ret\":200,\"data\":{\"trackId\":364368473,\"canPlay\":true,\"isPaid\":false,\"hasBuy\":true,\"src\":\"https://aod.cos.tx.xmcdn.com/storages/28aa-audiofreehighqps/CE/DB/CMCoOSADlRWJAB8BJABq8mrg.m4a\",\"albumIsSample\":false,\"sampleDuration\":75,\"isBaiduMusic\":false,\"firstPlayStatus\":true,\"isVipFree\":false,\"isXimiAhead\":false,\"isAlbumTimeLimited\":false,\"ximiVipFreeType\":0}}'\n",
      "OK!!!\n",
      "https://www.ximalaya.com/revision/play/v1/audio?id=364063419&ptype=1\n",
      "200 b'{\"ret\":200,\"data\":{\"trackId\":364063419,\"canPlay\":true,\"isPaid\":false,\"hasBuy\":true,\"src\":\"https://aod.cos.tx.xmcdn.com/storages/97f9-audiofreehighqps/02/DB/CMCoOSUDlRWKAB5cqgBq8msa.m4a\",\"albumIsSample\":false,\"sampleDuration\":73,\"isBaiduMusic\":false,\"firstPlayStatus\":true,\"isVipFree\":false,\"isXimiAhead\":false,\"isAlbumTimeLimited\":false,\"ximiVipFreeType\":0}}'\n",
      "OK!!!\n",
      "https://www.ximalaya.com/revision/play/v1/audio?id=363729319&ptype=1\n",
      "200 b'{\"ret\":200,\"data\":{\"trackId\":363729319,\"canPlay\":true,\"isPaid\":false,\"hasBuy\":true,\"src\":\"https://aod.cos.tx.xmcdn.com/storages/c77f-audiofreehighqps/CC/0B/CMCoOSQDlRWJACIRRwBq8mrT.m4a\",\"albumIsSample\":false,\"sampleDuration\":82,\"isBaiduMusic\":false,\"firstPlayStatus\":true,\"isVipFree\":false,\"isXimiAhead\":false,\"isAlbumTimeLimited\":false,\"ximiVipFreeType\":0}}'\n",
      "OK!!!\n",
      "https://www.ximalaya.com/revision/play/v1/audio?id=363392273&ptype=1\n",
      "200 b'{\"ret\":200,\"data\":{\"trackId\":363392273,\"canPlay\":true,\"isPaid\":false,\"hasBuy\":true,\"src\":\"https://aod.cos.tx.xmcdn.com/storages/d649-audiofreehighqps/0C/DB/CMCoOSYDk9pEAB18AABqkQSe.m4a\",\"albumIsSample\":false,\"sampleDuration\":71,\"isBaiduMusic\":false,\"firstPlayStatus\":true,\"isVipFree\":false,\"isXimiAhead\":false,\"isAlbumTimeLimited\":false,\"ximiVipFreeType\":0}}'\n",
      "OK!!!\n",
      "https://www.ximalaya.com/revision/play/v1/audio?id=363055318&ptype=1\n",
      "200 b'{\"ret\":200,\"data\":{\"trackId\":363055318,\"canPlay\":true,\"isPaid\":false,\"hasBuy\":true,\"src\":\"https://aod.cos.tx.xmcdn.com/storages/bd44-audiofreehighqps/3F/4B/CMCoOR4Dk9pBABOqCwBqkQPP.m4a\",\"albumIsSample\":false,\"sampleDuration\":47,\"isBaiduMusic\":false,\"firstPlayStatus\":true,\"isVipFree\":false,\"isXimiAhead\":false,\"isAlbumTimeLimited\":false,\"ximiVipFreeType\":0}}'\n",
      "OK!!!\n",
      "https://www.ximalaya.com/revision/play/v1/audio?id=362718065&ptype=1\n",
      "200 b'{\"ret\":200,\"data\":{\"trackId\":362718065,\"canPlay\":true,\"isPaid\":false,\"hasBuy\":true,\"src\":\"https://aod.cos.tx.xmcdn.com/storages/d86e-audiofreehighqps/F0/81/CMCoOSYDk9pCAB1CugBqkQQa.m4a\",\"albumIsSample\":false,\"sampleDuration\":70,\"isBaiduMusic\":false,\"firstPlayStatus\":true,\"isVipFree\":false,\"isXimiAhead\":false,\"isAlbumTimeLimited\":false,\"ximiVipFreeType\":0}}'\n",
      "OK!!!\n",
      "https://www.ximalaya.com/revision/play/v1/audio?id=362410112&ptype=1\n",
      "200 b'{\"ret\":200,\"data\":{\"trackId\":362410112,\"canPlay\":true,\"isPaid\":false,\"hasBuy\":true,\"src\":\"https://aod.cos.tx.xmcdn.com/storages/c04a-audiofreehighqps/40/E7/CMCoOSUDk9o_ABgsPQBqkQN4.m4a\",\"albumIsSample\":false,\"sampleDuration\":58,\"isBaiduMusic\":false,\"firstPlayStatus\":true,\"isVipFree\":false,\"isXimiAhead\":false,\"isAlbumTimeLimited\":false,\"ximiVipFreeType\":0}}'\n",
      "OK!!!\n",
      "https://www.ximalaya.com/revision/play/v1/audio?id=362089146&ptype=1\n",
      "200 b'{\"ret\":200,\"data\":{\"trackId\":362089146,\"canPlay\":true,\"isPaid\":false,\"hasBuy\":true,\"src\":\"https://aod.cos.tx.xmcdn.com/storages/14d9-audiofreehighqps/06/17/CMCoOSQDkmwzABx99wBqJadP.m4a\",\"albumIsSample\":false,\"sampleDuration\":69,\"isBaiduMusic\":false,\"firstPlayStatus\":true,\"isVipFree\":false,\"isXimiAhead\":false,\"isAlbumTimeLimited\":false,\"ximiVipFreeType\":0}}'\n",
      "OK!!!\n",
      "https://www.ximalaya.com/revision/play/v1/audio?id=361779379&ptype=1\n",
      "200 b'{\"ret\":200,\"data\":{\"trackId\":361779379,\"canPlay\":true,\"isPaid\":false,\"hasBuy\":true,\"src\":\"https://aod.cos.tx.xmcdn.com/storages/9f92-audiofreehighqps/F9/6D/CMCoOR4DkmwzACcvHwBqJacw.m4a\",\"albumIsSample\":false,\"sampleDuration\":90,\"isBaiduMusic\":false,\"firstPlayStatus\":true,\"isVipFree\":false,\"isXimiAhead\":false,\"isAlbumTimeLimited\":false,\"ximiVipFreeType\":0}}'\n",
      "OK!!!\n",
      "https://www.ximalaya.com/revision/play/v1/audio?id=361436243&ptype=1\n",
      "200 b'{\"ret\":200,\"data\":{\"trackId\":361436243,\"canPlay\":true,\"isPaid\":false,\"hasBuy\":true,\"src\":\"https://aod.cos.tx.xmcdn.com/storages/c0fa-audiofreehighqps/28/FF/CMCoOR4DkSGsAB3f2wBpxEbZ.m4a\",\"albumIsSample\":false,\"sampleDuration\":72,\"isBaiduMusic\":false,\"firstPlayStatus\":true,\"isVipFree\":false,\"isXimiAhead\":false,\"isAlbumTimeLimited\":false,\"ximiVipFreeType\":0}}'\n",
      "OK!!!\n",
      "https://www.ximalaya.com/revision/play/v1/audio?id=361096391&ptype=1\n",
      "200 b'{\"ret\":200,\"data\":{\"trackId\":361096391,\"canPlay\":true,\"isPaid\":false,\"hasBuy\":true,\"src\":\"https://aod.cos.tx.xmcdn.com/storages/c25d-audiofreehighqps/BC/87/CMCoOSEDkSGrACA56gBpxEbB.m4a\",\"albumIsSample\":false,\"sampleDuration\":78,\"isBaiduMusic\":false,\"firstPlayStatus\":true,\"isVipFree\":false,\"isXimiAhead\":false,\"isAlbumTimeLimited\":false,\"ximiVipFreeType\":0}}'\n",
      "OK!!!\n",
      "https://www.ximalaya.com/revision/play/v1/audio?id=360750805&ptype=1\n",
      "200 b'{\"ret\":200,\"data\":{\"trackId\":360750805,\"canPlay\":true,\"isPaid\":false,\"hasBuy\":true,\"src\":\"https://aod.cos.tx.xmcdn.com/storages/5b49-audiofreehighqps/EA/C5/CMCoOR8DkSGnABf6TQBpxEXK.m4a\",\"albumIsSample\":false,\"sampleDuration\":58,\"isBaiduMusic\":false,\"firstPlayStatus\":true,\"isVipFree\":false,\"isXimiAhead\":false,\"isAlbumTimeLimited\":false,\"ximiVipFreeType\":0}}'\n",
      "OK!!!\n",
      "https://www.ximalaya.com/revision/play/v1/audio?id=360409162&ptype=1\n",
      "200 b'{\"ret\":200,\"data\":{\"trackId\":360409162,\"canPlay\":true,\"isPaid\":false,\"hasBuy\":true,\"src\":\"https://aod.cos.tx.xmcdn.com/storages/7ebf-audiofreehighqps/B4/70/CMCoOScDkSGpACBnbwBpxEYZ.m4a\",\"albumIsSample\":false,\"sampleDuration\":78,\"isBaiduMusic\":false,\"firstPlayStatus\":true,\"isVipFree\":false,\"isXimiAhead\":false,\"isAlbumTimeLimited\":false,\"ximiVipFreeType\":0}}'\n",
      "OK!!!\n",
      "https://www.ximalaya.com/revision/play/v1/audio?id=360111563&ptype=1\n",
      "200 b'{\"ret\":200,\"data\":{\"trackId\":360111563,\"canPlay\":true,\"isPaid\":false,\"hasBuy\":true,\"src\":\"https://aod.cos.tx.xmcdn.com/storages/bc9e-audiofreehighqps/1E/52/CMCoOSADkSGkABa-mABpxEUO.m4a\",\"albumIsSample\":false,\"sampleDuration\":55,\"isBaiduMusic\":false,\"firstPlayStatus\":true,\"isVipFree\":false,\"isXimiAhead\":false,\"isAlbumTimeLimited\":false,\"ximiVipFreeType\":0}}'\n",
      "OK!!!\n",
      "https://www.ximalaya.com/revision/play/v1/audio?id=359812036&ptype=1\n",
      "200 b'{\"ret\":200,\"data\":{\"trackId\":359812036,\"canPlay\":true,\"isPaid\":false,\"hasBuy\":true,\"src\":\"https://aod.cos.tx.xmcdn.com/storages/cf8d-audiofreehighqps/F7/55/CMCoOSMDjT2sABwaGwBo1zF8.m4a\",\"albumIsSample\":false,\"sampleDuration\":68,\"isBaiduMusic\":false,\"firstPlayStatus\":true,\"isVipFree\":false,\"isXimiAhead\":false,\"isAlbumTimeLimited\":false,\"ximiVipFreeType\":0}}'\n",
      "OK!!!\n",
      "https://www.ximalaya.com/revision/play/v1/audio?id=359505255&ptype=1\n"
     ]
    },
    {
     "name": "stdout",
     "output_type": "stream",
     "text": [
      "200 b'{\"ret\":200,\"data\":{\"trackId\":359505255,\"canPlay\":true,\"isPaid\":false,\"hasBuy\":true,\"src\":\"https://aod.cos.tx.xmcdn.com/storages/96b5-audiofreehighqps/B8/19/CMCoOSADjT2sACPJzwBo1zFw.m4a\",\"albumIsSample\":false,\"sampleDuration\":86,\"isBaiduMusic\":false,\"firstPlayStatus\":true,\"isVipFree\":false,\"isXimiAhead\":false,\"isAlbumTimeLimited\":false,\"ximiVipFreeType\":0}}'\n",
      "OK!!!\n",
      "https://www.ximalaya.com/revision/play/v1/audio?id=359171072&ptype=1\n",
      "200 b'{\"ret\":200,\"data\":{\"trackId\":359171072,\"canPlay\":true,\"isPaid\":false,\"hasBuy\":true,\"src\":\"https://aod.cos.tx.xmcdn.com/storages/74a5-audiofreehighqps/42/E5/CMCoOSADjT2pABbdbgBo1zCj.m4a\",\"albumIsSample\":false,\"sampleDuration\":55,\"isBaiduMusic\":false,\"firstPlayStatus\":true,\"isVipFree\":false,\"isXimiAhead\":false,\"isAlbumTimeLimited\":false,\"ximiVipFreeType\":0}}'\n",
      "OK!!!\n",
      "https://www.ximalaya.com/revision/play/v1/audio?id=358830516&ptype=1\n",
      "200 b'{\"ret\":200,\"data\":{\"trackId\":358830516,\"canPlay\":true,\"isPaid\":false,\"hasBuy\":true,\"src\":\"https://aod.cos.tx.xmcdn.com/storages/feee-audiofreehighqps/A3/FA/CMCoOSADjT2nABne4gBo1y_w.m4a\",\"albumIsSample\":false,\"sampleDuration\":62,\"isBaiduMusic\":false,\"firstPlayStatus\":true,\"isVipFree\":false,\"isXimiAhead\":false,\"isAlbumTimeLimited\":false,\"ximiVipFreeType\":0}}'\n",
      "OK!!!\n",
      "https://www.ximalaya.com/revision/play/v1/audio?id=358484642&ptype=1\n",
      "200 b'{\"ret\":200,\"data\":{\"trackId\":358484642,\"canPlay\":true,\"isPaid\":false,\"hasBuy\":true,\"src\":\"https://aod.cos.tx.xmcdn.com/storages/72c5-audiofreehighqps/84/18/CMCoOR4DjT2kABLrJQBo1y7l.m4a\",\"albumIsSample\":false,\"sampleDuration\":45,\"isBaiduMusic\":false,\"firstPlayStatus\":true,\"isVipFree\":false,\"isXimiAhead\":false,\"isAlbumTimeLimited\":false,\"ximiVipFreeType\":0}}'\n",
      "OK!!!\n",
      "https://www.ximalaya.com/revision/play/v1/audio?id=358139827&ptype=1\n",
      "200 b'{\"ret\":200,\"data\":{\"trackId\":358139827,\"canPlay\":true,\"isPaid\":false,\"hasBuy\":true,\"src\":\"https://aod.cos.tx.xmcdn.com/storages/1ec7-audiofreehighqps/D0/92/CMCoOSEDjT2mACC7IwBo1y-y.m4a\",\"albumIsSample\":false,\"sampleDuration\":79,\"isBaiduMusic\":false,\"firstPlayStatus\":true,\"isVipFree\":false,\"isXimiAhead\":false,\"isAlbumTimeLimited\":false,\"ximiVipFreeType\":0}}'\n",
      "OK!!!\n",
      "https://www.ximalaya.com/revision/play/v1/audio?id=357835315&ptype=1\n",
      "200 b'{\"ret\":200,\"data\":{\"trackId\":357835315,\"canPlay\":true,\"isPaid\":false,\"hasBuy\":true,\"src\":\"https://aod.cos.tx.xmcdn.com/storages/069f-audiofreehighqps/D1/58/CMCoOR8DjT2kAB1XTABo1y7w.m4a\",\"albumIsSample\":false,\"sampleDuration\":71,\"isBaiduMusic\":false,\"firstPlayStatus\":true,\"isVipFree\":false,\"isXimiAhead\":false,\"isAlbumTimeLimited\":false,\"ximiVipFreeType\":0}}'\n",
      "OK!!!\n",
      "https://www.ximalaya.com/revision/play/v1/audio?id=357512503&ptype=1\n",
      "200 b'{\"ret\":200,\"data\":{\"trackId\":357512503,\"canPlay\":true,\"isPaid\":false,\"hasBuy\":true,\"src\":\"https://aod.cos.tx.xmcdn.com/storages/bcc6-audiofreehighqps/5A/DB/CMCoOSQDi_IsACE38wBofvNQ.m4a\",\"albumIsSample\":false,\"sampleDuration\":80,\"isBaiduMusic\":false,\"firstPlayStatus\":true,\"isVipFree\":false,\"isXimiAhead\":false,\"isAlbumTimeLimited\":false,\"ximiVipFreeType\":0}}'\n",
      "OK!!!\n",
      "https://www.ximalaya.com/revision/play/v1/audio?id=356861685&ptype=1\n",
      "200 b'{\"ret\":200,\"data\":{\"trackId\":356861685,\"canPlay\":true,\"isPaid\":false,\"hasBuy\":true,\"src\":\"https://aod.cos.tx.xmcdn.com/storages/43a4-audiofreehighqps/26/2F/CMCoOSIDi_IsACpsywBofvNj.m4a\",\"albumIsSample\":false,\"sampleDuration\":90,\"isBaiduMusic\":false,\"firstPlayStatus\":true,\"isVipFree\":false,\"isXimiAhead\":false,\"isAlbumTimeLimited\":false,\"ximiVipFreeType\":0}}'\n",
      "OK!!!\n",
      "https://www.ximalaya.com/revision/play/v1/audio?id=357155453&ptype=1\n",
      "200 b'{\"ret\":200,\"data\":{\"trackId\":357155453,\"canPlay\":true,\"isPaid\":false,\"hasBuy\":true,\"src\":\"https://aod.cos.tx.xmcdn.com/storages/dd3e-audiofreehighqps/EA/9A/CMCoOSMDjTz8ABmZ3QBo1wi6.m4a\",\"albumIsSample\":false,\"sampleDuration\":62,\"isBaiduMusic\":false,\"firstPlayStatus\":true,\"isVipFree\":false,\"isXimiAhead\":false,\"isAlbumTimeLimited\":false,\"ximiVipFreeType\":0}}'\n",
      "OK!!!\n",
      "https://www.ximalaya.com/revision/play/v1/audio?id=356528510&ptype=1\n",
      "200 b'{\"ret\":200,\"data\":{\"trackId\":356528510,\"canPlay\":true,\"isPaid\":false,\"hasBuy\":true,\"src\":\"https://aod.cos.tx.xmcdn.com/storages/6a12-audiofreehighqps/07/97/CMCoOSYDiqKaAB5GpQBoJDae.m4a\",\"albumIsSample\":false,\"sampleDuration\":73,\"isBaiduMusic\":false,\"firstPlayStatus\":true,\"isVipFree\":false,\"isXimiAhead\":false,\"isAlbumTimeLimited\":false,\"ximiVipFreeType\":0}}'\n",
      "OK!!!\n",
      "https://www.ximalaya.com/revision/play/v1/audio?id=356124091&ptype=1\n",
      "200 b'{\"ret\":200,\"data\":{\"trackId\":356124091,\"canPlay\":true,\"isPaid\":false,\"hasBuy\":true,\"src\":\"https://aod.cos.tx.xmcdn.com/storages/b403-audiofreehighqps/68/FC/CMCoOR8DiT7PAB2WbwBnwd4r.m4a\",\"albumIsSample\":false,\"sampleDuration\":71,\"isBaiduMusic\":false,\"firstPlayStatus\":true,\"isVipFree\":false,\"isXimiAhead\":false,\"isAlbumTimeLimited\":false,\"ximiVipFreeType\":0}}'\n",
      "OK!!!\n",
      "https://www.ximalaya.com/revision/play/v1/audio?id=356123944&ptype=1\n",
      "200 b'{\"ret\":200,\"data\":{\"trackId\":356123944,\"canPlay\":true,\"isPaid\":false,\"hasBuy\":true,\"src\":\"https://aod.cos.tx.xmcdn.com/storages/f80f-audiofreehighqps/94/FD/CMCoOR4DiT6kAB9dpgBnwdSb.m4a\",\"albumIsSample\":false,\"sampleDuration\":76,\"isBaiduMusic\":false,\"firstPlayStatus\":true,\"isVipFree\":false,\"isXimiAhead\":false,\"isAlbumTimeLimited\":false,\"ximiVipFreeType\":0}}'\n",
      "OK!!!\n",
      "https://www.ximalaya.com/revision/play/v1/audio?id=356123890&ptype=1\n",
      "200 b'{\"ret\":200,\"data\":{\"trackId\":356123890,\"canPlay\":true,\"isPaid\":false,\"hasBuy\":true,\"src\":\"https://aod.cos.tx.xmcdn.com/storages/bd97-audiofreehighqps/A7/A3/CMCoOSIDiT6RABuQFQBnwdFy.m4a\",\"albumIsSample\":false,\"sampleDuration\":66,\"isBaiduMusic\":false,\"firstPlayStatus\":true,\"isVipFree\":false,\"isXimiAhead\":false,\"isAlbumTimeLimited\":false,\"ximiVipFreeType\":0}}'\n",
      "OK!!!\n",
      "https://www.ximalaya.com/revision/play/v1/audio?id=356123835&ptype=1\n",
      "200 b'{\"ret\":200,\"data\":{\"trackId\":356123835,\"canPlay\":true,\"isPaid\":false,\"hasBuy\":true,\"src\":\"https://aod.cos.tx.xmcdn.com/storages/2c20-audiofreehighqps/75/CA/CMCoOR4DiT5_ACbJzABnwc2T.m4a\",\"albumIsSample\":false,\"sampleDuration\":90,\"isBaiduMusic\":false,\"firstPlayStatus\":true,\"isVipFree\":false,\"isXimiAhead\":false,\"isAlbumTimeLimited\":false,\"ximiVipFreeType\":0}}'\n",
      "OK!!!\n",
      "https://www.ximalaya.com/revision/play/v1/audio?id=356123785&ptype=1\n",
      "200 b'{\"ret\":200,\"data\":{\"trackId\":356123785,\"canPlay\":true,\"isPaid\":false,\"hasBuy\":true,\"src\":\"https://aod.cos.tx.xmcdn.com/storages/ccf0-audiofreehighqps/B3/23/CMCoOSEDiT5tACRp3wBnwcrb.m4a\",\"albumIsSample\":false,\"sampleDuration\":88,\"isBaiduMusic\":false,\"firstPlayStatus\":true,\"isVipFree\":false,\"isXimiAhead\":false,\"isAlbumTimeLimited\":false,\"ximiVipFreeType\":0}}'\n",
      "OK!!!\n",
      "https://www.ximalaya.com/revision/play/v1/audio?id=355784878&ptype=1\n",
      "200 b'{\"ret\":200,\"data\":{\"trackId\":355784878,\"canPlay\":true,\"isPaid\":false,\"hasBuy\":true,\"src\":\"https://aod.cos.tx.xmcdn.com/storages/4571-audiofreehighqps/0B/44/CMCoOR8DiADgACOPEgBnaN5_.m4a\",\"albumIsSample\":false,\"sampleDuration\":86,\"isBaiduMusic\":false,\"firstPlayStatus\":true,\"isVipFree\":false,\"isXimiAhead\":false,\"isAlbumTimeLimited\":false,\"ximiVipFreeType\":0}}'\n",
      "OK!!!\n",
      "https://www.ximalaya.com/revision/play/v1/audio?id=355784832&ptype=1\n",
      "200 b'{\"ret\":200,\"data\":{\"trackId\":355784832,\"canPlay\":true,\"isPaid\":false,\"hasBuy\":true,\"src\":\"https://aod.cos.tx.xmcdn.com/storages/464f-audiofreehighqps/EC/53/CMCoOSQDiADSACqERwBnaNq1.m4a\",\"albumIsSample\":false,\"sampleDuration\":90,\"isBaiduMusic\":false,\"firstPlayStatus\":true,\"isVipFree\":false,\"isXimiAhead\":false,\"isAlbumTimeLimited\":false,\"ximiVipFreeType\":0}}'\n",
      "OK!!!\n",
      "https://www.ximalaya.com/revision/play/v1/audio?id=355784766&ptype=1\n",
      "200 b'{\"ret\":200,\"data\":{\"trackId\":355784766,\"canPlay\":true,\"isPaid\":false,\"hasBuy\":true,\"src\":\"https://aod.cos.tx.xmcdn.com/storages/807a-audiofreehighqps/12/F5/CMCoOSMDiADBACBImQBnaNaC.m4a\",\"albumIsSample\":false,\"sampleDuration\":78,\"isBaiduMusic\":false,\"firstPlayStatus\":true,\"isVipFree\":false,\"isXimiAhead\":false,\"isAlbumTimeLimited\":false,\"ximiVipFreeType\":0}}'\n",
      "OK!!!\n",
      "https://www.ximalaya.com/revision/play/v1/audio?id=354858781&ptype=1\n",
      "200 b'{\"ret\":200,\"data\":{\"trackId\":354858781,\"canPlay\":true,\"isPaid\":false,\"hasBuy\":true,\"src\":\"https://aod.cos.tx.xmcdn.com/storages/3f69-audiofreehighqps/EB/9F/CMCoOSEDhAtRACWftQBmf7tg.m4a\",\"albumIsSample\":false,\"sampleDuration\":90,\"isBaiduMusic\":false,\"firstPlayStatus\":true,\"isVipFree\":false,\"isXimiAhead\":false,\"isAlbumTimeLimited\":false,\"ximiVipFreeType\":0}}'\n",
      "OK!!!\n",
      "https://www.ximalaya.com/revision/play/v1/audio?id=354858721&ptype=1\n",
      "200 b'{\"ret\":200,\"data\":{\"trackId\":354858721,\"canPlay\":true,\"isPaid\":false,\"hasBuy\":true,\"src\":\"https://aod.cos.tx.xmcdn.com/storages/3ec8-audiofreehighqps/CB/8D/CMCoOR8DhAtBABy9GgBmf7Z4.m4a\",\"albumIsSample\":false,\"sampleDuration\":69,\"isBaiduMusic\":false,\"firstPlayStatus\":true,\"isVipFree\":false,\"isXimiAhead\":false,\"isAlbumTimeLimited\":false,\"ximiVipFreeType\":0}}'\n",
      "OK!!!\n",
      "https://www.ximalaya.com/revision/play/v1/audio?id=354531546&ptype=1\n"
     ]
    },
    {
     "name": "stdout",
     "output_type": "stream",
     "text": [
      "200 b'{\"ret\":200,\"data\":{\"trackId\":354531546,\"canPlay\":true,\"isPaid\":false,\"hasBuy\":true,\"src\":\"https://aod.cos.tx.xmcdn.com/storages/f6d2-audiofreehighqps/AC/BA/CMCoOScDgrZ-ACAssgBmKUMA.m4a\",\"albumIsSample\":false,\"sampleDuration\":78,\"isBaiduMusic\":false,\"firstPlayStatus\":true,\"isVipFree\":false,\"isXimiAhead\":false,\"isAlbumTimeLimited\":false,\"ximiVipFreeType\":0}}'\n",
      "OK!!!\n",
      "https://www.ximalaya.com/revision/play/v1/audio?id=354531488&ptype=1\n",
      "200 b'{\"ret\":200,\"data\":{\"trackId\":354531488,\"canPlay\":true,\"isPaid\":false,\"hasBuy\":true,\"src\":\"https://aod.cos.tx.xmcdn.com/storages/6fe4-audiofreehighqps/44/47/CMCoOSADgrZsABg3-QBmKT5k.m4a\",\"albumIsSample\":false,\"sampleDuration\":58,\"isBaiduMusic\":false,\"firstPlayStatus\":true,\"isVipFree\":false,\"isXimiAhead\":false,\"isAlbumTimeLimited\":false,\"ximiVipFreeType\":0}}'\n",
      "OK!!!\n",
      "https://www.ximalaya.com/revision/play/v1/audio?id=354531437&ptype=1\n",
      "200 b'{\"ret\":200,\"data\":{\"trackId\":354531437,\"canPlay\":true,\"isPaid\":false,\"hasBuy\":true,\"src\":\"https://aod.cos.tx.xmcdn.com/storages/4110-audiofreehighqps/58/68/CMCoOSADgrZcABkwJABmKTtJ.m4a\",\"albumIsSample\":false,\"sampleDuration\":61,\"isBaiduMusic\":false,\"firstPlayStatus\":true,\"isVipFree\":false,\"isXimiAhead\":false,\"isAlbumTimeLimited\":false,\"ximiVipFreeType\":0}}'\n",
      "OK!!!\n",
      "https://www.ximalaya.com/revision/play/v1/audio?id=354531379&ptype=1\n",
      "200 b'{\"ret\":200,\"data\":{\"trackId\":354531379,\"canPlay\":true,\"isPaid\":false,\"hasBuy\":true,\"src\":\"https://aod.cos.tx.xmcdn.com/storages/ee1d-audiofreehighqps/1A/2F/CMCoOSIDgrZKACOgsQBmKTdA.m4a\",\"albumIsSample\":false,\"sampleDuration\":86,\"isBaiduMusic\":false,\"firstPlayStatus\":true,\"isVipFree\":false,\"isXimiAhead\":false,\"isAlbumTimeLimited\":false,\"ximiVipFreeType\":0}}'\n",
      "OK!!!\n"
     ]
    }
   ],
   "source": [
    "for it in items:\n",
    "    if 'link' not in it:\n",
    "        link = common.getDownloadLink(it['item_id'])\n",
    "        print('OK!!!')\n",
    "        it['link'] = link\n",
    "    else:\n",
    "        print(it)"
   ]
  },
  {
   "cell_type": "code",
   "execution_count": 7,
   "metadata": {},
   "outputs": [],
   "source": [
    "with open('download.sh', 'w') as fh:\n",
    "    fh.write(\"mkdir -p audio\\n\")\n",
    "    for it in items:\n",
    "        s = \"\"\"\n",
    "        if [ ! -f \"audio/{title}.m4a\" ]; then\n",
    "            wget \"{url}\" -O temp.m4a\n",
    "            mv temp.m4a \"audio/{title}.m4a\"\n",
    "        fi\n",
    "        \"\"\".format(title = it['title'], url = it['link'])\n",
    "        fh.write(s)"
   ]
  },
  {
   "cell_type": "code",
   "execution_count": null,
   "metadata": {},
   "outputs": [],
   "source": []
  }
 ],
 "metadata": {
  "kernelspec": {
   "display_name": "Python 3",
   "language": "python",
   "name": "python3"
  },
  "language_info": {
   "codemirror_mode": {
    "name": "ipython",
    "version": 3
   },
   "file_extension": ".py",
   "mimetype": "text/x-python",
   "name": "python",
   "nbconvert_exporter": "python",
   "pygments_lexer": "ipython3",
   "version": "3.7.7"
  }
 },
 "nbformat": 4,
 "nbformat_minor": 4
}
