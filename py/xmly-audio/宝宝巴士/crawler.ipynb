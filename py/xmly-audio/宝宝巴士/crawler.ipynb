{
 "cells": [
  {
   "cell_type": "code",
   "execution_count": null,
   "metadata": {},
   "outputs": [],
   "source": [
    "# !pip3 install beautifulsoup4\n",
    "# !pip3 install requests\n",
    "import sys\n",
    "sys.path.append('../')\n",
    "import common\n",
    "import imp\n",
    "imp.reload(common)"
   ]
  },
  {
   "cell_type": "code",
   "execution_count": null,
   "metadata": {},
   "outputs": [],
   "source": [
    "elements = []\n",
    "for i in range(1, 7+1):\n",
    "    inputFile = 'page{}.html'.format(i)\n",
    "    es = common.loadElements(inputFile)\n",
    "    elements.extend(es)\n",
    "items = [common.parseElement(x) for x in elements]"
   ]
  },
  {
   "cell_type": "code",
   "execution_count": null,
   "metadata": {},
   "outputs": [],
   "source": [
    "common.getDownloadLink('360821293')"
   ]
  },
  {
   "cell_type": "code",
   "execution_count": null,
   "metadata": {},
   "outputs": [],
   "source": [
    "len(items)"
   ]
  },
  {
   "cell_type": "code",
   "execution_count": null,
   "metadata": {},
   "outputs": [],
   "source": [
    "len(set([x['title'] for x in items]))"
   ]
  },
  {
   "cell_type": "code",
   "execution_count": null,
   "metadata": {},
   "outputs": [],
   "source": [
    "for it in items:\n",
    "    if 'link' not in it:\n",
    "        link = common.getDownloadLink(it['item_id'])\n",
    "        print('OK!!!')\n",
    "        it['link'] = link\n",
    "    else:\n",
    "        print(it)"
   ]
  },
  {
   "cell_type": "code",
   "execution_count": null,
   "metadata": {},
   "outputs": [],
   "source": [
    "with open('download.sh', 'w') as fh:\n",
    "    fh.write('mkdir -p audio\\n')\n",
    "    for it in items:\n",
    "        s = \"\"\"\n",
    "        if [ ! -f \"audio/{title}.m4a\" ]; then\n",
    "            wget \"{url}\" -O temp.m4a\n",
    "            mv temp.m4a \"audio/{title}.m4a\"\n",
    "        fi\n",
    "        \"\"\".format(title = it['title'], url = it['link'])\n",
    "        fh.write(s)"
   ]
  }
 ],
 "metadata": {
  "kernelspec": {
   "display_name": "Python 3",
   "language": "python",
   "name": "python3"
  },
  "language_info": {
   "codemirror_mode": {
    "name": "ipython",
    "version": 3
   },
   "file_extension": ".py",
   "mimetype": "text/x-python",
   "name": "python",
   "nbconvert_exporter": "python",
   "pygments_lexer": "ipython3",
   "version": "3.7.7"
  }
 },
 "nbformat": 4,
 "nbformat_minor": 4
}
