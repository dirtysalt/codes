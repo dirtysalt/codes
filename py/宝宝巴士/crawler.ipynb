{
 "cells": [
  {
   "cell_type": "code",
   "execution_count": 25,
   "metadata": {},
   "outputs": [],
   "source": [
    "import sys\n",
    "from bs4 import BeautifulSoup\n",
    "import functools\n",
    "import requests"
   ]
  },
  {
   "cell_type": "code",
   "execution_count": 66,
   "metadata": {},
   "outputs": [],
   "source": [
    "def loadElements(inputFile):\n",
    "    html = open(inputFile).read()\n",
    "    bs = BeautifulSoup(html)\n",
    "    elements = bs.select('#anchor_sound_list > div.sound-list._is > ul > li > div.text.lF_')\n",
    "    return elements"
   ]
  },
  {
   "cell_type": "code",
   "execution_count": 67,
   "metadata": {},
   "outputs": [],
   "source": [
    "elements = []\n",
    "for i in range(1, 7+1):\n",
    "    inputFile = 'page{}.html'.format(i)\n",
    "    es = loadElements(inputFile)\n",
    "    elements.extend(es)"
   ]
  },
  {
   "cell_type": "code",
   "execution_count": 69,
   "metadata": {},
   "outputs": [],
   "source": [
    "def parseElement(x):\n",
    "    y = next(x.children)\n",
    "    link = y.attrs['href']\n",
    "    title = y.text\n",
    "    item_id = link.split('/')[-1]\n",
    "    return {'item_id': item_id,'title':title}"
   ]
  },
  {
   "cell_type": "code",
   "execution_count": 70,
   "metadata": {},
   "outputs": [],
   "source": [
    "items = [parseElement(x) for x in elements]"
   ]
  },
  {
   "cell_type": "code",
   "execution_count": 71,
   "metadata": {},
   "outputs": [],
   "source": [
    "@functools.lru_cache()\n",
    "def getDownloadLink(item_id):\n",
    "    url = 'https://www.ximalaya.com/revision/play/v1/audio?id={}&ptype=1'.format(item_id)\n",
    "#     print(url)\n",
    "    r = requests.get(url, headers = {'User-Agent':'curl/7.54.0'})\n",
    "#     print(r.text, r.status_code)\n",
    "    link = r.json()['data']['src']\n",
    "    return link"
   ]
  },
  {
   "cell_type": "code",
   "execution_count": 72,
   "metadata": {},
   "outputs": [
    {
     "data": {
      "text/plain": [
       "'https://aod.cos.tx.xmcdn.com/storages/a177-audiofreehighqps/FC/A1/CMCoOSQDloqnABR3nwBrXce5.m4a'"
      ]
     },
     "execution_count": 72,
     "metadata": {},
     "output_type": "execute_result"
    }
   ],
   "source": [
    "getDownloadLink('360821293')"
   ]
  },
  {
   "cell_type": "code",
   "execution_count": 74,
   "metadata": {},
   "outputs": [
    {
     "data": {
      "text/plain": [
       "196"
      ]
     },
     "execution_count": 74,
     "metadata": {},
     "output_type": "execute_result"
    }
   ],
   "source": [
    "len(items)"
   ]
  },
  {
   "cell_type": "code",
   "execution_count": 76,
   "metadata": {},
   "outputs": [
    {
     "data": {
      "text/plain": [
       "196"
      ]
     },
     "execution_count": 76,
     "metadata": {},
     "output_type": "execute_result"
    }
   ],
   "source": [
    "len(set([x['title'] for x in items]))"
   ]
  },
  {
   "cell_type": "code",
   "execution_count": 73,
   "metadata": {},
   "outputs": [
    {
     "name": "stdout",
     "output_type": "stream",
     "text": [
      "OK!!!\n",
      "OK!!!\n",
      "OK!!!\n",
      "OK!!!\n",
      "OK!!!\n",
      "OK!!!\n",
      "OK!!!\n",
      "OK!!!\n",
      "OK!!!\n",
      "OK!!!\n",
      "OK!!!\n",
      "OK!!!\n",
      "OK!!!\n",
      "OK!!!\n",
      "OK!!!\n",
      "OK!!!\n",
      "OK!!!\n",
      "OK!!!\n",
      "OK!!!\n",
      "OK!!!\n",
      "OK!!!\n",
      "OK!!!\n",
      "OK!!!\n",
      "OK!!!\n",
      "OK!!!\n",
      "OK!!!\n",
      "OK!!!\n",
      "OK!!!\n",
      "OK!!!\n",
      "OK!!!\n",
      "OK!!!\n",
      "OK!!!\n",
      "OK!!!\n",
      "OK!!!\n",
      "OK!!!\n",
      "OK!!!\n",
      "OK!!!\n",
      "OK!!!\n",
      "OK!!!\n",
      "OK!!!\n",
      "OK!!!\n",
      "OK!!!\n",
      "OK!!!\n",
      "OK!!!\n",
      "OK!!!\n",
      "OK!!!\n",
      "OK!!!\n",
      "OK!!!\n",
      "OK!!!\n",
      "OK!!!\n",
      "OK!!!\n",
      "OK!!!\n",
      "OK!!!\n",
      "OK!!!\n",
      "OK!!!\n",
      "OK!!!\n",
      "OK!!!\n",
      "OK!!!\n",
      "OK!!!\n",
      "OK!!!\n",
      "OK!!!\n",
      "OK!!!\n",
      "OK!!!\n",
      "OK!!!\n",
      "OK!!!\n",
      "OK!!!\n",
      "OK!!!\n",
      "OK!!!\n",
      "OK!!!\n",
      "OK!!!\n",
      "OK!!!\n",
      "OK!!!\n",
      "OK!!!\n",
      "OK!!!\n",
      "OK!!!\n",
      "OK!!!\n",
      "OK!!!\n",
      "OK!!!\n",
      "OK!!!\n",
      "OK!!!\n",
      "OK!!!\n",
      "OK!!!\n",
      "OK!!!\n",
      "OK!!!\n",
      "OK!!!\n",
      "OK!!!\n",
      "OK!!!\n",
      "OK!!!\n",
      "OK!!!\n",
      "OK!!!\n",
      "OK!!!\n",
      "OK!!!\n",
      "OK!!!\n",
      "OK!!!\n",
      "OK!!!\n",
      "OK!!!\n",
      "OK!!!\n",
      "OK!!!\n",
      "OK!!!\n",
      "OK!!!\n",
      "OK!!!\n",
      "OK!!!\n",
      "OK!!!\n",
      "OK!!!\n",
      "OK!!!\n",
      "OK!!!\n",
      "OK!!!\n",
      "OK!!!\n",
      "OK!!!\n",
      "OK!!!\n",
      "OK!!!\n",
      "OK!!!\n",
      "OK!!!\n",
      "OK!!!\n",
      "OK!!!\n",
      "OK!!!\n",
      "OK!!!\n",
      "OK!!!\n",
      "OK!!!\n",
      "OK!!!\n",
      "OK!!!\n",
      "OK!!!\n",
      "OK!!!\n",
      "OK!!!\n",
      "OK!!!\n",
      "OK!!!\n",
      "OK!!!\n",
      "OK!!!\n",
      "OK!!!\n",
      "OK!!!\n",
      "OK!!!\n",
      "OK!!!\n",
      "OK!!!\n",
      "OK!!!\n",
      "OK!!!\n",
      "OK!!!\n",
      "OK!!!\n",
      "OK!!!\n",
      "OK!!!\n",
      "OK!!!\n",
      "OK!!!\n",
      "OK!!!\n",
      "OK!!!\n",
      "OK!!!\n",
      "OK!!!\n",
      "OK!!!\n",
      "OK!!!\n",
      "OK!!!\n",
      "OK!!!\n",
      "OK!!!\n",
      "OK!!!\n",
      "OK!!!\n",
      "OK!!!\n",
      "OK!!!\n",
      "OK!!!\n",
      "OK!!!\n",
      "OK!!!\n",
      "OK!!!\n",
      "OK!!!\n",
      "OK!!!\n",
      "OK!!!\n",
      "OK!!!\n",
      "OK!!!\n",
      "OK!!!\n",
      "OK!!!\n",
      "OK!!!\n",
      "OK!!!\n",
      "OK!!!\n",
      "OK!!!\n",
      "OK!!!\n",
      "OK!!!\n",
      "OK!!!\n",
      "OK!!!\n",
      "OK!!!\n",
      "OK!!!\n",
      "OK!!!\n",
      "OK!!!\n",
      "OK!!!\n",
      "OK!!!\n",
      "OK!!!\n",
      "OK!!!\n",
      "OK!!!\n",
      "OK!!!\n",
      "OK!!!\n",
      "OK!!!\n",
      "OK!!!\n",
      "OK!!!\n",
      "OK!!!\n",
      "OK!!!\n",
      "OK!!!\n",
      "OK!!!\n",
      "OK!!!\n",
      "OK!!!\n",
      "OK!!!\n",
      "OK!!!\n",
      "OK!!!\n"
     ]
    }
   ],
   "source": [
    "for it in items:\n",
    "    if 'link' not in it:\n",
    "        link = getDownloadLink(it['item_id'])\n",
    "        print('OK!!!')\n",
    "        it['link'] = link\n",
    "    else:\n",
    "        print(it)"
   ]
  },
  {
   "cell_type": "code",
   "execution_count": 77,
   "metadata": {},
   "outputs": [],
   "source": [
    "with open('download.sh', 'w') as fh:\n",
    "    for it in items:\n",
    "        s = \"\"\"\n",
    "        if [ ! -f \"audio/{title}.m4a\" ]; then\n",
    "            wget \"{url}\" -O temp.m4a\n",
    "            mv temp.m4a \"audio/{title}.m4a\"\n",
    "        fi\n",
    "        \"\"\".format(title = it['title'], url = it['link'])\n",
    "        fh.write(s)"
   ]
  },
  {
   "cell_type": "code",
   "execution_count": null,
   "metadata": {},
   "outputs": [],
   "source": []
  }
 ],
 "metadata": {
  "kernelspec": {
   "display_name": "Python 3",
   "language": "python",
   "name": "python3"
  },
  "language_info": {
   "codemirror_mode": {
    "name": "ipython",
    "version": 3
   },
   "file_extension": ".py",
   "mimetype": "text/x-python",
   "name": "python",
   "nbconvert_exporter": "python",
   "pygments_lexer": "ipython3",
   "version": "3.7.4"
  }
 },
 "nbformat": 4,
 "nbformat_minor": 4
}
