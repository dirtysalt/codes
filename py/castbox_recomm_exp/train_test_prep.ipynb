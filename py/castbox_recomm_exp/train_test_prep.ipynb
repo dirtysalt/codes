{
 "cells": [
  {
   "cell_type": "code",
   "execution_count": 2,
   "metadata": {},
   "outputs": [],
   "source": [
    "import scipy\n",
    "import scipy.sparse\n",
    "import cPickle\n",
    "import logging\n",
    "import implicit\n",
    "reload(implicit)\n",
    "import implicit.approximate_als\n",
    "reload(implicit.approximate_als)\n",
    "import implicit.bpr\n",
    "reload(implicit.bpr)\n",
    "import sklearn\n",
    "import numpy as np\n",
    "import itertools\n",
    "import random\n",
    "import pandas as pd\n",
    "import time\n",
    "import lightfm\n",
    "import lightfm.evaluation\n",
    "import tqdm\n",
    "import util as C\n",
    "reload(C)\n",
    "import seaborn as sns\n",
    "%matplotlib inline\n",
    "import matplotlib.pyplot as plt"
   ]
  },
  {
   "cell_type": "markdown",
   "metadata": {},
   "source": [
    "# Load Data"
   ]
  },
  {
   "cell_type": "code",
   "execution_count": 3,
   "metadata": {
    "collapsed": true
   },
   "outputs": [],
   "source": [
    "logging.basicConfig(level = logging.DEBUG)\n",
    "logger = logging.getLogger()\n",
    "logger.setLevel(logging.DEBUG)"
   ]
  },
  {
   "cell_type": "code",
   "execution_count": 4,
   "metadata": {
    "collapsed": true
   },
   "outputs": [],
   "source": [
    "user_helper = C.get_user_helper()"
   ]
  },
  {
   "cell_type": "code",
   "execution_count": 5,
   "metadata": {
    "collapsed": true
   },
   "outputs": [],
   "source": [
    "df_idx = user_helper.load_subs_idx_df()"
   ]
  },
  {
   "cell_type": "code",
   "execution_count": 6,
   "metadata": {},
   "outputs": [
    {
     "data": {
      "text/html": [
       "<div>\n",
       "<style>\n",
       "    .dataframe thead tr:only-child th {\n",
       "        text-align: right;\n",
       "    }\n",
       "\n",
       "    .dataframe thead th {\n",
       "        text-align: left;\n",
       "    }\n",
       "\n",
       "    .dataframe tbody tr th {\n",
       "        vertical-align: top;\n",
       "    }\n",
       "</style>\n",
       "<table border=\"1\" class=\"dataframe\">\n",
       "  <thead>\n",
       "    <tr style=\"text-align: right;\">\n",
       "      <th></th>\n",
       "      <th>cn</th>\n",
       "      <th>lang</th>\n",
       "      <th>br</th>\n",
       "      <th>cs</th>\n",
       "    </tr>\n",
       "  </thead>\n",
       "  <tbody>\n",
       "    <tr>\n",
       "      <th>0</th>\n",
       "      <td>jp</td>\n",
       "      <td>ja</td>\n",
       "      <td>docomo</td>\n",
       "      <td>48285</td>\n",
       "    </tr>\n",
       "    <tr>\n",
       "      <th>1</th>\n",
       "      <td>cn</td>\n",
       "      <td>zh</td>\n",
       "      <td>google</td>\n",
       "      <td>2781+115474</td>\n",
       "    </tr>\n",
       "    <tr>\n",
       "      <th>2</th>\n",
       "      <td>us</td>\n",
       "      <td>en</td>\n",
       "      <td>xiaomi</td>\n",
       "      <td>97197</td>\n",
       "    </tr>\n",
       "  </tbody>\n",
       "</table>\n",
       "</div>"
      ],
      "text/plain": [
       "   cn lang      br           cs\n",
       "0  jp   ja  docomo        48285\n",
       "1  cn   zh  google  2781+115474\n",
       "2  us   en  xiaomi        97197"
      ]
     },
     "execution_count": 6,
     "metadata": {},
     "output_type": "execute_result"
    }
   ],
   "source": [
    "df_idx.head(3)"
   ]
  },
  {
   "cell_type": "code",
   "execution_count": 7,
   "metadata": {},
   "outputs": [
    {
     "name": "stdout",
     "output_type": "stream",
     "text": [
      "CPU times: user 388 ms, sys: 208 ms, total: 596 ms\n",
      "Wall time: 596 ms\n"
     ]
    }
   ],
   "source": [
    "%%time\n",
    "mat_coo = C.load_mat(C.USER_ITEM_MAT_PATH)"
   ]
  },
  {
   "cell_type": "code",
   "execution_count": 8,
   "metadata": {},
   "outputs": [
    {
     "name": "stdout",
     "output_type": "stream",
     "text": [
      "CPU times: user 0 ns, sys: 0 ns, total: 0 ns\n",
      "Wall time: 16 µs\n"
     ]
    }
   ],
   "source": [
    "%%time\n",
    "mat_csr = mat_coo.tocsr()"
   ]
  },
  {
   "cell_type": "markdown",
   "metadata": {},
   "source": [
    "# Split Train/Test Data"
   ]
  },
  {
   "cell_type": "code",
   "execution_count": 9,
   "metadata": {},
   "outputs": [
    {
     "name": "stderr",
     "output_type": "stream",
     "text": [
      "  1%|          | 1313/200000 [00:00<00:15, 13121.47it/s]"
     ]
    },
    {
     "name": "stdout",
     "output_type": "stream",
     "text": [
      "# of all users = 4609357\n",
      "# of ok users = 1054508\n",
      "# of train users = 200000\n"
     ]
    },
    {
     "name": "stderr",
     "output_type": "stream",
     "text": [
      "100%|██████████| 200000/200000 [00:14<00:00, 13348.85it/s]\n"
     ]
    }
   ],
   "source": [
    "MIN_SUBS = 6\n",
    "MAX_SUBS = 10\n",
    "TRAIN_USERS = 20 * 10000\n",
    "train_mat_csr, train_users_idx = C.build_train_matrix(mat_csr, n_users = TRAIN_USERS, min_subs=MIN_SUBS, max_subs=MAX_SUBS)"
   ]
  },
  {
   "cell_type": "code",
   "execution_count": 10,
   "metadata": {},
   "outputs": [
    {
     "name": "stdout",
     "output_type": "stream",
     "text": [
      "CPU times: user 12 ms, sys: 0 ns, total: 12 ms\n",
      "Wall time: 11.4 ms\n"
     ]
    }
   ],
   "source": [
    "%%time\n",
    "train_mat_coo = train_mat_csr.tocoo()"
   ]
  },
  {
   "cell_type": "code",
   "execution_count": 11,
   "metadata": {
    "collapsed": true
   },
   "outputs": [],
   "source": [
    "train_meta_df = df_idx.iloc[train_users_idx].copy()\n",
    "train_meta_df['subs'] = train_meta_df['cs'].astype(str).apply(lambda x: len(x.split('+')))\n",
    "train_meta_df.reset_index(inplace=True)\n",
    "train_meta_df.drop(['cs'], axis=1, inplace=True)\n",
    "train_meta_df.rename_axis({'index':'origin_idx'}, axis = 1, inplace=True)"
   ]
  },
  {
   "cell_type": "code",
   "execution_count": 12,
   "metadata": {},
   "outputs": [
    {
     "data": {
      "text/html": [
       "<div>\n",
       "<style>\n",
       "    .dataframe thead tr:only-child th {\n",
       "        text-align: right;\n",
       "    }\n",
       "\n",
       "    .dataframe thead th {\n",
       "        text-align: left;\n",
       "    }\n",
       "\n",
       "    .dataframe tbody tr th {\n",
       "        vertical-align: top;\n",
       "    }\n",
       "</style>\n",
       "<table border=\"1\" class=\"dataframe\">\n",
       "  <thead>\n",
       "    <tr style=\"text-align: right;\">\n",
       "      <th></th>\n",
       "      <th>origin_idx</th>\n",
       "      <th>cn</th>\n",
       "      <th>lang</th>\n",
       "      <th>br</th>\n",
       "      <th>subs</th>\n",
       "    </tr>\n",
       "  </thead>\n",
       "  <tbody>\n",
       "    <tr>\n",
       "      <th>0</th>\n",
       "      <td>3348456</td>\n",
       "      <td>us</td>\n",
       "      <td>en</td>\n",
       "      <td>samsung</td>\n",
       "      <td>8</td>\n",
       "    </tr>\n",
       "    <tr>\n",
       "      <th>1</th>\n",
       "      <td>2461395</td>\n",
       "      <td>ru</td>\n",
       "      <td>ru</td>\n",
       "      <td>samsung</td>\n",
       "      <td>6</td>\n",
       "    </tr>\n",
       "    <tr>\n",
       "      <th>2</th>\n",
       "      <td>2281385</td>\n",
       "      <td>pt</td>\n",
       "      <td>pt</td>\n",
       "      <td>asus</td>\n",
       "      <td>6</td>\n",
       "    </tr>\n",
       "  </tbody>\n",
       "</table>\n",
       "</div>"
      ],
      "text/plain": [
       "   origin_idx  cn lang       br  subs\n",
       "0     3348456  us   en  samsung     8\n",
       "1     2461395  ru   ru  samsung     6\n",
       "2     2281385  pt   pt     asus     6"
      ]
     },
     "execution_count": 12,
     "metadata": {},
     "output_type": "execute_result"
    }
   ],
   "source": [
    "train_meta_df.head(3)"
   ]
  },
  {
   "cell_type": "code",
   "execution_count": 13,
   "metadata": {
    "collapsed": true
   },
   "outputs": [],
   "source": [
    "train_meta_df.to_csv(C.TRAIN_USER_ITEM_META_PATH)"
   ]
  },
  {
   "cell_type": "code",
   "execution_count": 14,
   "metadata": {},
   "outputs": [
    {
     "name": "stdout",
     "output_type": "stream",
     "text": [
      ",origin_idx,cn,lang,br,subs\r\n",
      "0,3348456,us,en,samsung,8\r\n",
      "1,2461395,ru,ru,samsung,6\r\n",
      "2,2281385,pt,pt,asus,6\r\n",
      "3,4378970,us,en,samsung,6\r\n",
      "4,2562956,us,en,lge,10\r\n",
      "5,3333271,es,es,samsung,6\r\n",
      "6,1775689,au,en,huawei,9\r\n",
      "7,3887295,us,en,samsung,9\r\n",
      "8,3569011,us,en,essential,9\r\n"
     ]
    }
   ],
   "source": [
    "!head data/train_user_item_meta.csv"
   ]
  },
  {
   "cell_type": "code",
   "execution_count": 23,
   "metadata": {},
   "outputs": [
    {
     "name": "stderr",
     "output_type": "stream",
     "text": [
      "  2%|▏         | 1069/50000 [00:00<00:04, 10682.40it/s]"
     ]
    },
    {
     "name": "stdout",
     "output_type": "stream",
     "text": [
      "# of test users = 50000\n"
     ]
    },
    {
     "name": "stderr",
     "output_type": "stream",
     "text": [
      "100%|██████████| 50000/50000 [00:04<00:00, 10890.42it/s]\n"
     ]
    }
   ],
   "source": [
    "TEST_USERS = 5 * 10000\n",
    "train_mat_csr2, test_mat_csr, test_users_idx = C.train_test_split(train_mat_csr, n_test_users=TEST_USERS)"
   ]
  },
  {
   "cell_type": "code",
   "execution_count": 24,
   "metadata": {},
   "outputs": [
    {
     "data": {
      "text/plain": [
       "(array([11954, 15500, 25981], dtype=int32),\n",
       " array([19038, 26322, 68851], dtype=int32),\n",
       " array([11954, 15500, 19038, 25981, 26322, 68851], dtype=int32))"
      ]
     },
     "execution_count": 24,
     "metadata": {},
     "output_type": "execute_result"
    }
   ],
   "source": [
    "uid_idx = test_users_idx[1]\n",
    "train_mat_csr2[uid_idx].indices, test_mat_csr[uid_idx].indices, train_mat_csr[uid_idx].indices"
   ]
  },
  {
   "cell_type": "code",
   "execution_count": 25,
   "metadata": {
    "collapsed": true
   },
   "outputs": [],
   "source": [
    "test_meta_df= train_meta_df.iloc[test_users_idx]\n",
    "test_meta_df.to_csv(C.TEST_USER_ITEM_META_PATH)"
   ]
  },
  {
   "cell_type": "code",
   "execution_count": 26,
   "metadata": {},
   "outputs": [
    {
     "data": {
      "text/html": [
       "<div>\n",
       "<style>\n",
       "    .dataframe thead tr:only-child th {\n",
       "        text-align: right;\n",
       "    }\n",
       "\n",
       "    .dataframe thead th {\n",
       "        text-align: left;\n",
       "    }\n",
       "\n",
       "    .dataframe tbody tr th {\n",
       "        vertical-align: top;\n",
       "    }\n",
       "</style>\n",
       "<table border=\"1\" class=\"dataframe\">\n",
       "  <thead>\n",
       "    <tr style=\"text-align: right;\">\n",
       "      <th></th>\n",
       "      <th>origin_idx</th>\n",
       "      <th>cn</th>\n",
       "      <th>lang</th>\n",
       "      <th>br</th>\n",
       "      <th>subs</th>\n",
       "    </tr>\n",
       "  </thead>\n",
       "  <tbody>\n",
       "    <tr>\n",
       "      <th>119737</th>\n",
       "      <td>2102869</td>\n",
       "      <td>cu</td>\n",
       "      <td>en</td>\n",
       "      <td>huawei</td>\n",
       "      <td>6</td>\n",
       "    </tr>\n",
       "    <tr>\n",
       "      <th>72272</th>\n",
       "      <td>2026103</td>\n",
       "      <td>at</td>\n",
       "      <td>fr</td>\n",
       "      <td>samsung</td>\n",
       "      <td>6</td>\n",
       "    </tr>\n",
       "    <tr>\n",
       "      <th>158154</th>\n",
       "      <td>1385691</td>\n",
       "      <td>us</td>\n",
       "      <td>en</td>\n",
       "      <td>samsung</td>\n",
       "      <td>6</td>\n",
       "    </tr>\n",
       "  </tbody>\n",
       "</table>\n",
       "</div>"
      ],
      "text/plain": [
       "        origin_idx  cn lang       br  subs\n",
       "119737     2102869  cu   en   huawei     6\n",
       "72272      2026103  at   fr  samsung     6\n",
       "158154     1385691  us   en  samsung     6"
      ]
     },
     "execution_count": 26,
     "metadata": {},
     "output_type": "execute_result"
    }
   ],
   "source": [
    "test_meta_df.head(3)"
   ]
  },
  {
   "cell_type": "code",
   "execution_count": 28,
   "metadata": {},
   "outputs": [
    {
     "data": {
      "text/plain": [
       "(50000, 5)"
      ]
     },
     "execution_count": 28,
     "metadata": {},
     "output_type": "execute_result"
    }
   ],
   "source": [
    "test_meta_df.shape"
   ]
  },
  {
   "cell_type": "code",
   "execution_count": 27,
   "metadata": {},
   "outputs": [
    {
     "name": "stdout",
     "output_type": "stream",
     "text": [
      ",origin_idx,cn,lang,br,subs\r\n",
      "119737,2102869,cu,en,huawei,6\r\n",
      "72272,2026103,at,fr,samsung,6\r\n",
      "158154,1385691,us,en,samsung,6\r\n",
      "65426,4125898,us,en,google,6\r\n",
      "30074,860652,us,en,samsung,6\r\n",
      "23677,2845547,co,es,samsung,9\r\n",
      "134858,1013774,us,en,verizon,8\r\n",
      "176418,3620526,pt,pt,huawei,10\r\n",
      "132467,990024,us,en,samsung,7\r\n"
     ]
    }
   ],
   "source": [
    "!head data/test_user_item_meta.csv"
   ]
  },
  {
   "cell_type": "markdown",
   "metadata": {},
   "source": [
    "# Save Data"
   ]
  },
  {
   "cell_type": "code",
   "execution_count": 29,
   "metadata": {
    "collapsed": true
   },
   "outputs": [],
   "source": [
    "C.save_mat(C.TRAIN_USER_ITEM_MAT_PATH, train_mat_csr2, compressed=False)\n",
    "C.save_mat(C.TEST_USER_ITEM_MAT_PATH, test_mat_csr, compressed=False)"
   ]
  },
  {
   "cell_type": "code",
   "execution_count": null,
   "metadata": {
    "collapsed": true
   },
   "outputs": [],
   "source": []
  }
 ],
 "metadata": {
  "kernelspec": {
   "display_name": "Python 2",
   "language": "python",
   "name": "python2"
  },
  "language_info": {
   "codemirror_mode": {
    "name": "ipython",
    "version": 2
   },
   "file_extension": ".py",
   "mimetype": "text/x-python",
   "name": "python",
   "nbconvert_exporter": "python",
   "pygments_lexer": "ipython2",
   "version": "2.7.12"
  }
 },
 "nbformat": 4,
 "nbformat_minor": 2
}
