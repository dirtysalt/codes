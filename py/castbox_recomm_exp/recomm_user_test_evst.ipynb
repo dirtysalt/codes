{
 "cells": [
  {
   "cell_type": "code",
   "execution_count": 43,
   "metadata": {
    "collapsed": true
   },
   "outputs": [],
   "source": [
    "import scipy\n",
    "import scipy.sparse\n",
    "import cPickle\n",
    "import logging\n",
    "import implicit\n",
    "reload(implicit)\n",
    "import implicit.approximate_als\n",
    "reload(implicit.approximate_als)\n",
    "import implicit.bpr\n",
    "reload(implicit.bpr)\n",
    "import sklearn\n",
    "import numpy as np\n",
    "import itertools\n",
    "import random\n",
    "import pandas as pd\n",
    "import time\n",
    "import lightfm\n",
    "import tqdm\n",
    "import seaborn as sns\n",
    "%matplotlib inline\n",
    "import util as C\n",
    "reload(C)\n",
    "import functools\n",
    "%matplotlib inline\n",
    "import seaborn as sns\n",
    "import matplotlib.pyplot as plt"
   ]
  },
  {
   "cell_type": "markdown",
   "metadata": {},
   "source": [
    "# Load Data"
   ]
  },
  {
   "cell_type": "code",
   "execution_count": 2,
   "metadata": {
    "collapsed": true
   },
   "outputs": [],
   "source": [
    "logging.basicConfig(level = logging.DEBUG)\n",
    "logger = logging.getLogger()\n",
    "logger.setLevel(logging.DEBUG)"
   ]
  },
  {
   "cell_type": "code",
   "execution_count": 3,
   "metadata": {
    "collapsed": true
   },
   "outputs": [],
   "source": [
    "channel_helper = C.ChannelHelper()\n",
    "user_helper = C.UserHelper(channel_helper)"
   ]
  },
  {
   "cell_type": "code",
   "execution_count": 4,
   "metadata": {
    "collapsed": true
   },
   "outputs": [],
   "source": [
    "channel_helper.load_index_data()\n",
    "channel_helper.load_meta_data()"
   ]
  },
  {
   "cell_type": "code",
   "execution_count": 5,
   "metadata": {
    "collapsed": true
   },
   "outputs": [],
   "source": [
    "channel_cid2idx, channel_idx2cid = channel_helper.channel_cid2idx, channel_helper.channel_idx2cid\n",
    "channel_data, channel_pid_data = channel_helper.channel_data, channel_helper.channel_pid_data"
   ]
  },
  {
   "cell_type": "code",
   "execution_count": 6,
   "metadata": {},
   "outputs": [
    {
     "name": "stdout",
     "output_type": "stream",
     "text": [
      "CPU times: user 36 ms, sys: 4 ms, total: 40 ms\n",
      "Wall time: 37 ms\n"
     ]
    }
   ],
   "source": [
    "%%time\n",
    "train_mat_csr = C.load_mat(C.EVST_TRAIN_USER_ITEM_MAT_PATH)\n",
    "test_mat_csr = C.load_mat(C.EVST_TEST_USER_ITEM_MAT_PATH)\n",
    "train_mat = train_mat_csr.tocoo()\n",
    "test_mat = test_mat_csr.tocoo()"
   ]
  },
  {
   "cell_type": "code",
   "execution_count": 7,
   "metadata": {
    "collapsed": true
   },
   "outputs": [],
   "source": [
    "train_mat2 = implicit.nearest_neighbours.bm25_weight(train_mat, K1 = 2.0, B = 0.8)\n",
    "#train_mat2 = implicit.nearest_neighbours.tfidf_weight(train_mat)\n",
    "train_mat_csr2 = train_mat2.tocsr()"
   ]
  },
  {
   "cell_type": "code",
   "execution_count": 20,
   "metadata": {},
   "outputs": [
    {
     "data": {
      "text/plain": [
       "((200000, 137344), (200000, 137344))"
      ]
     },
     "execution_count": 20,
     "metadata": {},
     "output_type": "execute_result"
    }
   ],
   "source": [
    "train_mat_csr.shape, test_mat_csr.shape"
   ]
  },
  {
   "cell_type": "code",
   "execution_count": 9,
   "metadata": {},
   "outputs": [
    {
     "data": {
      "text/plain": [
       "(1306380, 1306380, 197456)"
      ]
     },
     "execution_count": 9,
     "metadata": {},
     "output_type": "execute_result"
    }
   ],
   "source": [
    "train_mat_csr.nnz, train_mat_csr2.nnz, test_mat_csr.nnz"
   ]
  },
  {
   "cell_type": "code",
   "execution_count": 10,
   "metadata": {
    "collapsed": true
   },
   "outputs": [],
   "source": [
    "train_users_idx = np.arange(train_mat.shape[0])\n",
    "test_users_idx = np.array(list(set(test_mat.row)))\n",
    "test_users_idx.sort()"
   ]
  },
  {
   "cell_type": "code",
   "execution_count": 11,
   "metadata": {
    "collapsed": true
   },
   "outputs": [],
   "source": [
    "np.random.seed(42)\n",
    "n_users = 2000\n",
    "np.random.shuffle(test_users_idx)\n",
    "test_user_ids = test_users_idx[:n_users]\n",
    "np.random.shuffle(train_users_idx)\n",
    "train_user_ids = train_users_idx[:n_users]"
   ]
  },
  {
   "cell_type": "code",
   "execution_count": 12,
   "metadata": {
    "collapsed": true
   },
   "outputs": [],
   "source": [
    "lfm_item_ids = np.arange(train_mat.shape[1])"
   ]
  },
  {
   "cell_type": "code",
   "execution_count": 13,
   "metadata": {
    "collapsed": true
   },
   "outputs": [],
   "source": [
    "test_meta_df = pd.read_csv(C.EVST_TEST_USER_ITEM_META_PATH, index_col=0)"
   ]
  },
  {
   "cell_type": "code",
   "execution_count": 14,
   "metadata": {},
   "outputs": [
    {
     "data": {
      "text/html": [
       "<div>\n",
       "<style>\n",
       "    .dataframe thead tr:only-child th {\n",
       "        text-align: right;\n",
       "    }\n",
       "\n",
       "    .dataframe thead th {\n",
       "        text-align: left;\n",
       "    }\n",
       "\n",
       "    .dataframe tbody tr th {\n",
       "        vertical-align: top;\n",
       "    }\n",
       "</style>\n",
       "<table border=\"1\" class=\"dataframe\">\n",
       "  <thead>\n",
       "    <tr style=\"text-align: right;\">\n",
       "      <th></th>\n",
       "      <th>origin_idx</th>\n",
       "      <th>uid</th>\n",
       "      <th>subs</th>\n",
       "    </tr>\n",
       "  </thead>\n",
       "  <tbody>\n",
       "    <tr>\n",
       "      <th>119737</th>\n",
       "      <td>1738927</td>\n",
       "      <td>8d0ad848e58d47718bc9048fe55e9941</td>\n",
       "      <td>6</td>\n",
       "    </tr>\n",
       "    <tr>\n",
       "      <th>72272</th>\n",
       "      <td>1835513</td>\n",
       "      <td>fb3c8041026043918bacedda05361106</td>\n",
       "      <td>7</td>\n",
       "    </tr>\n",
       "    <tr>\n",
       "      <th>158154</th>\n",
       "      <td>1790575</td>\n",
       "      <td>be64359ae3204dc1a550bf285f3896b0</td>\n",
       "      <td>10</td>\n",
       "    </tr>\n",
       "  </tbody>\n",
       "</table>\n",
       "</div>"
      ],
      "text/plain": [
       "        origin_idx                               uid  subs\n",
       "119737     1738927  8d0ad848e58d47718bc9048fe55e9941     6\n",
       "72272      1835513  fb3c8041026043918bacedda05361106     7\n",
       "158154     1790575  be64359ae3204dc1a550bf285f3896b0    10"
      ]
     },
     "execution_count": 14,
     "metadata": {},
     "output_type": "execute_result"
    }
   ],
   "source": [
    "test_meta_df.head(3)"
   ]
  },
  {
   "cell_type": "code",
   "execution_count": 21,
   "metadata": {},
   "outputs": [
    {
     "data": {
      "text/plain": [
       "(50000, 3)"
      ]
     },
     "execution_count": 21,
     "metadata": {},
     "output_type": "execute_result"
    }
   ],
   "source": [
    "test_meta_df.shape"
   ]
  },
  {
   "cell_type": "markdown",
   "metadata": {},
   "source": [
    "# Evaluation"
   ]
  },
  {
   "cell_type": "code",
   "execution_count": 56,
   "metadata": {
    "collapsed": true
   },
   "outputs": [],
   "source": [
    "def compute_pred(model, user_id, N = 10, test = False, recalculate_user=False):\n",
    "    if model.__module__.startswith('implicit'):\n",
    "        if test:\n",
    "            pred = model.recommend(user_id, user_items = train_mat_csr2, N = N)\n",
    "            return pred\n",
    "        else:\n",
    "            user = model._user_factor(user_id, user_items = train_mat_csr2, \n",
    "                                      recalculate_user = recalculate_user)\n",
    "            scores = model.item_factors.dot(user)\n",
    "    else:\n",
    "        scores = model.predict(user_ids = user_id, item_ids = lfm_item_ids, num_threads = 8)\n",
    "    scores = -scores\n",
    "    pred_idxs = np.argpartition(scores, N)[:N]\n",
    "    pred = [(x, -scores[x]) for x in pred_idxs]\n",
    "    pred.sort(key = lambda x: -x[1])\n",
    "    return pred\n",
    "\n",
    "    \n",
    "def eval_user_recomm(model, user_id, N = 10, verbose = True, test = True):\n",
    "    if test:\n",
    "        truth_idxs = test_mat_csr[user_id].indices\n",
    "    else:   \n",
    "        truth_idxs = train_mat_csr[user_id].indices\n",
    "    base_idxs = train_mat_csr2[user_id].indices\n",
    "    pred = compute_pred(model, user_id, N = N, test = test)\n",
    "    pred_idxs = [x[0] for x in pred]\n",
    "    intersect = len(set(pred_idxs) & set(truth_idxs))\n",
    "    a = intersect\n",
    "    b = len(pred_idxs)\n",
    "    c = len(truth_idxs)\n",
    "    \n",
    "    if verbose:\n",
    "        print('base ...')\n",
    "        base_pids = [channel_idx2cid[x] for x in base_idxs]\n",
    "        for pid in base_pids:\n",
    "            print('- {} {}'.format(pid, channel_pid_data[pid]['title']))\n",
    "\n",
    "        print('pred ...')\n",
    "        pred_pids = [channel_idx2cid[x] for x in pred_idxs]\n",
    "        for idx, pid in enumerate(pred_pids):\n",
    "            print('- {} {} {} {}'.format(pid, channel_pid_data[pid]['title'], pred_idxs[idx], pred[idx][1]))\n",
    "\n",
    "        print('truth ...')\n",
    "        true_pids = [channel_idx2cid[x] for x in truth_idxs]\n",
    "        for pid in true_pids:\n",
    "            print('- {} {}'.format(pid, channel_pid_data[pid]['title']))\n",
    "    return a, b, c\n",
    "\n",
    "def eval_all_users(model, user_ids, N = 10,  test = True):\n",
    "    A, B,C = 0, 0,0\n",
    "    for user_id in user_ids:\n",
    "        a, b, c = eval_user_recomm(model, user_id, N = N ,verbose = False, test = test)\n",
    "        A += a\n",
    "        B += b \n",
    "        C += c\n",
    "    # precision, recall\n",
    "    return round(A * 1.0 / B, 4), round(A * 1.0 / C, 4)\n",
    "\n",
    "def item_recomm(model, cid, N=20,  verbose = True):\n",
    "    idx = channel_cid2idx[cid]\n",
    "    if model.__module__.startswith('implicit'):\n",
    "        related = model.similar_items(idx, N=N)\n",
    "        res = []\n",
    "        for rid, score in related:\n",
    "            pid= channel_idx2cid[rid]\n",
    "            title = channel_pid_data[pid]['title']\n",
    "            res.append((pid, title, score))\n",
    "            \n",
    "    else: # lightfm model.\n",
    "        item_embeddings = model.item_embeddings\n",
    "        scores = item_embeddings.dot(item_embeddings[idx])\n",
    "        norm_scores = -scores / np.linalg.norm(item_embeddings, axis = -1)\n",
    "        scores_idx = norm_scores.argpartition(N)\n",
    "        scores_idx = scores_idx[:N]\n",
    "        scores_idx_value = list(zip(scores_idx, [norm_scores[x] for x in scores_idx]))\n",
    "        scores_idx_value = sorted(scores_idx_value, key = lambda x: x[1])\n",
    "        res = []\n",
    "        for idx, value in scores_idx_value:\n",
    "            pid= channel_idx2cid[idx]\n",
    "            title = channel_pid_data[pid]['title']\n",
    "            res.append((pid, title, value))\n",
    "\n",
    "    if verbose:\n",
    "        for pid, title, score in res:\n",
    "            print('pid={}, title={}, score={:.2f}'.format(pid, title, score))\n",
    "    return res"
   ]
  },
  {
   "cell_type": "code",
   "execution_count": 66,
   "metadata": {
    "collapsed": true
   },
   "outputs": [],
   "source": [
    "class History:\n",
    "    def __init__(self, model, test_user_ids, train_user_ids):\n",
    "        self.model = model\n",
    "        self.test_user_ids = test_user_ids\n",
    "        self.train_user_ids = train_user_ids\n",
    "        self.test_scores = []\n",
    "        self.train_scores = []\n",
    "        \n",
    "    def add_test_score(self, score):\n",
    "        self.test_scores.append(score)\n",
    "        \n",
    "    def add_train_score(self, score):\n",
    "        self.train_scores.append(score)\n",
    "    \n",
    "    def eval_test_users(self):\n",
    "        return eval_all_users(model = self.model,user_ids = self.test_user_ids, test = True)\n",
    "\n",
    "    def eval_train_users(self):\n",
    "        return eval_all_users(model = self.model,user_ids = self.train_user_ids, test = False)\n",
    "        \n",
    "        \n",
    "def fit_callback(hist, iterations, elapsed, interval = 1):\n",
    "    if iterations % interval != 0: return\n",
    "    start = time.time()\n",
    "    test_score = hist.eval_test_users()\n",
    "    hist.add_test_score(test_score)\n",
    "    train_score = hist.eval_train_users()\n",
    "    hist.add_train_score(train_score)\n",
    "    end = time.time()\n",
    "    print('iteration #{}, elapsed = ({:.2f}, {:.2f}), train_score = {}, test_score = {}'.\n",
    "          format(iterations, elapsed, end - start, train_score, test_score))\n"
   ]
  },
  {
   "cell_type": "code",
   "execution_count": 58,
   "metadata": {
    "collapsed": true
   },
   "outputs": [],
   "source": [
    "def plot_precision_history(history):\n",
    "    plt.plot([x[0] for x in history.train_scores])\n",
    "    plt.plot([x[0] for x in history.test_scores])\n",
    "    plt.xlabel('# of iteratios')\n",
    "    plt.ylabel('p@k')\n",
    "    plt.legend(['train', 'test'])\n",
    "\n",
    "def plot_recall_history(history):\n",
    "    plt.plot([x[1] for x in history.train_scores])\n",
    "    plt.plot([x[1] for x in history.test_scores])\n",
    "    plt.xlabel('# of iteratios')\n",
    "    plt.ylabel('r@k')\n",
    "    plt.legend(['train', 'test'])"
   ]
  },
  {
   "cell_type": "markdown",
   "metadata": {},
   "source": [
    "# Train ALS Model"
   ]
  },
  {
   "cell_type": "code",
   "execution_count": 32,
   "metadata": {
    "collapsed": true
   },
   "outputs": [],
   "source": [
    "np.random.seed(42)\n",
    "als_model = implicit.als.AlternatingLeastSquares(\n",
    "    factors= 100, \n",
    "    regularization = 0.01,\n",
    "    iterations = 10)\n",
    "    #calculate_training_loss = True)\n",
    "als_history = History(als_model, test_user_ids, train_user_ids)\n",
    "als_model.fit_callback = functools.partial(fit_callback, als_history)"
   ]
  },
  {
   "cell_type": "code",
   "execution_count": 33,
   "metadata": {},
   "outputs": [
    {
     "name": "stderr",
     "output_type": "stream",
     "text": [
      "DEBUG:implicit:Converting input to CSR format\n",
      "DEBUG:implicit:Converted input to CSR in 0.052s\n",
      "DEBUG:implicit:Calculated transpose in 0.088s\n",
      "DEBUG:implicit:initialize factors in 0.651781082153\n",
      "DEBUG:implicit:finished iteration 0 in 4.309s\n"
     ]
    },
    {
     "name": "stdout",
     "output_type": "stream",
     "text": [
      "iteration #0, elapsed = (4.31, 13.47), train_score = (0.2685, 0.4385), test_score = (0.0576, 0.1452)\n"
     ]
    },
    {
     "name": "stderr",
     "output_type": "stream",
     "text": [
      "DEBUG:implicit:finished iteration 1 in 4.203s\n"
     ]
    },
    {
     "name": "stdout",
     "output_type": "stream",
     "text": [
      "iteration #1, elapsed = (4.20, 13.43), train_score = (0.3423, 0.559), test_score = (0.0963, 0.2426)\n"
     ]
    },
    {
     "name": "stderr",
     "output_type": "stream",
     "text": [
      "DEBUG:implicit:finished iteration 2 in 4.427s\n"
     ]
    },
    {
     "name": "stdout",
     "output_type": "stream",
     "text": [
      "iteration #2, elapsed = (4.43, 13.73), train_score = (0.3475, 0.5675), test_score = (0.1112, 0.2801)\n"
     ]
    },
    {
     "name": "stderr",
     "output_type": "stream",
     "text": [
      "DEBUG:implicit:finished iteration 3 in 4.205s\n"
     ]
    },
    {
     "name": "stdout",
     "output_type": "stream",
     "text": [
      "iteration #3, elapsed = (4.20, 13.70), train_score = (0.3449, 0.5633), test_score = (0.1129, 0.2843)\n"
     ]
    },
    {
     "name": "stderr",
     "output_type": "stream",
     "text": [
      "DEBUG:implicit:finished iteration 4 in 4.322s\n"
     ]
    },
    {
     "name": "stdout",
     "output_type": "stream",
     "text": [
      "iteration #4, elapsed = (4.32, 13.95), train_score = (0.3424, 0.5593), test_score = (0.1123, 0.2828)\n"
     ]
    },
    {
     "name": "stderr",
     "output_type": "stream",
     "text": [
      "DEBUG:implicit:finished iteration 5 in 4.322s\n"
     ]
    },
    {
     "name": "stdout",
     "output_type": "stream",
     "text": [
      "iteration #5, elapsed = (4.32, 14.22), train_score = (0.3399, 0.5551), test_score = (0.1126, 0.2837)\n"
     ]
    },
    {
     "name": "stderr",
     "output_type": "stream",
     "text": [
      "DEBUG:implicit:finished iteration 6 in 4.287s\n"
     ]
    },
    {
     "name": "stdout",
     "output_type": "stream",
     "text": [
      "iteration #6, elapsed = (4.29, 13.95), train_score = (0.3382, 0.5523), test_score = (0.1124, 0.2833)\n"
     ]
    },
    {
     "name": "stderr",
     "output_type": "stream",
     "text": [
      "DEBUG:implicit:finished iteration 7 in 4.200s\n"
     ]
    },
    {
     "name": "stdout",
     "output_type": "stream",
     "text": [
      "iteration #7, elapsed = (4.20, 13.98), train_score = (0.337, 0.5504), test_score = (0.1123, 0.2828)\n"
     ]
    },
    {
     "name": "stderr",
     "output_type": "stream",
     "text": [
      "DEBUG:implicit:finished iteration 8 in 4.244s\n"
     ]
    },
    {
     "name": "stdout",
     "output_type": "stream",
     "text": [
      "iteration #8, elapsed = (4.24, 13.93), train_score = (0.3362, 0.5491), test_score = (0.1116, 0.2813)\n"
     ]
    },
    {
     "name": "stderr",
     "output_type": "stream",
     "text": [
      "DEBUG:implicit:finished iteration 9 in 4.326s\n"
     ]
    },
    {
     "name": "stdout",
     "output_type": "stream",
     "text": [
      "iteration #9, elapsed = (4.33, 13.90), train_score = (0.3352, 0.5474), test_score = (0.1115, 0.2809)\n",
      "CPU times: user 21min 15s, sys: 26min 44s, total: 47min 59s\n",
      "Wall time: 3min 1s\n"
     ]
    }
   ],
   "source": [
    "%%time\n",
    "als_model.fit(train_mat_csr2.T)"
   ]
  },
  {
   "cell_type": "code",
   "execution_count": 34,
   "metadata": {},
   "outputs": [
    {
     "data": {
      "image/png": "[encoded data removed]",
      "text/plain": [
       "<matplotlib.figure.Figure at 0x7ff7fca9e3d0>"
      ]
     },
     "metadata": {},
     "output_type": "display_data"
    }
   ],
   "source": [
    "plot_precision_history(als_history)"
   ]
  },
  {
   "cell_type": "code",
   "execution_count": 35,
   "metadata": {},
   "outputs": [
    {
     "data": {
      "image/png": "[encoded data removed]",
      "text/plain": [
       "<matplotlib.figure.Figure at 0x7ff7fca51850>"
      ]
     },
     "metadata": {},
     "output_type": "display_data"
    }
   ],
   "source": [
    "plot_recall_history(als_history)"
   ]
  },
  {
   "cell_type": "markdown",
   "metadata": {},
   "source": [
    "# ALS Validation"
   ]
  },
  {
   "cell_type": "code",
   "execution_count": 39,
   "metadata": {},
   "outputs": [
    {
     "name": "stdout",
     "output_type": "stream",
     "text": [
      "uid = b5649401363740f9b84f66bb6ae45642\n",
      "base ...\n",
      "- 1061905 Under Center Podcast\n",
      "- 64401 Chicago Bears Review\n",
      "- 364800 NFL Live\n",
      "- 416160 The Brain Warrior's Way Podcast\n",
      "pred ...\n",
      "- 1100514 The Herd with Colin Cowherd 35068 0.136646807194\n",
      "- 1049522 Around the NFL 4322 0.136386871338\n",
      "- 364799 Fantasy Focus Football 63389 0.116580404341\n",
      "- 364788 First Take 63378 0.116289585829\n",
      "- 5524 Fantasy Footballers - Fantasy Football Podcast 4206 0.112239122391\n",
      "- 375949 Skip and Shannon: Undisputed 12937 0.112237945199\n",
      "- 364784 PTI 63374 0.100869633257\n",
      "- 971762 The Bill Simmons Podcast 104479 0.0842054784298\n",
      "- 1060640 Pardon My Take 9135 0.075991332531\n",
      "- 364791 The Dan Le Batard Show with Stugotz 63381 0.0728379487991\n",
      "truth ...\n",
      "- 1049761 NFL: Good Morning Football\n",
      "- 1049522 Around the NFL\n",
      "- 1073314 Chicago Bears Podcasts\n",
      "- 42269 The NFL Podcast Network\n"
     ]
    },
    {
     "data": {
      "text/plain": [
       "(1, 10, 4)"
      ]
     },
     "execution_count": 39,
     "metadata": {},
     "output_type": "execute_result"
    }
   ],
   "source": [
    "n = np.random.randint(0, len(test_users_idx))\n",
    "user_id = test_users_idx[n]\n",
    "print('uid = {}'.format(test_meta_df.loc[user_id]['uid']))\n",
    "eval_user_recomm(als_model, user_id)"
   ]
  },
  {
   "cell_type": "code",
   "execution_count": 51,
   "metadata": {},
   "outputs": [
    {
     "name": "stdout",
     "output_type": "stream",
     "text": [
      "pid=486852, title=Deep Learning: Zero to One, score=1.00\n",
      "pid=1106913, title=Brain Channel (Audio), score=0.98\n",
      "pid=1136684, title=JuicyPeach Audio Erotica Podcast, score=0.97\n",
      "pid=2348, title=Learning Machines 101, score=0.97\n",
      "pid=357912, title=Internet of X: Innovation | Leadership | IoT | M2M, score=0.97\n",
      "pid=530326, title=Artificial Intelligence News, score=0.97\n",
      "pid=1135450, title=Self-Driving Cars: Dr. Lance Eliot \"Podcast Series\", score=0.97\n",
      "pid=524005, title=R Weekly, score=0.97\n",
      "pid=26120, title=Linear Digressions, score=0.97\n",
      "pid=1516, title=O'Reilly Data Show - O'Reilly Media Podcast, score=0.97\n",
      "pid=368100, title=Simplifying Analytics, score=0.97\n",
      "pid=6849, title=Partially Derivative, score=0.96\n",
      "pid=402010, title=This Week in Machine Learning & Artificial Intelligence (AI) Podcast, score=0.96\n",
      "pid=538016, title=Machine Learning – Software Engineering Daily, score=0.96\n",
      "pid=435748, title=Business Statistics - Undergraduate, score=0.96\n",
      "pid=68152, title=Secrets of Selling to Physicians, score=0.96\n",
      "pid=1107580, title=Amazon Web Services: AWS re:Invent 2017 Breakout Sessions | Containers, score=0.96\n",
      "pid=21809, title=VMware - A Connected Social Media Showcase, score=0.96\n",
      "pid=396480, title=SuperDataScience, score=0.96\n",
      "pid=15217, title=CS Book Club, score=0.96\n",
      "pid=650739, title=Talking Machines, score=0.96\n",
      "pid=25629, title=Artificial Intelligence in Industry with Dan Faggella, score=0.96\n",
      "pid=3725, title=Data Stories, score=0.95\n",
      "pid=1273236, title=Biomedical Sciences, score=0.95\n",
      "pid=1061957, title=Voices in AI, score=0.95\n",
      "pid=249513, title=Disease State - Oncology/Genomics, score=0.95\n",
      "pid=1152197, title=Cloud Insiders, score=0.95\n",
      "pid=635, title=Data Skeptic, score=0.95\n",
      "pid=136273, title=Knoxville Game Design, score=0.95\n",
      "pid=1136953, title=Data Science at Home, score=0.95\n",
      "pid=333317, title=Clinical Radiology Podcast, score=0.95\n",
      "pid=1062110, title=Brightest Singularity - Blockchain and Machine Learning, score=0.95\n",
      "pid=1203982, title=Data Journeys, score=0.95\n",
      "pid=650841, title=Machine Learning Guide, score=0.95\n",
      "pid=378094, title=The O'Reilly Data Show Podcast, score=0.94\n",
      "pid=966276, title=Not So Standard Deviations, score=0.94\n",
      "pid=268054, title=Microsoft Partner Network podcast, score=0.94\n",
      "pid=934188, title=Data Science Imposters Podcast, score=0.94\n",
      "pid=433488, title=The AI Podcast, score=0.94\n",
      "pid=1137754, title=The Curious Nature of Sex, score=0.94\n",
      "pid=1170450, title=IoT Product Leadership, score=0.94\n",
      "pid=571199, title=NLP Highlights, score=0.94\n",
      "pid=346332, title=Linear Digressions, score=0.94\n",
      "pid=21797, title=Big data, score=0.93\n",
      "pid=1040166, title=Everything Big Data!, score=0.93\n",
      "pid=312661, title=Concerning AI | Existential Risk From Artificial Intelligence, score=0.92\n",
      "pid=410810, title=Python Bytes, score=0.92\n",
      "pid=430952, title=Adversarial Learning, score=0.92\n",
      "pid=421762, title=Data Science Storytime, score=0.92\n",
      "pid=1246583, title=DataFramed, score=0.92\n"
     ]
    }
   ],
   "source": [
    "ref_pids = [486852, 1241617, 285553, 1215926]\n",
    "_= item_recomm(als_model, 486852, N = 50)"
   ]
  },
  {
   "cell_type": "markdown",
   "metadata": {
    "collapsed": true
   },
   "source": [
    "# LFM Model"
   ]
  },
  {
   "cell_type": "code",
   "execution_count": 68,
   "metadata": {},
   "outputs": [],
   "source": [
    "lfm_model = C.MyLightFM(no_components=100, loss = 'warp', learning_rate=0.02, random_state = 42)\n",
    "lfm_history = History(lfm_model, test_user_ids[:200], train_user_ids[:200])\n",
    "lfm_model.fit_callback = functools.partial(fit_callback, lfm_history, interval = 10)"
   ]
  },
  {
   "cell_type": "code",
   "execution_count": 73,
   "metadata": {},
   "outputs": [
    {
     "name": "stdout",
     "output_type": "stream",
     "text": [
      "iteration #100, elapsed = (1.30, 4.78), train_score = (0.2075, 0.3247), test_score = (0.1045, 0.2652)\n",
      "Epoch 100 in 1.30s\n",
      "Epoch 101 in 1.35s\n",
      "Epoch 102 in 1.29s\n",
      "Epoch 103 in 1.30s\n",
      "Epoch 104 in 1.30s\n",
      "Epoch 105 in 1.29s\n",
      "Epoch 106 in 1.29s\n",
      "Epoch 107 in 1.29s\n",
      "Epoch 108 in 1.29s\n",
      "Epoch 109 in 1.29s\n",
      "iteration #110, elapsed = (1.29, 4.68), train_score = (0.211, 0.3302), test_score = (0.103, 0.2614)\n",
      "Epoch 110 in 1.29s\n",
      "Epoch 111 in 1.29s\n",
      "Epoch 112 in 1.29s\n",
      "Epoch 113 in 1.29s\n",
      "Epoch 114 in 1.29s\n",
      "Epoch 115 in 1.29s\n",
      "Epoch 116 in 1.40s\n",
      "Epoch 117 in 1.29s\n",
      "Epoch 118 in 1.29s\n",
      "Epoch 119 in 1.32s\n",
      "iteration #120, elapsed = (1.29, 4.51), train_score = (0.215, 0.3365), test_score = (0.104, 0.264)\n",
      "Epoch 120 in 1.29s\n",
      "Epoch 121 in 1.40s\n",
      "Epoch 122 in 1.50s\n",
      "Epoch 123 in 1.37s\n",
      "Epoch 124 in 1.29s\n",
      "Epoch 125 in 1.29s\n",
      "Epoch 126 in 1.29s\n",
      "Epoch 127 in 1.29s\n",
      "Epoch 128 in 1.29s\n",
      "Epoch 129 in 1.29s\n",
      "iteration #130, elapsed = (1.29, 4.42), train_score = (0.216, 0.338), test_score = (0.104, 0.264)\n",
      "Epoch 130 in 1.29s\n",
      "Epoch 131 in 1.30s\n",
      "Epoch 132 in 1.29s\n",
      "Epoch 133 in 1.29s\n",
      "Epoch 134 in 1.29s\n",
      "Epoch 135 in 1.29s\n",
      "Epoch 136 in 1.29s\n",
      "Epoch 137 in 1.30s\n",
      "Epoch 138 in 1.29s\n",
      "Epoch 139 in 1.29s\n",
      "iteration #140, elapsed = (1.29, 5.33), train_score = (0.2175, 0.3404), test_score = (0.105, 0.2665)\n",
      "Epoch 140 in 1.29s\n",
      "Epoch 141 in 1.29s\n",
      "Epoch 142 in 1.30s\n",
      "Epoch 143 in 1.29s\n",
      "Epoch 144 in 1.29s\n",
      "Epoch 145 in 1.45s\n",
      "Epoch 146 in 1.32s\n",
      "Epoch 147 in 1.29s\n",
      "Epoch 148 in 1.29s\n",
      "Epoch 149 in 1.29s\n",
      "iteration #150, elapsed = (1.29, 4.43), train_score = (0.2235, 0.3498), test_score = (0.107, 0.2716)\n",
      "Epoch 150 in 1.29s\n",
      "Epoch 151 in 1.29s\n",
      "Epoch 152 in 1.29s\n",
      "Epoch 153 in 1.29s\n",
      "Epoch 154 in 1.29s\n",
      "Epoch 155 in 1.29s\n",
      "Epoch 156 in 1.29s\n",
      "Epoch 157 in 1.29s\n",
      "Epoch 158 in 1.29s\n",
      "Epoch 159 in 1.29s\n",
      "iteration #160, elapsed = (1.29, 4.42), train_score = (0.224, 0.3505), test_score = (0.1075, 0.2728)\n",
      "Epoch 160 in 1.29s\n",
      "Epoch 161 in 1.29s\n",
      "Epoch 162 in 1.29s\n",
      "Epoch 163 in 1.29s\n",
      "Epoch 164 in 1.29s\n",
      "Epoch 165 in 1.32s\n",
      "Epoch 166 in 1.30s\n",
      "Epoch 167 in 1.29s\n",
      "Epoch 168 in 1.29s\n",
      "Epoch 169 in 1.29s\n",
      "iteration #170, elapsed = (1.29, 5.52), train_score = (0.226, 0.3537), test_score = (0.1075, 0.2728)\n",
      "Epoch 170 in 1.29s\n",
      "Epoch 171 in 1.29s\n",
      "Epoch 172 in 1.29s\n",
      "Epoch 173 in 1.29s\n",
      "Epoch 174 in 1.29s\n",
      "Epoch 175 in 1.29s\n",
      "Epoch 176 in 1.29s\n",
      "Epoch 177 in 1.29s\n",
      "Epoch 178 in 1.37s\n",
      "Epoch 179 in 1.29s\n",
      "iteration #180, elapsed = (1.29, 4.66), train_score = (0.2295, 0.3592), test_score = (0.108, 0.2741)\n",
      "Epoch 180 in 1.29s\n",
      "Epoch 181 in 1.40s\n",
      "Epoch 182 in 1.29s\n",
      "Epoch 183 in 1.29s\n",
      "Epoch 184 in 1.29s\n",
      "Epoch 185 in 1.29s\n",
      "Epoch 186 in 1.29s\n",
      "Epoch 187 in 1.29s\n",
      "Epoch 188 in 1.29s\n",
      "Epoch 189 in 1.29s\n",
      "iteration #190, elapsed = (1.42, 5.05), train_score = (0.233, 0.3646), test_score = (0.1085, 0.2754)\n",
      "Epoch 190 in 1.42s\n",
      "Epoch 191 in 1.29s\n",
      "Epoch 192 in 1.29s\n",
      "Epoch 193 in 1.29s\n",
      "Epoch 194 in 1.29s\n",
      "Epoch 195 in 1.29s\n",
      "Epoch 196 in 1.46s\n",
      "Epoch 197 in 1.33s\n",
      "Epoch 198 in 1.29s\n",
      "Epoch 199 in 1.29s\n",
      "CPU times: user 20min 44s, sys: 0 ns, total: 20min 44s\n",
      "Wall time: 2min 59s\n"
     ]
    },
    {
     "data": {
      "text/plain": [
       "<util.MyLightFM at 0x7ff7fcbc0ed0>"
      ]
     },
     "execution_count": 73,
     "metadata": {},
     "output_type": "execute_result"
    }
   ],
   "source": [
    "%%time\n",
    "lfm_model.fit_partial(train_mat2, epochs = 100, num_threads = 8, sample_weight=train_mat2)"
   ]
  },
  {
   "cell_type": "code",
   "execution_count": 74,
   "metadata": {},
   "outputs": [
    {
     "data": {
      "image/png": "[encoded data removed]",
      "text/plain": [
       "<matplotlib.figure.Figure at 0x7ff7fc7d3d90>"
      ]
     },
     "metadata": {},
     "output_type": "display_data"
    }
   ],
   "source": [
    "plot_precision_history(lfm_history)"
   ]
  },
  {
   "cell_type": "code",
   "execution_count": 75,
   "metadata": {},
   "outputs": [
    {
     "data": {
      "image/png": "[encoded data removed]",
      "text/plain": [
       "<matplotlib.figure.Figure at 0x7ff7fc76bd10>"
      ]
     },
     "metadata": {},
     "output_type": "display_data"
    }
   ],
   "source": [
    "plot_recall_history(lfm_history)"
   ]
  },
  {
   "cell_type": "code",
   "execution_count": 76,
   "metadata": {},
   "outputs": [
    {
     "name": "stdout",
     "output_type": "stream",
     "text": [
      "CPU times: user 2min 40s, sys: 0 ns, total: 2min 40s\n",
      "Wall time: 24.3 s\n"
     ]
    },
    {
     "data": {
      "text/plain": [
       "(0.107, 0.2694)"
      ]
     },
     "execution_count": 76,
     "metadata": {},
     "output_type": "execute_result"
    }
   ],
   "source": [
    "%%time\n",
    "eval_all_users(lfm_model, test_user_ids, N = 10)"
   ]
  },
  {
   "cell_type": "markdown",
   "metadata": {},
   "source": [
    "# LFM Validation"
   ]
  },
  {
   "cell_type": "code",
   "execution_count": 49,
   "metadata": {},
   "outputs": [
    {
     "name": "stdout",
     "output_type": "stream",
     "text": [
      "uid = 021f7c72c8044ade89ce0ee77b1630a7\n",
      "base ...\n",
      "- 444892 Pod Save America\n",
      "- 1244953 American Innovations\n",
      "- 1260172 The Wonderland Murders by Hollywood & Crime\n",
      "pred ...\n",
      "- 1260172 The Wonderland Murders by Hollywood & Crime 116131 4.966152668\n",
      "- 1608 The Joe Rogan Experience 1265 4.65477800369\n",
      "- 423933 In the Dark 93552 4.28064012527\n",
      "- 1268029 Revisionist History 119959 4.20242595673\n",
      "- 593291 30 For 30 Podcasts 134112 4.09824228287\n",
      "- 1244953 American Innovations 109501 4.04016399384\n",
      "- 1189174 My Favorite Murder with Karen Kilgariff and Georgia Hardstark 83083 3.99197769165\n",
      "- 1208791 15 Minutes to Freedom:  A Warrior’s Daily Focus on Journals and Meditations 92724 3.95641732216\n",
      "- 463650 The Daily 92862 3.76346993446\n",
      "- 1092111 Brown Chicken Brown Cow Podcast 136926 3.76191091537\n",
      "truth ...\n",
      "- 1608 The Joe Rogan Experience\n",
      "- 1814 This American Life\n",
      "- 1189174 My Favorite Murder with Karen Kilgariff and Georgia Hardstark\n",
      "- 1268029 Revisionist History\n"
     ]
    },
    {
     "data": {
      "text/plain": [
       "(3, 10, 4)"
      ]
     },
     "execution_count": 49,
     "metadata": {},
     "output_type": "execute_result"
    }
   ],
   "source": [
    "n = np.random.randint(0, len(test_users_idx))\n",
    "user_id = test_users_idx[n]\n",
    "print('uid = {}'.format(test_meta_df.loc[user_id]['uid']))\n",
    "eval_user_recomm(lfm_model, user_id)"
   ]
  },
  {
   "cell_type": "code",
   "execution_count": 65,
   "metadata": {},
   "outputs": [
    {
     "name": "stdout",
     "output_type": "stream",
     "text": [
      "pid=486852, title=Deep Learning: Zero to One, score=-1.90\n",
      "pid=1106913, title=Brain Channel (Audio), score=-1.68\n",
      "pid=430952, title=Adversarial Learning, score=-1.57\n",
      "pid=1086441, title=Crypto Traders Pro, score=-1.52\n",
      "pid=524085, title=Artificially Intelligent, score=-1.51\n",
      "pid=435748, title=Business Statistics - Undergraduate, score=-1.50\n",
      "pid=346332, title=Linear Digressions, score=-1.50\n",
      "pid=402010, title=This Week in Machine Learning & Artificial Intelligence (AI) Podcast, score=-1.49\n",
      "pid=650739, title=Talking Machines, score=-1.48\n",
      "pid=43384, title=HHS Linear Algebra, score=-1.46\n",
      "pid=578031, title=Data Driven, score=-1.46\n",
      "pid=115063, title=Stats + Stories, score=-1.45\n",
      "pid=650841, title=Machine Learning Guide, score=-1.44\n",
      "pid=2348, title=Learning Machines 101, score=-1.44\n",
      "pid=25629, title=Artificial Intelligence in Industry with Dan Faggella, score=-1.44\n",
      "pid=1136684, title=JuicyPeach Audio Erotica Podcast, score=-1.44\n",
      "pid=26120, title=Linear Digressions, score=-1.43\n",
      "pid=1062110, title=Brightest Singularity - Blockchain and Machine Learning, score=-1.43\n",
      "pid=1136953, title=Data Science at Home, score=-1.42\n",
      "pid=1280991, title=WildLinAlg: A first course in Linear Algebra, score=-1.42\n"
     ]
    }
   ],
   "source": [
    "ref_pids = [486852, 1241617, 285553, 1215926]\n",
    "_ = item_recomm(lfm_model,486852)"
   ]
  },
  {
   "cell_type": "code",
   "execution_count": null,
   "metadata": {
    "collapsed": true
   },
   "outputs": [],
   "source": []
  }
 ],
 "metadata": {
  "kernelspec": {
   "display_name": "Python 2",
   "language": "python",
   "name": "python2"
  },
  "language_info": {
   "codemirror_mode": {
    "name": "ipython",
    "version": 2
   },
   "file_extension": ".py",
   "mimetype": "text/x-python",
   "name": "python",
   "nbconvert_exporter": "python",
   "pygments_lexer": "ipython2",
   "version": "2.7.12"
  }
 },
 "nbformat": 4,
 "nbformat_minor": 2
}
