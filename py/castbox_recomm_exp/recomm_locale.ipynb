{
 "cells": [
  {
   "cell_type": "code",
   "execution_count": 1,
   "metadata": {
    "collapsed": true
   },
   "outputs": [],
   "source": [
    "import scipy\n",
    "import scipy.sparse\n",
    "import cPickle\n",
    "import logging\n",
    "import implicit\n",
    "reload(implicit)\n",
    "import implicit.approximate_als\n",
    "reload(implicit.approximate_als)\n",
    "import implicit.bpr\n",
    "reload(implicit.bpr)\n",
    "import sklearn\n",
    "import numpy as np\n",
    "import itertools\n",
    "import random\n",
    "import pandas as pd\n",
    "import os\n",
    "import time\n",
    "import lightfm\n",
    "os.environ['OPENBLAS_NUM_THREADS'] = '1'\n",
    "import tqdm\n",
    "import seaborn as sns\n",
    "%matplotlib inline\n",
    "import util as C\n",
    "reload(C)\n",
    "import functools\n",
    "%matplotlib inline\n",
    "import seaborn as sns\n",
    "import matplotlib.pyplot as plt\n",
    "import lightfm\n",
    "import pymongo"
   ]
  },
  {
   "cell_type": "markdown",
   "metadata": {},
   "source": [
    "# Load Data"
   ]
  },
  {
   "cell_type": "code",
   "execution_count": 2,
   "metadata": {
    "collapsed": true
   },
   "outputs": [],
   "source": [
    "logging.basicConfig(level = logging.DEBUG)\n",
    "logger = logging.getLogger()\n",
    "logger.setLevel(logging.DEBUG)"
   ]
  },
  {
   "cell_type": "code",
   "execution_count": 3,
   "metadata": {
    "collapsed": true
   },
   "outputs": [],
   "source": [
    "channel_helper = C.ChannelHelper()\n",
    "user_helper = C.UserHelper(channel_helper)"
   ]
  },
  {
   "cell_type": "code",
   "execution_count": 4,
   "metadata": {
    "collapsed": true
   },
   "outputs": [],
   "source": [
    "channel_helper.load_meta_data()\n",
    "channel_helper.load_index_data()"
   ]
  },
  {
   "cell_type": "code",
   "execution_count": 5,
   "metadata": {
    "collapsed": true
   },
   "outputs": [],
   "source": [
    "user_helper.load_locale_data()"
   ]
  },
  {
   "cell_type": "code",
   "execution_count": 6,
   "metadata": {
    "collapsed": true
   },
   "outputs": [],
   "source": [
    "channel_cid2idx, channel_idx2cid = channel_helper.channel_cid2idx, channel_helper.channel_idx2cid\n",
    "channel_data, channel_pid_data = channel_helper.channel_data, channel_helper.channel_pid_data"
   ]
  },
  {
   "cell_type": "code",
   "execution_count": 7,
   "metadata": {},
   "outputs": [
    {
     "name": "stdout",
     "output_type": "stream",
     "text": [
      "CPU times: user 20 ms, sys: 4 ms, total: 24 ms\n",
      "Wall time: 21.5 ms\n"
     ]
    }
   ],
   "source": [
    "%%time\n",
    "mat_csr = C.load_mat(C.LOCALE_ITEM_MAT_PATH)"
   ]
  },
  {
   "cell_type": "code",
   "execution_count": 8,
   "metadata": {},
   "outputs": [
    {
     "name": "stdout",
     "output_type": "stream",
     "text": [
      "CPU times: user 12 ms, sys: 4 ms, total: 16 ms\n",
      "Wall time: 14.8 ms\n"
     ]
    }
   ],
   "source": [
    "%%time\n",
    "mat_coo = mat_csr.tocoo()"
   ]
  },
  {
   "cell_type": "code",
   "execution_count": 9,
   "metadata": {},
   "outputs": [
    {
     "name": "stdout",
     "output_type": "stream",
     "text": [
      "CPU times: user 536 ms, sys: 36 ms, total: 572 ms\n",
      "Wall time: 568 ms\n"
     ]
    }
   ],
   "source": [
    "%%time\n",
    "mat_coo2 = implicit.nearest_neighbours.tfidf_weight(mat_coo)\n",
    "mat_csr2 = mat_coo2.tocsr()"
   ]
  },
  {
   "cell_type": "code",
   "execution_count": 10,
   "metadata": {
    "collapsed": true
   },
   "outputs": [],
   "source": [
    "lfm_item_ids = np.arange(mat_csr2.shape[1])"
   ]
  },
  {
   "cell_type": "markdown",
   "metadata": {},
   "source": [
    "# 按照国家和语言做排序"
   ]
  },
  {
   "cell_type": "code",
   "execution_count": 11,
   "metadata": {
    "collapsed": true
   },
   "outputs": [],
   "source": [
    "def list_top_channels(key, N = 10, verbose = True):\n",
    "    key_idx = user_helper.get_locale_code(key)\n",
    "    ws = -mat_csr[key_idx].toarray().ravel()\n",
    "    idxs = ws.argpartition(N)[:N]\n",
    "    scores = -ws[idxs]\n",
    "    idxs = list(zip(idxs, scores))\n",
    "    idxs.sort(key = lambda x: -x[1])\n",
    "    res = []\n",
    "    for idx, score in idxs:\n",
    "        pid = channel_idx2cid[idx]\n",
    "        title = channel_pid_data[pid]['title']\n",
    "        res.append((pid, title, score))\n",
    "    if verbose:\n",
    "        for pid, title, value in res:\n",
    "            print('pid={}, title={}, value={}'.format(pid, title, value))\n",
    "    return res"
   ]
  },
  {
   "cell_type": "code",
   "execution_count": 12,
   "metadata": {},
   "outputs": [
    {
     "name": "stdout",
     "output_type": "stream",
     "text": [
      "pid=468563, title=Global News Podcast, value=2339.0\n",
      "pid=570881, title=晓说2018, value=1990.0\n",
      "pid=15554, title=段子来了, value=1838.0\n",
      "pid=574393, title=6 Minute English, value=1743.0\n",
      "pid=431972, title=TED Radio Hour, value=1513.0\n",
      "pid=574416, title=Learning English for China, value=1486.0\n",
      "pid=1086228, title=潘吉Jenny告诉你|学英语聊美国|开言英语 · Podcast, value=1264.0\n",
      "pid=1024263, title=The Economist Radio (All audio), value=1208.0\n",
      "pid=468582, title=Discovery, value=1199.0\n",
      "pid=441712, title=果壳频道, value=1147.0\n",
      "pid=1013607, title=英语口语每天学, value=1135.0\n",
      "pid=20239, title=一席, value=1098.0\n",
      "pid=935281, title=罗辑思维/得到App, value=1044.0\n",
      "pid=1814, title=This American Life, value=1000.0\n",
      "pid=431962, title=Planet Money, value=971.0\n",
      "pid=574385, title=The English We Speak, value=963.0\n",
      "pid=4541, title=TED Talks Daily, value=935.0\n",
      "pid=1238672, title=60 Minutes, value=919.0\n",
      "pid=14977, title=怀旧金曲, value=853.0\n",
      "pid=20048, title=电影不无聊, value=834.0\n",
      "pid=285553, title=罗辑思维, value=814.0\n",
      "pid=943367, title=锵锵三人行, value=811.0\n",
      "pid=18813, title=凤凰FM, value=800.0\n",
      "pid=131574, title=3D催眠【睡前精神按摩】, value=797.0\n",
      "pid=373349, title=科学脱口秀, value=789.0\n",
      "pid=394828, title=60-Second Science, value=780.0\n",
      "pid=16303, title=吴晓波频道, value=774.0\n",
      "pid=468566, title=Business Daily, value=737.0\n",
      "pid=574386, title=BBC Learning English Drama, value=730.0\n",
      "pid=15573, title=喜马拉雅FM, value=710.0\n",
      "pid=12955, title=蕊希电台, value=707.0\n",
      "pid=104343, title=环球地理Global Geography, value=692.0\n",
      "pid=973326, title=Dkey, value=687.0\n",
      "pid=1216928, title=Stuff You Should Know, value=677.0\n",
      "pid=13818, title=机核网 GADIO 游戏广播, value=672.0\n",
      "pid=224967, title=一个人睡前听【一个人听的晚安电台】, value=671.0\n",
      "pid=12947, title=阅读经典, value=664.0\n",
      "pid=412948, title=黑水公园, value=647.0\n",
      "pid=14983, title=酷狗音乐新歌榜, value=617.0\n",
      "pid=3164, title=NHKラジオニュース, value=614.0\n",
      "pid=15558, title=绝对内涵, value=610.0\n",
      "pid=2164, title=All Ears English Podcast | Real English Vocabulary | Conversation | American Culture, value=601.0\n",
      "pid=1179004, title=每日5分钟英语, value=598.0\n",
      "pid=20240, title=美文阅读, value=584.0\n",
      "pid=19415, title=Round Table 圆桌会议, value=580.0\n",
      "pid=12954, title=一个人的书房, value=571.0\n",
      "pid=973334, title=看电影，听音乐, value=539.0\n",
      "pid=19416, title=轻阅读, value=535.0\n",
      "pid=468577, title=The Documentary Podcast, value=530.0\n",
      "pid=447110, title=State of America, value=526.0\n"
     ]
    }
   ],
   "source": [
    "_ = list_top_channels('zh/cn', N = 50)"
   ]
  },
  {
   "cell_type": "markdown",
   "metadata": {},
   "source": [
    "# Evaluation Function"
   ]
  },
  {
   "cell_type": "code",
   "execution_count": 13,
   "metadata": {
    "collapsed": true
   },
   "outputs": [],
   "source": [
    "def compute_scores(self, user_id, user_items, recalculate_user=False):\n",
    "    user = self._user_factor(user_id, user_items, recalculate_user = recalculate_user)\n",
    "    scores = self.item_factors.dot(user)\n",
    "    return scores\n",
    "\n",
    "def eval_user_recomm(model, user_id, N = 10, verbose = True):\n",
    "    if not isinstance(user_id, int):\n",
    "        user_id = user_helper.get_locale_code(user_id)\n",
    "    print('user_id = {}'.format(user_id))\n",
    "    if model.__module__.startswith('implicit'):\n",
    "        scores = -compute_scores(model, user_id, user_items = mat_csr2)\n",
    "    else:\n",
    "        scores = -model.predict(user_ids = user_id, item_ids = lfm_item_ids)\n",
    "    pred_idxs = np.argpartition(scores, N)[:N]\n",
    "    pred = [(x, scores[x]) for x in pred_idxs]\n",
    "    pred.sort(key = lambda x: x[1])\n",
    "    pred_idxs = [x[0] for x in pred]\n",
    "    pred_pids = [channel_idx2cid[x] for x in pred_idxs]\n",
    "    if verbose:\n",
    "        for idx, pid in enumerate(pred_pids):\n",
    "            print('- {} {} {} {}'.format(pid, channel_pid_data[pid]['title'], \n",
    "                                         pred_idxs[idx], pred[idx][1]))\n",
    "    else:\n",
    "        return pred_pids"
   ]
  },
  {
   "cell_type": "markdown",
   "metadata": {},
   "source": [
    "# Train ALS Model"
   ]
  },
  {
   "cell_type": "code",
   "execution_count": 14,
   "metadata": {
    "collapsed": true
   },
   "outputs": [],
   "source": [
    "np.random.seed(42)\n",
    "als_model = implicit.als.AlternatingLeastSquares(\n",
    "    factors= 100, \n",
    "    iterations = 20)"
   ]
  },
  {
   "cell_type": "code",
   "execution_count": 15,
   "metadata": {},
   "outputs": [
    {
     "name": "stderr",
     "output_type": "stream",
     "text": [
      "DEBUG:implicit:Converting input to CSR format\n",
      "DEBUG:implicit:Converted input to CSR in 0.062s\n",
      "DEBUG:implicit:Calculated transpose in 0.019s\n",
      "DEBUG:implicit:initialize factors in 0.264071941376\n",
      "DEBUG:implicit:finished iteration 0 in 2.498s\n",
      "DEBUG:implicit:finished iteration 1 in 2.502s\n",
      "DEBUG:implicit:finished iteration 2 in 2.462s\n",
      "DEBUG:implicit:finished iteration 3 in 2.507s\n",
      "DEBUG:implicit:finished iteration 4 in 2.455s\n",
      "DEBUG:implicit:finished iteration 5 in 2.386s\n",
      "DEBUG:implicit:finished iteration 6 in 2.542s\n",
      "DEBUG:implicit:finished iteration 7 in 2.509s\n",
      "DEBUG:implicit:finished iteration 8 in 2.444s\n",
      "DEBUG:implicit:finished iteration 9 in 2.560s\n",
      "DEBUG:implicit:finished iteration 10 in 2.471s\n",
      "DEBUG:implicit:finished iteration 11 in 2.570s\n",
      "DEBUG:implicit:finished iteration 12 in 2.548s\n",
      "DEBUG:implicit:finished iteration 13 in 2.414s\n",
      "DEBUG:implicit:finished iteration 14 in 2.407s\n",
      "DEBUG:implicit:finished iteration 15 in 2.536s\n",
      "DEBUG:implicit:finished iteration 16 in 2.491s\n",
      "DEBUG:implicit:finished iteration 17 in 2.514s\n",
      "DEBUG:implicit:finished iteration 18 in 2.444s\n",
      "DEBUG:implicit:finished iteration 19 in 2.454s\n"
     ]
    },
    {
     "name": "stdout",
     "output_type": "stream",
     "text": [
      "CPU times: user 5min 40s, sys: 7min 28s, total: 13min 8s\n",
      "Wall time: 50.1 s\n"
     ]
    }
   ],
   "source": [
    "%%time\n",
    "als_model.fit(mat_csr2.T)"
   ]
  },
  {
   "cell_type": "code",
   "execution_count": 16,
   "metadata": {},
   "outputs": [
    {
     "name": "stdout",
     "output_type": "stream",
     "text": [
      "user_id = 25\n",
      "- 364268 The Psychology In Seattle Podcast 63070 -1.45106518269\n",
      "- 115307 Doughboys 70491 -1.44882357121\n",
      "- 535906 Change ma vie : Outils pour l'esprit 8789 -1.37248039246\n",
      "- 381734 1001 Classic Short Stories & Tales 72794 -1.34524273872\n",
      "- 32383 Géopolitique, le débat 22303 -1.32215833664\n",
      "- 5995 Respectful Parenting: Janet Lansbury Unruffled 4581 -1.32071423531\n",
      "- 8486 Show Time Spanish 6403 -1.31882667542\n",
      "- 569596 The Vanished Podcast 43460 -1.31417274475\n",
      "- 341806 Speak For Yourself with Cowherd & Whitlock 50599 -1.31044471264\n",
      "- 130011 Forbes Audio Edition 78114 -1.30829644203\n",
      "- 8469 Learn Portuguese - BrazilianPodClass 6389 -1.30688261986\n",
      "- 109930 Kiss Kiss in the Mix cu Dj Yaang & OLiX 67578 -1.30198931694\n",
      "- 32357 Monocle 24: The Globalist 22280 -1.29950714111\n",
      "- 342014 La méthode scientifique 50683 -1.29528331757\n",
      "- 2743 Collège de France (Histoire) 2106 -1.29195177555\n",
      "- 40380 Liftoff 27477 -1.28773140907\n",
      "- 130958 DJ AMICE 78594 -1.28479099274\n",
      "- 382253 Official UEFA Champions League Podcast 109496 -1.28280639648\n",
      "- 1196023 CarStuff 86272 -1.2783408165\n",
      "- 21482 The Chillout Lounge Mix 15154 -1.277140975\n"
     ]
    }
   ],
   "source": [
    "eval_user_recomm(als_model, 'zh/cn', N = 20)"
   ]
  },
  {
   "cell_type": "markdown",
   "metadata": {},
   "source": [
    "# Train BPR Model"
   ]
  },
  {
   "cell_type": "code",
   "execution_count": 19,
   "metadata": {
    "collapsed": true
   },
   "outputs": [],
   "source": [
    "np.random.seed(42)\n",
    "bpr_model = implicit.bpr.BayesianPersonalizedRanking(\n",
    "    factors= 100, \n",
    "    regularization = 0.01,\n",
    "    iterations = 40)"
   ]
  },
  {
   "cell_type": "code",
   "execution_count": 20,
   "metadata": {},
   "outputs": [
    {
     "name": "stderr",
     "output_type": "stream",
     "text": [
      "DEBUG:implicit:Converting input to COO format\n",
      "DEBUG:implicit:Converted input to COO in 0.012s\n",
      "DEBUG:implicit:fit epoch 0 in 0.168s (51.91% ranked correctly)\n",
      "DEBUG:implicit:fit epoch 1 in 0.163s (54.24% ranked correctly)\n",
      "DEBUG:implicit:fit epoch 2 in 0.165s (55.56% ranked correctly)\n",
      "DEBUG:implicit:fit epoch 3 in 0.164s (56.63% ranked correctly)\n",
      "DEBUG:implicit:fit epoch 4 in 0.165s (57.43% ranked correctly)\n",
      "DEBUG:implicit:fit epoch 5 in 0.162s (58.24% ranked correctly)\n",
      "DEBUG:implicit:fit epoch 6 in 0.164s (58.88% ranked correctly)\n",
      "DEBUG:implicit:fit epoch 7 in 0.168s (59.60% ranked correctly)\n",
      "DEBUG:implicit:fit epoch 8 in 0.164s (60.36% ranked correctly)\n",
      "DEBUG:implicit:fit epoch 9 in 0.165s (61.23% ranked correctly)\n",
      "DEBUG:implicit:fit epoch 10 in 0.163s (61.99% ranked correctly)\n",
      "DEBUG:implicit:fit epoch 11 in 0.164s (62.75% ranked correctly)\n",
      "DEBUG:implicit:fit epoch 12 in 0.165s (63.56% ranked correctly)\n",
      "DEBUG:implicit:fit epoch 13 in 0.164s (64.19% ranked correctly)\n",
      "DEBUG:implicit:fit epoch 14 in 0.164s (64.91% ranked correctly)\n",
      "DEBUG:implicit:fit epoch 15 in 0.164s (65.54% ranked correctly)\n",
      "DEBUG:implicit:fit epoch 16 in 0.164s (66.24% ranked correctly)\n",
      "DEBUG:implicit:fit epoch 17 in 0.164s (66.83% ranked correctly)\n",
      "DEBUG:implicit:fit epoch 18 in 0.164s (67.43% ranked correctly)\n",
      "DEBUG:implicit:fit epoch 19 in 0.164s (68.01% ranked correctly)\n",
      "DEBUG:implicit:fit epoch 20 in 0.163s (68.47% ranked correctly)\n",
      "DEBUG:implicit:fit epoch 21 in 0.163s (68.96% ranked correctly)\n",
      "DEBUG:implicit:fit epoch 22 in 0.164s (69.48% ranked correctly)\n",
      "DEBUG:implicit:fit epoch 23 in 0.163s (69.90% ranked correctly)\n",
      "DEBUG:implicit:fit epoch 24 in 0.162s (70.32% ranked correctly)\n",
      "DEBUG:implicit:fit epoch 25 in 0.163s (70.71% ranked correctly)\n",
      "DEBUG:implicit:fit epoch 26 in 0.163s (71.18% ranked correctly)\n",
      "DEBUG:implicit:fit epoch 27 in 0.165s (71.51% ranked correctly)\n",
      "DEBUG:implicit:fit epoch 28 in 0.163s (71.80% ranked correctly)\n",
      "DEBUG:implicit:fit epoch 29 in 0.163s (72.20% ranked correctly)\n",
      "DEBUG:implicit:fit epoch 30 in 0.168s (72.54% ranked correctly)\n",
      "DEBUG:implicit:fit epoch 31 in 0.168s (72.88% ranked correctly)\n",
      "DEBUG:implicit:fit epoch 32 in 0.164s (73.18% ranked correctly)\n",
      "DEBUG:implicit:fit epoch 33 in 0.164s (73.48% ranked correctly)\n",
      "DEBUG:implicit:fit epoch 34 in 0.164s (73.78% ranked correctly)\n",
      "DEBUG:implicit:fit epoch 35 in 0.164s (74.19% ranked correctly)\n",
      "DEBUG:implicit:fit epoch 36 in 0.163s (74.36% ranked correctly)\n",
      "DEBUG:implicit:fit epoch 37 in 0.163s (74.67% ranked correctly)\n",
      "DEBUG:implicit:fit epoch 38 in 0.163s (74.96% ranked correctly)\n",
      "DEBUG:implicit:fit epoch 39 in 0.162s (75.21% ranked correctly)\n"
     ]
    },
    {
     "name": "stdout",
     "output_type": "stream",
     "text": [
      "CPU times: user 1min 45s, sys: 88 ms, total: 1min 46s\n",
      "Wall time: 7.27 s\n"
     ]
    }
   ],
   "source": [
    "%%time\n",
    "bpr_model.fit(mat_csr2.T)"
   ]
  },
  {
   "cell_type": "code",
   "execution_count": 22,
   "metadata": {},
   "outputs": [
    {
     "name": "stdout",
     "output_type": "stream",
     "text": [
      "user_id = 29\n",
      "- 16321 投資新世代 11985 -6.23288106918\n",
      "- 15654 轻松一刻粤语版 11592 -6.22307109833\n",
      "- 320815 Bilgi Çağı 39628 -6.20479774475\n",
      "- 19708 汽车入门学校 14142 -6.16602802277\n",
      "- 1077062 放映邪会 - 动漫电台 20043 -6.1393866539\n",
      "- 1199276 久米宏　ラジオなんですけど 89716 -6.12867832184\n",
      "- 15030 你的故事我的歌(新) 11186 -6.12150764465\n",
      "- 4352 Tokyo Midtown presents The Lifestyle MUSEUM 3314 -6.11914205551\n",
      "- 973833 能猫老徐 119527 -6.07099723816\n",
      "- 14010 《 自然療法與你 》 - 源網台 sourcewadio.com 10569 -6.04407787323\n",
      "- 14409 90日聆聽新約聖經 10819 -6.03264093399\n",
      "- 1017705 深海之蓝_Ryan 99348 -6.02314853668\n",
      "- 13285 催眠放松 10063 -6.00807571411\n",
      "- 14992 音乐大明星 11158 -6.00692224503\n",
      "- 485611 《赖世雄美语从头学初级美语（上）》讲解音频 123842 -5.99964284897\n",
      "- 14966 ちょっとエッチなクラブ学 横山美雪のこんなの初めてっ!![FLOORnet podcast] 11137 -5.99943161011\n",
      "- 16881 极客方式 12367 -5.99635505676\n",
      "- 13845 ❤恋愛心理学❤知りたい！相手の気持ち 10461 -5.99033069611\n",
      "- 366629 鞠强教授从管理心理学视角谈历史 6796 -5.98399162292\n",
      "- 1202824 为你读英语美文 91398 -5.98353481293\n"
     ]
    }
   ],
   "source": [
    "eval_user_recomm(bpr_model, 'zh/cn', N = 20)"
   ]
  },
  {
   "cell_type": "markdown",
   "metadata": {},
   "source": [
    "# LightFM Model"
   ]
  },
  {
   "cell_type": "code",
   "execution_count": 23,
   "metadata": {},
   "outputs": [
    {
     "name": "stdout",
     "output_type": "stream",
     "text": [
      "CPU times: user 0 ns, sys: 0 ns, total: 0 ns\n",
      "Wall time: 67 µs\n"
     ]
    }
   ],
   "source": [
    "%%time\n",
    "lfm_model = lightfm.LightFM(no_components=100, loss = 'warp', random_state=42)"
   ]
  },
  {
   "cell_type": "code",
   "execution_count": 24,
   "metadata": {},
   "outputs": [
    {
     "name": "stdout",
     "output_type": "stream",
     "text": [
      "Epoch 0\n",
      "Epoch 1\n",
      "Epoch 2\n",
      "Epoch 3\n",
      "Epoch 4\n",
      "Epoch 5\n",
      "Epoch 6\n",
      "Epoch 7\n",
      "Epoch 8\n",
      "Epoch 9\n",
      "Epoch 10\n",
      "Epoch 11\n",
      "Epoch 12\n",
      "Epoch 13\n",
      "Epoch 14\n",
      "Epoch 15\n",
      "Epoch 16\n",
      "Epoch 17\n",
      "Epoch 18\n",
      "Epoch 19\n",
      "CPU times: user 4min 2s, sys: 208 ms, total: 4min 3s\n",
      "Wall time: 33.5 s\n"
     ]
    },
    {
     "data": {
      "text/plain": [
       "<lightfm.lightfm.LightFM at 0x7fc03e038550>"
      ]
     },
     "execution_count": 24,
     "metadata": {},
     "output_type": "execute_result"
    }
   ],
   "source": [
    "%%time\n",
    "lfm_model.fit_partial(mat_csr2, epochs = 20, num_threads = 8, verbose = True)"
   ]
  },
  {
   "cell_type": "code",
   "execution_count": 28,
   "metadata": {},
   "outputs": [
    {
     "name": "stdout",
     "output_type": "stream",
     "text": [
      "user_id = 0\n",
      "- 1294718 11 Inicial 134174 -1.2246556282\n",
      "- 376472 The War Room 71327 -1.05111908913\n",
      "- 16920 Emacs Chat 12393 0.182210057974\n",
      "- 1160312 How Is She Though?: RuPaul's Drag Race Recap 133008 0.518623411655\n",
      "- 535552 Roaring Riot Podcast 58863 0.52796214819\n",
      "- 961233 Erotica Magazine: Playboy Lifestyle | Erotic Audio |Erotic Models | How to Pick Up Girls » Toy (Erotica Magazine Audio) 21825 0.588945269585\n",
      "- 1174524 Under the Hood Podcast 77620 0.635321080685\n",
      "- 206955 Plural of You 110128 0.644687891006\n",
      "- 1246086 El Petroleo es Nuestro: A History of Oil in Mexico 112161 0.671018302441\n",
      "- 522362 Conversations With Writers 139072 0.704585134983\n",
      "- 452525 Celtics Life NBA Basketball Podcast 108857 0.725243270397\n",
      "- 1290875 UFC Reviews and After Show 132915 0.729335010052\n",
      "- 435698 PeaceCast 100782 0.743344306946\n",
      "- 420945 The Home and the World by Rabindranath Tagore 97531 0.753208637238\n",
      "- 7412 Heavens Above Astronomy Podcast 5677 0.784580945969\n",
      "- 193363 Helluva Catholic Podcast 110209 0.78585678339\n",
      "- 441883 Diff'in Strokes 103802 0.809291422367\n",
      "- 1233639 Happy Sounds - A Serena Nature Sounds Podcast 106358 0.814856886864\n",
      "- 963134 PaoGeekeijo 102312 0.819463908672\n",
      "- 464402 Palm Valley Church Podcast 114214 0.822918832302\n",
      "- 988611 Car Chronicles 114165 0.840796172619\n",
      "- 574480 The Leak 54156 0.899094700813\n",
      "- 1213054 Suze Orman's Women & Money Show 96804 0.90137052536\n",
      "- 273327 孤独六讲 44307 0.904459774494\n",
      "- 45926 Personal Development for Amazing People 31413 0.905185461044\n",
      "- 293074 The Gathering Place Church's Podcast 21671 0.914461672306\n",
      "- 126906 Overly Animated Adventure Time Podcasts 78104 0.918223023415\n",
      "- 200852 Arias and Songs | WFMT 113602 0.959214508533\n",
      "- 383611 Tourcaster - Rome - Pantheon - Temple of the Gods Audio Tour 75236 1.00792443752\n",
      "- 43655 Your Turning Point 29882 1.02566874027\n",
      "- 147245 SBS전망대 - SDF T.I.M.E 87840 1.02614092827\n",
      "- 83558 World shapers 53495 1.05603802204\n",
      "- 1177978 The Plant 136159 1.08703529835\n",
      "- 150090 Drunk Science Podcast 89401 1.09625256062\n",
      "- 1278853 Seattle's Morning News with Dave Ross 127177 1.12752842903\n",
      "- 37284 The VG Island Podcast 25744 1.1426564455\n",
      "- 1160015 Forum 69 69731 1.14949154854\n",
      "- 136190 Frans Classics - The Week in Rock 82795 1.14991629124\n",
      "- 1094318 Locker Room 9377 1.16392672062\n",
      "- 482772 Triskele Logistics - CMI Podcast 51860 1.18071711063\n",
      "- 67198 The Pulse 74345 1.22005915642\n",
      "- 1255352 Fernando and Greg's Side Show 116337 1.27460360527\n",
      "- 1046867 Oye Mami Show 139182 1.27730333805\n",
      "- 47089 Geek Brunch 32214 1.28420603275\n",
      "- 385680 River Cruise Radio 76386 1.29229414463\n",
      "- 1253555 Total Warriors! 115381 1.29430282116\n",
      "- 178363 Real Estate Talk Boston 103118 1.30293929577\n",
      "- 291064 the BCEC 20311 1.32233893871\n",
      "- 336256 His Love Christian Fellowship 48167 1.32533228397\n",
      "- 1085108 The Airing of Grief 25269 1.32925760746\n",
      "CPU times: user 64 ms, sys: 4 ms, total: 68 ms\n",
      "Wall time: 67.2 ms\n"
     ]
    }
   ],
   "source": [
    "%%time\n",
    "eval_user_recomm(lfm_model, 'en/us', N = 50)"
   ]
  },
  {
   "cell_type": "markdown",
   "metadata": {},
   "source": [
    "# 横向对比"
   ]
  },
  {
   "cell_type": "code",
   "execution_count": 29,
   "metadata": {},
   "outputs": [
    {
     "data": {
      "text/plain": [
       "Index([u'en/us', u'en/gb', u'en/au', u'en/ca', u'ko/kr', u'sv/se', u'pt/br',\n",
       "       u'ru/ru', u'de/de', u'ja/jp',\n",
       "       ...\n",
       "       u'en/ly', u'fr/ga', u'ar/de', u'en/al', u'es/br', u'en/bb', u'ar/lb',\n",
       "       u'it/ch', u'en/tn', u'fr/mu'],\n",
       "      dtype='object', length=257)"
      ]
     },
     "execution_count": 29,
     "metadata": {},
     "output_type": "execute_result"
    }
   ],
   "source": [
    "user_helper.locales"
   ]
  },
  {
   "cell_type": "code",
   "execution_count": 31,
   "metadata": {},
   "outputs": [
    {
     "name": "stdout",
     "output_type": "stream",
     "text": [
      "==========\n",
      "list top channels\n",
      "pid=468563, title=Global News Podcast, value=3230.0\n",
      "pid=15554, title=段子来了, value=3214.0\n",
      "pid=570881, title=晓说2018, value=2644.0\n",
      "pid=13818, title=机核网 GADIO 游戏广播, value=2565.0\n",
      "pid=431972, title=TED Radio Hour, value=2269.0\n",
      "pid=574393, title=6 Minute English, value=2105.0\n",
      "pid=574416, title=Learning English for China, value=1846.0\n",
      "pid=1024263, title=The Economist Radio (All audio), value=1777.0\n",
      "pid=20239, title=一席, value=1725.0\n",
      "pid=20048, title=电影不无聊, value=1703.0\n",
      "pid=4541, title=TED Talks Daily, value=1609.0\n",
      "pid=1086228, title=潘吉Jenny告诉你|学英语聊美国|开言英语 · Podcast, value=1557.0\n",
      "pid=468582, title=Discovery, value=1447.0\n",
      "pid=943367, title=锵锵三人行, value=1373.0\n",
      "pid=441712, title=果壳频道, value=1350.0\n",
      "pid=1013607, title=英语口语每天学, value=1342.0\n",
      "pid=4222, title=友的聊播客, value=1282.0\n",
      "pid=935281, title=罗辑思维/得到App, value=1271.0\n",
      "pid=1814, title=This American Life, value=1253.0\n",
      "pid=1216928, title=Stuff You Should Know, value=1250.0\n",
      "pid=574385, title=The English We Speak, value=1245.0\n",
      "pid=131574, title=3D催眠【睡前精神按摩】, value=1178.0\n",
      "pid=15573, title=喜马拉雅FM, value=1141.0\n",
      "pid=431962, title=Planet Money, value=1130.0\n",
      "pid=1238672, title=60 Minutes, value=1051.0\n",
      "pid=20240, title=美文阅读, value=1046.0\n",
      "pid=14977, title=怀旧金曲, value=998.0\n",
      "pid=285553, title=罗辑思维, value=986.0\n",
      "pid=18813, title=凤凰FM, value=981.0\n",
      "pid=1043655, title=chiliko, value=977.0\n",
      "pid=1047784, title=流行通信, value=975.0\n",
      "pid=984659, title=舛様, value=960.0\n",
      "pid=984527, title=一起来Lu二次元, value=959.0\n",
      "pid=373349, title=科学脱口秀, value=949.0\n",
      "pid=16303, title=吴晓波频道, value=947.0\n",
      "pid=1041168, title=太医来了, value=943.0\n",
      "pid=412948, title=黑水公园, value=930.0\n",
      "pid=394828, title=60-Second Science, value=913.0\n",
      "pid=1105367, title=Anyway.FM × 设计杂谈, value=907.0\n",
      "pid=987060, title=我是悠大怪, value=903.0\n",
      "==========\n",
      "lfm model\n",
      "user_id = 29\n",
      "- 131574 3D催眠【睡前精神按摩】 80449 12.6103839874\n",
      "- 400753 郭德纲相声2017 83862 12.6618032455\n",
      "- 963249 故事 FM 102375 12.7092981339\n",
      "- 1073415 德云社清晰相声--睡眠专用 17618 12.8173618317\n",
      "- 468321 Best of Today 115902 12.9380912781\n",
      "- 490767 百战奇谋-巅峰海战 126236 12.9950580597\n",
      "- 1000546 博物志 133520 13.0466794968\n",
      "- 15418 极客公园【科技 互联网 新知识 奇酷探秘】 11417 13.0708198547\n",
      "- 521630 腾飞五千年之塞北三朝 138718 13.1182031631\n",
      "- 579 Nature Podcast 468 13.1321964264\n",
      "- 1043823 选·美 137929 13.161280632\n",
      "- 1099862 土逼No.4 34947 13.1702795029\n",
      "- 984334 Blow Your Mind 112331 13.1817245483\n",
      "- 19705 万有引力 14139 13.1894712448\n",
      "- 468566 Business Daily 116140 13.1979217529\n",
      "- 13286 禁书选读续 10064 13.2023057938\n",
      "- 17593 遇见未知的自己 12803 13.2195911407\n",
      "- 13285 催眠放松 10063 13.2351398468\n",
      "- 580791 晚9-10点广播节目 - 美国之音 38253 13.2371053696\n",
      "- 16645 口语天天练 12191 13.2374477386\n",
      "- 373534 软件那些事儿 69702 13.301735878\n",
      "- 1254915 The Art of Charm | High Performance Techniques| Cognitive Development | Relationship Advice | Mastery of Human Dynamics 116057 13.316362381\n",
      "- 7013 The Adventure Zone 5401 13.3234815598\n",
      "- 1043704 听说没见过 137892 13.3532190323\n",
      "- 351776 消灭无聊 80033 13.3555793762\n",
      "- 16755 早安英文 12279 13.3628025055\n",
      "- 464191 Learn German | GermanPod101.com 96444 13.3670520782\n",
      "- 1043995 时尚怪物 137988 13.3741502762\n",
      "- 425154 Criminal 109455 13.3807659149\n",
      "- 431973 All Songs Considered 99094 13.3891382217\n",
      "- 2164 All Ears English Podcast | Real English Vocabulary | Conversation | American Culture 1667 13.3995637894\n",
      "- 258168 观复嘟嘟 138177 13.4013843536\n",
      "- 617886 Mogul: The Life and Death of Chris Lighty 59468 13.4055585861\n",
      "- 16638 英语PAPAPA 12187 13.442109108\n",
      "- 468577 The Documentary Podcast 116150 13.4435348511\n",
      "- 2587 China in the World 2000 13.445438385\n",
      "- 441088 雷音寺 梁宏达 103383 13.4661369324\n",
      "- 3661 Lore 2826 13.4973363876\n",
      "- 428880 【静雅思听】品质美文 97703 13.5117025375\n",
      "- 1204 Storynory - Stories for Kids 957 13.5314979553\n"
     ]
    }
   ],
   "source": [
    "locale = 'zh/cn'\n",
    "n = 40\n",
    "print('=' * 10 + '\\nlist top channels')\n",
    "_ = list_top_channels(locale, N = n)\n",
    "print('=' * 10 + '\\nlfm model')\n",
    "eval_user_recomm(lfm_model, locale, N = n)"
   ]
  },
  {
   "cell_type": "markdown",
   "metadata": {},
   "source": [
    "# 部署到数据库"
   ]
  },
  {
   "cell_type": "code",
   "execution_count": 17,
   "metadata": {
    "collapsed": true
   },
   "outputs": [],
   "source": [
    "def pid_to_key(pid):\n",
    "    assert(pid in channel_pid_data)\n",
    "    data = channel_pid_data[pid]\n",
    "    return data['key']\n",
    "\n",
    "def get_track_keys(feeds):\n",
    "    tracks = []\n",
    "    for x in feeds:\n",
    "        track = channel_data.get(x, {}).get('track')\n",
    "        if not track: continue\n",
    "        tracks.append('{}-{}'.format(x, track))\n",
    "    return tracks\n",
    "\n",
    "def deploy_to_db(table, recomm_data):\n",
    "    ops = []\n",
    "    for (f, feeds, tracks) in tqdm.tqdm(recomm_data):\n",
    "        ops.append(pymongo.UpdateOne({'_id': f}, {'$set': {'feeds': feeds, 'tracks': tracks}}, upsert=True))\n",
    "        if len(ops) == 100:\n",
    "            table.bulk_write(ops, ordered=False)\n",
    "            ops = []\n",
    "    if ops:\n",
    "        table.bulk_write(ops, ordered=False)"
   ]
  },
  {
   "cell_type": "code",
   "execution_count": 18,
   "metadata": {},
   "outputs": [
    {
     "name": "stderr",
     "output_type": "stream",
     "text": [
      "100%|██████████| 311/311 [00:00<00:00, 526.42it/s]\n"
     ]
    }
   ],
   "source": [
    "recomm_data = []\n",
    "for locale in tqdm.tqdm(user_helper.locales):\n",
    "    res = list_top_channels(locale, N = 200, verbose = False)\n",
    "    pids = [x[0] for x in res]\n",
    "    keys = [pid_to_key(x) for x in pids]\n",
    "    tracks = get_track_keys(keys)\n",
    "    recomm_data.append((locale, keys, tracks))"
   ]
  },
  {
   "cell_type": "code",
   "execution_count": 19,
   "metadata": {},
   "outputs": [
    {
     "name": "stderr",
     "output_type": "stream",
     "text": [
      "/home/ubuntu/nova/venv/local/lib/python2.7/site-packages/flask_cache/jinja2ext.py:33: ExtDeprecationWarning: Importing flask.ext.cache is deprecated, use flask_cache instead.\n",
      "  from flask.ext.cache import make_template_fragment_key\n",
      "100%|██████████| 311/311 [00:00<00:00, 1058.55it/s]\n"
     ]
    }
   ],
   "source": [
    "from recomm import app\n",
    "table = app.CBRecommDB['user_locale']\n",
    "# table.create_index('_id')\n",
    "deploy_to_db(table, recomm_data)"
   ]
  },
  {
   "cell_type": "code",
   "execution_count": null,
   "metadata": {
    "collapsed": true
   },
   "outputs": [],
   "source": []
  }
 ],
 "metadata": {
  "kernelspec": {
   "display_name": "Python 2",
   "language": "python",
   "name": "python2"
  },
  "language_info": {
   "codemirror_mode": {
    "name": "ipython",
    "version": 2
   },
   "file_extension": ".py",
   "mimetype": "text/x-python",
   "name": "python",
   "nbconvert_exporter": "python",
   "pygments_lexer": "ipython2",
   "version": "2.7.12"
  }
 },
 "nbformat": 4,
 "nbformat_minor": 2
}
