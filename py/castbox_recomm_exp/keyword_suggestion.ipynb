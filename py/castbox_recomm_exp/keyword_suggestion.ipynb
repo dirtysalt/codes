{
 "cells": [
  {
   "cell_type": "code",
   "execution_count": 1,
   "metadata": {
    "collapsed": true
   },
   "outputs": [],
   "source": [
    "import scipy\n",
    "import scipy.sparse\n",
    "import logging\n",
    "import implicit\n",
    "import implicit.bpr\n",
    "import numpy as np\n",
    "import itertools\n",
    "import random\n",
    "import pandas as pd\n",
    "import time\n",
    "import lightfm\n",
    "%matplotlib inline\n",
    "from collections import Counter"
   ]
  },
  {
   "cell_type": "code",
   "execution_count": 2,
   "metadata": {
    "collapsed": true
   },
   "outputs": [],
   "source": [
    "logging.basicConfig(level = logging.DEBUG)\n",
    "logger = logging.getLogger()\n",
    "logger.setLevel(logging.DEBUG)"
   ]
  },
  {
   "cell_type": "code",
   "execution_count": 3,
   "metadata": {
    "collapsed": true
   },
   "outputs": [],
   "source": [
    "df = pd.read_csv('49b02dcb-d47e-40e3-a1da-e230dc1928d2.csv')"
   ]
  },
  {
   "cell_type": "code",
   "execution_count": 4,
   "metadata": {
    "collapsed": true
   },
   "outputs": [],
   "source": [
    "df.rename_axis({'key_word': 'kw'}, axis = 1, inplace = True)\n",
    "df['kw'] = df['kw'].str.lower()"
   ]
  },
  {
   "cell_type": "code",
   "execution_count": 5,
   "metadata": {
    "collapsed": true
   },
   "outputs": [],
   "source": [
    "kw_dist = df['kw'].value_counts()"
   ]
  },
  {
   "cell_type": "code",
   "execution_count": 6,
   "metadata": {},
   "outputs": [
    {
     "data": {
      "text/plain": [
       "(6411,)"
      ]
     },
     "execution_count": 6,
     "metadata": {},
     "output_type": "execute_result"
    }
   ],
   "source": [
    "kw_dist[kw_dist > 10].shape"
   ]
  },
  {
   "cell_type": "code",
   "execution_count": 7,
   "metadata": {
    "collapsed": true
   },
   "outputs": [],
   "source": [
    "keyword_counter = Counter()\n",
    "for x in df.itertuples():\n",
    "    uid = x.uid\n",
    "    kw = x.kw\n",
    "    keyword_counter[kw] += 1"
   ]
  },
  {
   "cell_type": "code",
   "execution_count": 8,
   "metadata": {},
   "outputs": [
    {
     "data": {
      "text/plain": [
       "[('joe rogan', 3751),\n",
       " ('true crime', 3103),\n",
       " ('npr', 2555),\n",
       " ('this american life', 1887),\n",
       " ('bbc', 1566),\n",
       " ('hardcore history', 1498),\n",
       " ('ted', 1474),\n",
       " ('serial', 1395),\n",
       " ('serial killers', 1377),\n",
       " ('history', 1345)]"
      ]
     },
     "execution_count": 8,
     "metadata": {},
     "output_type": "execute_result"
    }
   ],
   "source": [
    "keyword_counter.most_common(10)"
   ]
  },
  {
   "cell_type": "code",
   "execution_count": 9,
   "metadata": {
    "collapsed": true
   },
   "outputs": [],
   "source": [
    "def organize_data(data):\n",
    "    keyword_index = {}\n",
    "    user_index = {}\n",
    "    odata = []\n",
    "    uid_index = 0\n",
    "    item_index = 0\n",
    "    for x in df.itertuples():\n",
    "        uid = x.uid\n",
    "        keyword = x.kw\n",
    "        if keyword_counter.get(keyword, 0) < 10: continue\n",
    "        if uid not in user_index:\n",
    "            ouid = uid_index\n",
    "            uid_index += 1\n",
    "            user_index[uid] = ouid\n",
    "        else:\n",
    "            ouid = user_index[uid]\n",
    "        if keyword not in keyword_index:\n",
    "            kid = item_index\n",
    "            item_index += 1\n",
    "            keyword_index[keyword] = kid\n",
    "        else:\n",
    "            kid = keyword_index[keyword]\n",
    "        odata.append((ouid, kid))\n",
    "    return user_index, keyword_index, odata"
   ]
  },
  {
   "cell_type": "code",
   "execution_count": 10,
   "metadata": {
    "collapsed": true
   },
   "outputs": [],
   "source": [
    "ui, ki, odata = organize_data(df)"
   ]
  },
  {
   "cell_type": "code",
   "execution_count": 11,
   "metadata": {},
   "outputs": [
    {
     "data": {
      "text/plain": [
       "(115954, 7046)"
      ]
     },
     "execution_count": 11,
     "metadata": {},
     "output_type": "execute_result"
    }
   ],
   "source": [
    "len(ui.items()), len(ki.items())"
   ]
  },
  {
   "cell_type": "code",
   "execution_count": 12,
   "metadata": {
    "collapsed": true
   },
   "outputs": [],
   "source": [
    "def build_coo_matrix(uid_count, item_count, organized_data):\n",
    "    uids = []\n",
    "    itemids = []\n",
    "    data = []\n",
    "    for uid, kid in organized_data:\n",
    "        data.append(1)\n",
    "        uids.append(uid)\n",
    "        itemids.append(kid)\n",
    "    coo_matrix = scipy.sparse.coo_matrix((data, (uids, itemids)), shape=(uid_count, item_count), dtype=np.float32)\n",
    "    return coo_matrix"
   ]
  },
  {
   "cell_type": "code",
   "execution_count": 13,
   "metadata": {
    "collapsed": true
   },
   "outputs": [],
   "source": [
    "coo_matrix = build_coo_matrix(len(ui), len(ki), odata)\n",
    "# coo_matrix = implicit.nearest_neighbours.bm25_weight(coo_matrix, K1 = 2.0, B = 0.8)"
   ]
  },
  {
   "cell_type": "code",
   "execution_count": 14,
   "metadata": {},
   "outputs": [
    {
     "data": {
      "text/plain": [
       "<115954x7046 sparse matrix of type '<type 'numpy.float32'>'\n",
       "\twith 304678 stored elements in COOrdinate format>"
      ]
     },
     "execution_count": 14,
     "metadata": {},
     "output_type": "execute_result"
    }
   ],
   "source": [
    "coo_matrix"
   ]
  },
  {
   "cell_type": "code",
   "execution_count": 15,
   "metadata": {
    "collapsed": true
   },
   "outputs": [],
   "source": [
    "ki_recerse = {}\n",
    "for keyword, kid in ki.items():\n",
    "    ki_recerse[kid] = keyword"
   ]
  },
  {
   "cell_type": "code",
   "execution_count": 16,
   "metadata": {
    "collapsed": true
   },
   "outputs": [],
   "source": [
    "def recomm_keyword(model, word):\n",
    "    word = word.lower().strip()\n",
    "    word_id = ki.get(word)\n",
    "    if word_id:\n",
    "        if model.__module__.startswith('implicit'):\n",
    "            recs = model.similar_items(word_id, 20)\n",
    "            for rec_id, prob in recs:\n",
    "                print(\"%s\\t\\t%.2f\" % (ki_recerse.get(rec_id), prob))\n",
    "        else:\n",
    "            item_embeddings = model.item_embeddings\n",
    "            scores = item_embeddings.dot(item_embeddings[word_id])\n",
    "            norm_scores = -scores / np.linalg.norm(item_embeddings, axis = -1)\n",
    "            N = 20\n",
    "            scores_idx = norm_scores.argpartition(N)\n",
    "            scores_idx = scores_idx[:N]\n",
    "            scores_idx_value = list(zip(scores_idx, [norm_scores[x] for x in scores_idx]))\n",
    "            scores_idx_value = sorted(scores_idx_value, key = lambda x: x[1])\n",
    "            for rec_id, prob in scores_idx_value:\n",
    "                print(\"%s\\t\\t%.2f\" % (ki_recerse.get(rec_id), prob))\n",
    "    else:\n",
    "        print(\"keyword not supported\")"
   ]
  },
  {
   "cell_type": "code",
   "execution_count": 27,
   "metadata": {
    "collapsed": true
   },
   "outputs": [],
   "source": [
    "np.random.seed(42)\n",
    "bpr_model = implicit.bpr.BayesianPersonalizedRanking(factors = 30, iterations = 10)"
   ]
  },
  {
   "cell_type": "code",
   "execution_count": 28,
   "metadata": {},
   "outputs": [
    {
     "name": "stderr",
     "output_type": "stream",
     "text": [
      "DEBUG:implicit:fit epoch 0 in 0.017s (50.56% ranked correctly)\n",
      "DEBUG:implicit:fit epoch 1 in 0.016s (51.85% ranked correctly)\n",
      "DEBUG:implicit:fit epoch 2 in 0.012s (52.92% ranked correctly)\n",
      "DEBUG:implicit:fit epoch 3 in 0.010s (54.31% ranked correctly)\n",
      "DEBUG:implicit:fit epoch 4 in 0.010s (55.40% ranked correctly)\n",
      "DEBUG:implicit:fit epoch 5 in 0.010s (56.37% ranked correctly)\n",
      "DEBUG:implicit:fit epoch 6 in 0.010s (57.75% ranked correctly)\n",
      "DEBUG:implicit:fit epoch 7 in 0.015s (58.53% ranked correctly)\n",
      "DEBUG:implicit:fit epoch 8 in 0.012s (59.42% ranked correctly)\n",
      "DEBUG:implicit:fit epoch 9 in 0.016s (60.35% ranked correctly)\n"
     ]
    }
   ],
   "source": [
    "bpr_model.fit(coo_matrix.T)"
   ]
  },
  {
   "cell_type": "code",
   "execution_count": 19,
   "metadata": {
    "collapsed": true
   },
   "outputs": [],
   "source": [
    "lfm_model = lightfm.LightFM(no_components=30, loss = 'warp', random_state=42)"
   ]
  },
  {
   "cell_type": "code",
   "execution_count": 20,
   "metadata": {},
   "outputs": [
    {
     "name": "stdout",
     "output_type": "stream",
     "text": [
      "Epoch 0\n",
      "Epoch 1\n",
      "Epoch 2\n",
      "Epoch 3\n",
      "Epoch 4\n",
      "Epoch 5\n",
      "Epoch 6\n",
      "Epoch 7\n",
      "Epoch 8\n",
      "Epoch 9\n",
      "Epoch 10\n",
      "Epoch 11\n",
      "Epoch 12\n",
      "Epoch 13\n",
      "Epoch 14\n",
      "Epoch 15\n",
      "Epoch 16\n",
      "Epoch 17\n",
      "Epoch 18\n",
      "Epoch 19\n"
     ]
    },
    {
     "data": {
      "text/plain": [
       "<lightfm.lightfm.LightFM at 0x7f501865e210>"
      ]
     },
     "execution_count": 20,
     "metadata": {},
     "output_type": "execute_result"
    }
   ],
   "source": [
    "lfm_model.fit_partial(coo_matrix, epochs = 20, num_threads = 8, verbose=True)"
   ]
  },
  {
   "cell_type": "code",
   "execution_count": 29,
   "metadata": {},
   "outputs": [
    {
     "name": "stdout",
     "output_type": "stream",
     "text": [
      "BPR Model Recomm\n",
      "joe rogan\t\t1.00\n",
      "criminal\t\t0.97\n",
      "npr\t\t0.96\n",
      "couples therapy with candice and casey\t\t0.96\n",
      "serial killers\t\t0.96\n",
      "hardcore history\t\t0.96\n",
      "true crime\t\t0.96\n",
      "bill burr\t\t0.96\n",
      "serial\t\t0.96\n",
      "in the dark\t\t0.96\n",
      "ted\t\t0.96\n",
      "radiolab\t\t0.96\n",
      "lore\t\t0.95\n",
      "this american life\t\t0.95\n",
      "reply all\t\t0.95\n",
      "critical role\t\t0.95\n",
      "sword and scale\t\t0.95\n",
      "conspiracy theories\t\t0.95\n",
      "gimlet\t\t0.95\n",
      "revisionist history\t\t0.95\n",
      "\n",
      "\n",
      "ALS Model Recomm\n",
      "joe rogan\t\t-1.69\n",
      "ufc unfiltered with jim norton and matt serra\t\t-1.19\n",
      "ari shaffir's skeptic tank\t\t-1.15\n",
      "atp science\t\t-1.11\n",
      "mma beat\t\t-1.08\n",
      "the fighter\t\t-1.08\n",
      "my wife hates me\t\t-1.07\n",
      "the fighter & the kid\t\t-1.07\n",
      "brendan schaub, bryan callen\t\t-1.07\n",
      "military\t\t-1.05\n",
      "fitzdog radio\t\t-1.03\n",
      "brendan schaub\t\t-1.03\n",
      "bisping\t\t-1.02\n",
      "the bill simmons podcast\t\t-1.02\n",
      "mma hour\t\t-1.01\n",
      "mike tyson: bite the mic with peter rosenberg\t\t-1.01\n",
      "your mom's house with christina p. and tom segura\t\t-1.01\n",
      "below the belt\t\t-1.00\n",
      "conspiracy farm\t\t-1.00\n",
      "tim dillon is going to hell\t\t-0.99\n"
     ]
    }
   ],
   "source": [
    "kw = 'joe rogan'\n",
    "# kw = 'Legion of Skanks Podcast'\n",
    "# kw = 'this sounds serious'\n",
    "# kw = '99% invisible'\n",
    "print('BPR Model Recomm')\n",
    "recomm_keyword(bpr_model, kw)\n",
    "print('\\n\\nALS Model Recomm')\n",
    "recomm_keyword(lfm_model, kw)"
   ]
  },
  {
   "cell_type": "code",
   "execution_count": null,
   "metadata": {
    "collapsed": true
   },
   "outputs": [],
   "source": []
  },
  {
   "cell_type": "code",
   "execution_count": null,
   "metadata": {
    "collapsed": true
   },
   "outputs": [],
   "source": []
  }
 ],
 "metadata": {
  "kernelspec": {
   "display_name": "Python 3",
   "language": "python",
   "name": "python3"
  },
  "language_info": {
   "codemirror_mode": {
    "name": "ipython",
    "version": 2
   },
   "file_extension": ".py",
   "mimetype": "text/x-python",
   "name": "python",
   "nbconvert_exporter": "python",
   "pygments_lexer": "ipython2",
   "version": "2.7.12"
  }
 },
 "nbformat": 4,
 "nbformat_minor": 2
}
