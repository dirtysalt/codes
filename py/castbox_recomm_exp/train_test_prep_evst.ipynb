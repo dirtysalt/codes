{
 "cells": [
  {
   "cell_type": "code",
   "execution_count": 1,
   "metadata": {},
   "outputs": [],
   "source": [
    "import scipy\n",
    "import scipy.sparse\n",
    "import cPickle\n",
    "import logging\n",
    "import implicit\n",
    "reload(implicit)\n",
    "import implicit.approximate_als\n",
    "reload(implicit.approximate_als)\n",
    "import implicit.bpr\n",
    "reload(implicit.bpr)\n",
    "import sklearn\n",
    "import numpy as np\n",
    "import itertools\n",
    "import random\n",
    "import pandas as pd\n",
    "import time\n",
    "import gc\n",
    "import lightfm\n",
    "import lightfm.evaluation\n",
    "import tqdm\n",
    "import seaborn as sns\n",
    "%matplotlib inline\n",
    "import util as C\n",
    "reload(C)\n",
    "import matplotlib.pyplot as plt"
   ]
  },
  {
   "cell_type": "markdown",
   "metadata": {},
   "source": [
    "# Load Data"
   ]
  },
  {
   "cell_type": "code",
   "execution_count": 2,
   "metadata": {
    "collapsed": true
   },
   "outputs": [],
   "source": [
    "logging.basicConfig(level = logging.DEBUG)\n",
    "logger = logging.getLogger()\n",
    "logger.setLevel(logging.DEBUG)"
   ]
  },
  {
   "cell_type": "code",
   "execution_count": 3,
   "metadata": {
    "collapsed": true
   },
   "outputs": [],
   "source": [
    "user_helper = C.get_user_helper()"
   ]
  },
  {
   "cell_type": "code",
   "execution_count": 4,
   "metadata": {
    "collapsed": true
   },
   "outputs": [],
   "source": [
    "df_idx = user_helper.load_evst_subs_idx_df()"
   ]
  },
  {
   "cell_type": "code",
   "execution_count": 5,
   "metadata": {},
   "outputs": [
    {
     "data": {
      "text/html": [
       "<div>\n",
       "<style>\n",
       "    .dataframe thead tr:only-child th {\n",
       "        text-align: right;\n",
       "    }\n",
       "\n",
       "    .dataframe thead th {\n",
       "        text-align: left;\n",
       "    }\n",
       "\n",
       "    .dataframe tbody tr th {\n",
       "        vertical-align: top;\n",
       "    }\n",
       "</style>\n",
       "<table border=\"1\" class=\"dataframe\">\n",
       "  <thead>\n",
       "    <tr style=\"text-align: right;\">\n",
       "      <th></th>\n",
       "      <th>uid</th>\n",
       "      <th>cs</th>\n",
       "    </tr>\n",
       "  </thead>\n",
       "  <tbody>\n",
       "    <tr>\n",
       "      <th>0</th>\n",
       "      <td>d4ef183e7b34430f91707dfec7e12dd1</td>\n",
       "      <td>11414</td>\n",
       "    </tr>\n",
       "    <tr>\n",
       "      <th>1</th>\n",
       "      <td>6c6e4d6f97904e018b06643032d4e85d</td>\n",
       "      <td>399+2465+3308+5950+13798+49689+69215+71013+105...</td>\n",
       "    </tr>\n",
       "    <tr>\n",
       "      <th>2</th>\n",
       "      <td>726554550003492895e92395a8ef8943</td>\n",
       "      <td>3421+11413+11554+26353+38381+40442+52917+67079...</td>\n",
       "    </tr>\n",
       "  </tbody>\n",
       "</table>\n",
       "</div>"
      ],
      "text/plain": [
       "                                uid  \\\n",
       "0  d4ef183e7b34430f91707dfec7e12dd1   \n",
       "1  6c6e4d6f97904e018b06643032d4e85d   \n",
       "2  726554550003492895e92395a8ef8943   \n",
       "\n",
       "                                                  cs  \n",
       "0                                              11414  \n",
       "1  399+2465+3308+5950+13798+49689+69215+71013+105...  \n",
       "2  3421+11413+11554+26353+38381+40442+52917+67079...  "
      ]
     },
     "execution_count": 5,
     "metadata": {},
     "output_type": "execute_result"
    }
   ],
   "source": [
    "df_idx.head(3)"
   ]
  },
  {
   "cell_type": "code",
   "execution_count": 6,
   "metadata": {},
   "outputs": [
    {
     "name": "stdout",
     "output_type": "stream",
     "text": [
      "CPU times: user 164 ms, sys: 96 ms, total: 260 ms\n",
      "Wall time: 256 ms\n"
     ]
    }
   ],
   "source": [
    "%%time\n",
    "mat_csr = C.load_mat(C.EVST_USER_ITEM_PATH)"
   ]
  },
  {
   "cell_type": "code",
   "execution_count": 7,
   "metadata": {},
   "outputs": [
    {
     "data": {
      "text/plain": [
       "<1884585x137344 sparse matrix of type '<type 'numpy.float32'>'\n",
       "\twith 15979221 stored elements in Compressed Sparse Row format>"
      ]
     },
     "execution_count": 7,
     "metadata": {},
     "output_type": "execute_result"
    }
   ],
   "source": [
    "mat_csr"
   ]
  },
  {
   "cell_type": "markdown",
   "metadata": {},
   "source": [
    "# Split Train/Test Data"
   ]
  },
  {
   "cell_type": "code",
   "execution_count": 8,
   "metadata": {},
   "outputs": [
    {
     "name": "stderr",
     "output_type": "stream",
     "text": [
      "  0%|          | 851/200000 [00:00<00:23, 8500.83it/s]"
     ]
    },
    {
     "name": "stdout",
     "output_type": "stream",
     "text": [
      "# of all users = 1884585\n",
      "# of ok users = 372377\n",
      "# of train users = 200000\n"
     ]
    },
    {
     "name": "stderr",
     "output_type": "stream",
     "text": [
      "100%|██████████| 200000/200000 [00:17<00:00, 11383.55it/s]\n"
     ]
    }
   ],
   "source": [
    "MIN_SUBS = 6\n",
    "MAX_SUBS = 10\n",
    "TRAIN_USERS = 20 * 10000\n",
    "train_mat_csr, train_users_idx = C.build_train_matrix(mat_csr, n_users = TRAIN_USERS, min_subs=MIN_SUBS, max_subs=MAX_SUBS)"
   ]
  },
  {
   "cell_type": "code",
   "execution_count": 9,
   "metadata": {},
   "outputs": [
    {
     "name": "stdout",
     "output_type": "stream",
     "text": [
      "CPU times: user 12 ms, sys: 0 ns, total: 12 ms\n",
      "Wall time: 11.3 ms\n"
     ]
    }
   ],
   "source": [
    "%%time\n",
    "train_mat_coo = train_mat_csr.tocoo()"
   ]
  },
  {
   "cell_type": "code",
   "execution_count": 10,
   "metadata": {
    "collapsed": true
   },
   "outputs": [],
   "source": [
    "train_meta_df = df_idx.iloc[train_users_idx].copy()\n",
    "train_meta_df['subs'] = train_meta_df['cs'].astype(str).apply(lambda x: len(x.split('+')))\n",
    "train_meta_df.reset_index(inplace=True)\n",
    "train_meta_df.drop(['cs'], axis=1, inplace=True)\n",
    "train_meta_df.rename_axis({'index':'origin_idx'}, axis = 1, inplace=True)"
   ]
  },
  {
   "cell_type": "code",
   "execution_count": 11,
   "metadata": {},
   "outputs": [
    {
     "data": {
      "text/html": [
       "<div>\n",
       "<style>\n",
       "    .dataframe thead tr:only-child th {\n",
       "        text-align: right;\n",
       "    }\n",
       "\n",
       "    .dataframe thead th {\n",
       "        text-align: left;\n",
       "    }\n",
       "\n",
       "    .dataframe tbody tr th {\n",
       "        vertical-align: top;\n",
       "    }\n",
       "</style>\n",
       "<table border=\"1\" class=\"dataframe\">\n",
       "  <thead>\n",
       "    <tr style=\"text-align: right;\">\n",
       "      <th></th>\n",
       "      <th>origin_idx</th>\n",
       "      <th>uid</th>\n",
       "      <th>subs</th>\n",
       "    </tr>\n",
       "  </thead>\n",
       "  <tbody>\n",
       "    <tr>\n",
       "      <th>0</th>\n",
       "      <td>1749024</td>\n",
       "      <td>f1a00626773a4a5bbca733b78c1dacd8</td>\n",
       "      <td>6</td>\n",
       "    </tr>\n",
       "    <tr>\n",
       "      <th>1</th>\n",
       "      <td>654302</td>\n",
       "      <td>b21b7abd64104875924f24ededacb637</td>\n",
       "      <td>6</td>\n",
       "    </tr>\n",
       "    <tr>\n",
       "      <th>2</th>\n",
       "      <td>779381</td>\n",
       "      <td>df9e4eaf667749d38de89efe1f33216d</td>\n",
       "      <td>8</td>\n",
       "    </tr>\n",
       "  </tbody>\n",
       "</table>\n",
       "</div>"
      ],
      "text/plain": [
       "   origin_idx                               uid  subs\n",
       "0     1749024  f1a00626773a4a5bbca733b78c1dacd8     6\n",
       "1      654302  b21b7abd64104875924f24ededacb637     6\n",
       "2      779381  df9e4eaf667749d38de89efe1f33216d     8"
      ]
     },
     "execution_count": 11,
     "metadata": {},
     "output_type": "execute_result"
    }
   ],
   "source": [
    "train_meta_df.head(3)"
   ]
  },
  {
   "cell_type": "code",
   "execution_count": 12,
   "metadata": {
    "collapsed": true
   },
   "outputs": [],
   "source": [
    "train_meta_df.to_csv(C.EVST_TRAIN_USER_ITEM_META_PATH)"
   ]
  },
  {
   "cell_type": "code",
   "execution_count": 13,
   "metadata": {},
   "outputs": [
    {
     "name": "stdout",
     "output_type": "stream",
     "text": [
      ",origin_idx,uid,subs\r\n",
      "0,1749024,f1a00626773a4a5bbca733b78c1dacd8,6\r\n",
      "1,654302,b21b7abd64104875924f24ededacb637,6\r\n",
      "2,779381,df9e4eaf667749d38de89efe1f33216d,8\r\n",
      "3,581919,094e8f67ecd84d05bd5c4d233cde44d7,9\r\n",
      "4,1417550,7623967ffe1e43f1aaa6f785ac57b4c6,10\r\n",
      "5,575623,46a475dfecfd47f6b130f171ec7a2f05,6\r\n",
      "6,159417,52c4a461d2454f2e8160201ce25aa256,7\r\n",
      "7,1429320,29dbb84b9e6a43f3b3817227119b1584,10\r\n",
      "8,803571,ee09aa4c54594cdca723fc159b1190c8,8\r\n"
     ]
    }
   ],
   "source": [
    "!head data/evst_train_user_item_meta.csv"
   ]
  },
  {
   "cell_type": "code",
   "execution_count": 14,
   "metadata": {},
   "outputs": [
    {
     "name": "stderr",
     "output_type": "stream",
     "text": [
      "  1%|▏         | 721/50000 [00:00<00:06, 7207.12it/s]"
     ]
    },
    {
     "name": "stdout",
     "output_type": "stream",
     "text": [
      "# of test users = 50000\n"
     ]
    },
    {
     "name": "stderr",
     "output_type": "stream",
     "text": [
      "100%|██████████| 50000/50000 [00:06<00:00, 7417.63it/s]\n"
     ]
    }
   ],
   "source": [
    "TEST_USERS = 5 * 10000\n",
    "train_mat_csr2, test_mat_csr, test_users_idx = C.train_test_split(train_mat_csr, n_test_users=TEST_USERS)"
   ]
  },
  {
   "cell_type": "code",
   "execution_count": 15,
   "metadata": {
    "collapsed": true
   },
   "outputs": [],
   "source": [
    "test_meta_df = train_meta_df.iloc[test_users_idx]\n",
    "test_meta_df.to_csv(C.EVST_TEST_USER_ITEM_META_PATH)"
   ]
  },
  {
   "cell_type": "code",
   "execution_count": 16,
   "metadata": {},
   "outputs": [
    {
     "data": {
      "text/html": [
       "<div>\n",
       "<style>\n",
       "    .dataframe thead tr:only-child th {\n",
       "        text-align: right;\n",
       "    }\n",
       "\n",
       "    .dataframe thead th {\n",
       "        text-align: left;\n",
       "    }\n",
       "\n",
       "    .dataframe tbody tr th {\n",
       "        vertical-align: top;\n",
       "    }\n",
       "</style>\n",
       "<table border=\"1\" class=\"dataframe\">\n",
       "  <thead>\n",
       "    <tr style=\"text-align: right;\">\n",
       "      <th></th>\n",
       "      <th>origin_idx</th>\n",
       "      <th>uid</th>\n",
       "      <th>subs</th>\n",
       "    </tr>\n",
       "  </thead>\n",
       "  <tbody>\n",
       "    <tr>\n",
       "      <th>119737</th>\n",
       "      <td>1738927</td>\n",
       "      <td>8d0ad848e58d47718bc9048fe55e9941</td>\n",
       "      <td>6</td>\n",
       "    </tr>\n",
       "    <tr>\n",
       "      <th>72272</th>\n",
       "      <td>1835513</td>\n",
       "      <td>fb3c8041026043918bacedda05361106</td>\n",
       "      <td>7</td>\n",
       "    </tr>\n",
       "    <tr>\n",
       "      <th>158154</th>\n",
       "      <td>1790575</td>\n",
       "      <td>be64359ae3204dc1a550bf285f3896b0</td>\n",
       "      <td>10</td>\n",
       "    </tr>\n",
       "  </tbody>\n",
       "</table>\n",
       "</div>"
      ],
      "text/plain": [
       "        origin_idx                               uid  subs\n",
       "119737     1738927  8d0ad848e58d47718bc9048fe55e9941     6\n",
       "72272      1835513  fb3c8041026043918bacedda05361106     7\n",
       "158154     1790575  be64359ae3204dc1a550bf285f3896b0    10"
      ]
     },
     "execution_count": 16,
     "metadata": {},
     "output_type": "execute_result"
    }
   ],
   "source": [
    "test_meta_df.head(3)"
   ]
  },
  {
   "cell_type": "code",
   "execution_count": 17,
   "metadata": {},
   "outputs": [
    {
     "name": "stdout",
     "output_type": "stream",
     "text": [
      ",origin_idx,uid,subs\r\n",
      "119737,1738927,8d0ad848e58d47718bc9048fe55e9941,6\r\n",
      "72272,1835513,fb3c8041026043918bacedda05361106,7\r\n",
      "158154,1790575,be64359ae3204dc1a550bf285f3896b0,10\r\n",
      "65426,50023,3bbf9743aa12449b9d73cbbbad19d073,6\r\n",
      "30074,809872,121461a8a74c49f1b34519d1b6430c7f,9\r\n",
      "23677,394925,94c41c32b0df4b568154a703017c537d,7\r\n",
      "134858,1806054,91e33c082c4b4ca082ca69e95280ab55,6\r\n",
      "176418,1741419,7d612c1e1c5f43e4a1e3e158bc4b4543,9\r\n",
      "132467,1243487,de33d71a4a2a406da5f0d98046431822,9\r\n"
     ]
    }
   ],
   "source": [
    "!head data/evst_test_user_item_meta.csv"
   ]
  },
  {
   "cell_type": "markdown",
   "metadata": {},
   "source": [
    "# Save Data"
   ]
  },
  {
   "cell_type": "code",
   "execution_count": 18,
   "metadata": {
    "collapsed": true
   },
   "outputs": [],
   "source": [
    "C.save_mat(C.EVST_TRAIN_USER_ITEM_MAT_PATH, train_mat_csr2, compressed=False)\n",
    "C.save_mat(C.EVST_TEST_USER_ITEM_MAT_PATH, test_mat_csr, compressed=False)"
   ]
  },
  {
   "cell_type": "code",
   "execution_count": null,
   "metadata": {
    "collapsed": true
   },
   "outputs": [],
   "source": []
  }
 ],
 "metadata": {
  "kernelspec": {
   "display_name": "Python 2",
   "language": "python",
   "name": "python2"
  },
  "language_info": {
   "codemirror_mode": {
    "name": "ipython",
    "version": 2
   },
   "file_extension": ".py",
   "mimetype": "text/x-python",
   "name": "python",
   "nbconvert_exporter": "python",
   "pygments_lexer": "ipython2",
   "version": "2.7.12"
  }
 },
 "nbformat": 4,
 "nbformat_minor": 2
}
