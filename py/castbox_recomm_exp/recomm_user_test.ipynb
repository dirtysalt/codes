{
 "cells": [
  {
   "cell_type": "code",
   "execution_count": 265,
   "metadata": {
    "collapsed": true
   },
   "outputs": [],
   "source": [
    "import scipy\n",
    "import scipy.sparse\n",
    "import cPickle\n",
    "import logging\n",
    "import implicit\n",
    "reload(implicit)\n",
    "import implicit.approximate_als\n",
    "reload(implicit.approximate_als)\n",
    "import implicit.bpr\n",
    "reload(implicit.bpr)\n",
    "import sklearn\n",
    "import numpy as np\n",
    "import itertools\n",
    "import random\n",
    "import pandas as pd\n",
    "import time\n",
    "import lightfm\n",
    "import lightfm.evaluation\n",
    "from lightfm import LightFM\n",
    "import tqdm\n",
    "import seaborn as sns\n",
    "%matplotlib inline\n",
    "import util as C\n",
    "reload(C)\n",
    "import functools\n",
    "%matplotlib inline\n",
    "import seaborn as sns\n",
    "import matplotlib.pyplot as plt"
   ]
  },
  {
   "cell_type": "markdown",
   "metadata": {},
   "source": [
    "# Load Data"
   ]
  },
  {
   "cell_type": "code",
   "execution_count": 266,
   "metadata": {
    "collapsed": true
   },
   "outputs": [],
   "source": [
    "logging.basicConfig(level = logging.DEBUG)\n",
    "logger = logging.getLogger()\n",
    "logger.setLevel(logging.DEBUG)"
   ]
  },
  {
   "cell_type": "code",
   "execution_count": 267,
   "metadata": {
    "collapsed": true
   },
   "outputs": [],
   "source": [
    "channel_helper = C.get_channel_helper()\n",
    "user_helper = C.get_user_helper()"
   ]
  },
  {
   "cell_type": "code",
   "execution_count": 268,
   "metadata": {
    "collapsed": true
   },
   "outputs": [],
   "source": [
    "channel_helper.load_index_data()\n",
    "channel_helper.load_meta_data()"
   ]
  },
  {
   "cell_type": "code",
   "execution_count": 269,
   "metadata": {
    "collapsed": true
   },
   "outputs": [],
   "source": [
    "channel_cid2idx, channel_idx2cid = channel_helper.channel_cid2idx, channel_helper.channel_idx2cid\n",
    "channel_data, channel_pid_data = channel_helper.channel_data, channel_helper.channel_pid_data"
   ]
  },
  {
   "cell_type": "code",
   "execution_count": 270,
   "metadata": {},
   "outputs": [
    {
     "name": "stdout",
     "output_type": "stream",
     "text": [
      "CPU times: user 36 ms, sys: 0 ns, total: 36 ms\n",
      "Wall time: 37.4 ms\n"
     ]
    }
   ],
   "source": [
    "%%time\n",
    "train_mat_csr = C.load_mat(C.TRAIN_USER_ITEM_MAT_PATH)\n",
    "test_mat_csr = C.load_mat(C.TEST_USER_ITEM_MAT_PATH)\n",
    "train_mat = train_mat_csr.tocoo()\n",
    "test_mat = test_mat_csr.tocoo()"
   ]
  },
  {
   "cell_type": "code",
   "execution_count": 271,
   "metadata": {},
   "outputs": [
    {
     "data": {
      "text/plain": [
       "((200000, 137344), (200000, 137344))"
      ]
     },
     "execution_count": 271,
     "metadata": {},
     "output_type": "execute_result"
    }
   ],
   "source": [
    "train_mat_csr.shape, test_mat_csr.shape"
   ]
  },
  {
   "cell_type": "code",
   "execution_count": 314,
   "metadata": {},
   "outputs": [
    {
     "name": "stdout",
     "output_type": "stream",
     "text": [
      "CPU times: user 392 ms, sys: 0 ns, total: 392 ms\n",
      "Wall time: 388 ms\n"
     ]
    }
   ],
   "source": [
    "%%time\n",
    "# train_mat2 = implicit.nearest_neighbours.bm25_weight(train_mat, K1=2.0, B=0.8)\n",
    "# train_mat2 = implicit.nearest_neighbours.tfidf_weight(train_mat)\n",
    "train_mat2 = train_mat.copy()\n",
    "# train_mat2 = implicit.nearest_neighbours.bm25_weight(train_mat, K1 = 100, B = 0.8) #default \n",
    "train_mat_csr2 = train_mat2.tocsr()"
   ]
  },
  {
   "cell_type": "code",
   "execution_count": 273,
   "metadata": {},
   "outputs": [
    {
     "data": {
      "text/plain": [
       "(1327635, 1327635, 200862)"
      ]
     },
     "execution_count": 273,
     "metadata": {},
     "output_type": "execute_result"
    }
   ],
   "source": [
    "train_mat_csr.nnz, train_mat_csr2.nnz, test_mat_csr.nnz"
   ]
  },
  {
   "cell_type": "code",
   "execution_count": 274,
   "metadata": {
    "collapsed": true
   },
   "outputs": [],
   "source": [
    "train_users_idx = np.arange(train_mat.shape[0])\n",
    "test_users_idx = np.array(list(set(test_mat.row)))\n",
    "test_users_idx.sort()"
   ]
  },
  {
   "cell_type": "code",
   "execution_count": 275,
   "metadata": {
    "collapsed": true
   },
   "outputs": [],
   "source": [
    "np.random.seed(42)\n",
    "n_users = 2000\n",
    "np.random.shuffle(test_users_idx)\n",
    "test_user_ids = test_users_idx[:n_users]\n",
    "np.random.shuffle(train_users_idx)\n",
    "train_user_ids = train_users_idx[:n_users]"
   ]
  },
  {
   "cell_type": "code",
   "execution_count": 276,
   "metadata": {
    "collapsed": true
   },
   "outputs": [],
   "source": [
    "lfm_item_ids = np.arange(train_mat.shape[1])"
   ]
  },
  {
   "cell_type": "code",
   "execution_count": 277,
   "metadata": {
    "collapsed": true
   },
   "outputs": [],
   "source": [
    "test_meta_df = pd.read_csv(C.TEST_USER_ITEM_META_PATH, index_col=0)"
   ]
  },
  {
   "cell_type": "code",
   "execution_count": 278,
   "metadata": {},
   "outputs": [
    {
     "data": {
      "text/html": [
       "<div>\n",
       "<style>\n",
       "    .dataframe thead tr:only-child th {\n",
       "        text-align: right;\n",
       "    }\n",
       "\n",
       "    .dataframe thead th {\n",
       "        text-align: left;\n",
       "    }\n",
       "\n",
       "    .dataframe tbody tr th {\n",
       "        vertical-align: top;\n",
       "    }\n",
       "</style>\n",
       "<table border=\"1\" class=\"dataframe\">\n",
       "  <thead>\n",
       "    <tr style=\"text-align: right;\">\n",
       "      <th></th>\n",
       "      <th>origin_idx</th>\n",
       "      <th>cn</th>\n",
       "      <th>lang</th>\n",
       "      <th>br</th>\n",
       "      <th>subs</th>\n",
       "    </tr>\n",
       "  </thead>\n",
       "  <tbody>\n",
       "    <tr>\n",
       "      <th>119737</th>\n",
       "      <td>2102869</td>\n",
       "      <td>cu</td>\n",
       "      <td>en</td>\n",
       "      <td>huawei</td>\n",
       "      <td>6</td>\n",
       "    </tr>\n",
       "    <tr>\n",
       "      <th>72272</th>\n",
       "      <td>2026103</td>\n",
       "      <td>at</td>\n",
       "      <td>fr</td>\n",
       "      <td>samsung</td>\n",
       "      <td>6</td>\n",
       "    </tr>\n",
       "    <tr>\n",
       "      <th>158154</th>\n",
       "      <td>1385691</td>\n",
       "      <td>us</td>\n",
       "      <td>en</td>\n",
       "      <td>samsung</td>\n",
       "      <td>6</td>\n",
       "    </tr>\n",
       "  </tbody>\n",
       "</table>\n",
       "</div>"
      ],
      "text/plain": [
       "        origin_idx  cn lang       br  subs\n",
       "119737     2102869  cu   en   huawei     6\n",
       "72272      2026103  at   fr  samsung     6\n",
       "158154     1385691  us   en  samsung     6"
      ]
     },
     "execution_count": 278,
     "metadata": {},
     "output_type": "execute_result"
    }
   ],
   "source": [
    "test_meta_df.head(3)"
   ]
  },
  {
   "cell_type": "code",
   "execution_count": 279,
   "metadata": {},
   "outputs": [
    {
     "data": {
      "text/plain": [
       "(50000, 5)"
      ]
     },
     "execution_count": 279,
     "metadata": {},
     "output_type": "execute_result"
    }
   ],
   "source": [
    "test_meta_df.shape"
   ]
  },
  {
   "cell_type": "markdown",
   "metadata": {},
   "source": [
    "# Evaluation"
   ]
  },
  {
   "cell_type": "code",
   "execution_count": 280,
   "metadata": {
    "collapsed": true
   },
   "outputs": [],
   "source": [
    "def compute_pred(model, user_id, N = 10, test = False, recalculate_user=False):\n",
    "    if model.__module__.startswith('implicit'):\n",
    "        if test:\n",
    "            pred = model.recommend(user_id, user_items = train_mat_csr2, N = N)\n",
    "            return pred\n",
    "        else:\n",
    "            user = model._user_factor(user_id, user_items = train_mat_csr2, \n",
    "                                      recalculate_user = recalculate_user)\n",
    "            scores = model.item_factors.dot(user)\n",
    "    else:\n",
    "        scores = model.predict(user_ids = user_id, item_ids = lfm_item_ids, num_threads = 8)\n",
    "    scores = -scores\n",
    "    pred_idxs = np.argpartition(scores, N)[:N]\n",
    "    pred = [(x, -scores[x]) for x in pred_idxs]\n",
    "    pred.sort(key = lambda x: -x[1])\n",
    "    return pred\n",
    "\n",
    "    \n",
    "def eval_user_recomm(model, user_id, N = 10, verbose = True, test = True):\n",
    "    if test:\n",
    "        truth_idxs = test_mat_csr[user_id].indices\n",
    "    else:   \n",
    "        truth_idxs = train_mat_csr[user_id].indices\n",
    "    base_idxs = train_mat_csr2[user_id].indices\n",
    "    pred = compute_pred(model, user_id, N = N, test = test)\n",
    "    pred_idxs = [x[0] for x in pred]\n",
    "    intersect = len(set(pred_idxs) & set(truth_idxs))\n",
    "    a = intersect\n",
    "    b = len(pred_idxs)\n",
    "    c = len(truth_idxs)\n",
    "    assert(b == N)\n",
    "    \n",
    "    if verbose:\n",
    "        print('base ...')\n",
    "        base_pids = [channel_idx2cid[x] for x in base_idxs]\n",
    "        for pid in base_pids:\n",
    "            print('- {} {}'.format(pid, channel_pid_data[pid]['title']))\n",
    "\n",
    "        print('pred ...')\n",
    "        pred_pids = [channel_idx2cid[x] for x in pred_idxs]\n",
    "        for idx, pid in enumerate(pred_pids):\n",
    "            print('- {} {} {} {}'.format(pid, channel_pid_data[pid]['title'], pred_idxs[idx], pred[idx][1]))\n",
    "\n",
    "        print('truth ...')\n",
    "        true_pids = [channel_idx2cid[x] for x in truth_idxs]\n",
    "        for pid in true_pids:\n",
    "            print('- {} {}'.format(pid, channel_pid_data[pid]['title']))\n",
    "    return a, b, c\n",
    "\n",
    "def eval_all_users(model, user_ids, N = 10, test = True):\n",
    "    A, B, C = 0, 0, 0\n",
    "    for user_id in user_ids:\n",
    "        a, b, c = eval_user_recomm(model, user_id, N = N, verbose = False, test = test)\n",
    "        A += a\n",
    "        B += b \n",
    "        C += c\n",
    "    # precision, recall\n",
    "    return round(A * 1.0 / B, 4), round(A * 1.0 / C, 4)\n",
    "\n",
    "def item_recomm(model, cid, N=20,  verbose = True):\n",
    "    idx = channel_cid2idx[cid]\n",
    "    if model.__module__.startswith('implicit'):\n",
    "        related = model.similar_items(idx, N=N)\n",
    "        res = []\n",
    "        for rid, score in related:\n",
    "            pid= channel_idx2cid[rid]\n",
    "            title = channel_pid_data[pid]['title']\n",
    "            res.append((pid, title, score))\n",
    "            \n",
    "    else: # lightfm model.\n",
    "        item_embeddings = model.item_embeddings\n",
    "        scores = item_embeddings.dot(item_embeddings[idx])\n",
    "        norm_scores = -scores / np.linalg.norm(item_embeddings, axis = -1)\n",
    "        scores_idx = norm_scores.argpartition(N)\n",
    "        scores_idx = scores_idx[:N]\n",
    "        scores_idx_value = list(zip(scores_idx, [norm_scores[x] for x in scores_idx]))\n",
    "        scores_idx_value = sorted(scores_idx_value, key = lambda x: x[1])\n",
    "        res = []\n",
    "        for idx, value in scores_idx_value:\n",
    "            pid= channel_idx2cid[idx]\n",
    "            title = channel_pid_data[pid]['title']\n",
    "            res.append((pid, title, value))\n",
    "\n",
    "    if verbose:\n",
    "        for pid, title, score in res:\n",
    "            print('pid={}, title={}, score={:.2f}'.format(pid, title, score))\n",
    "    return res"
   ]
  },
  {
   "cell_type": "code",
   "execution_count": 300,
   "metadata": {
    "collapsed": true
   },
   "outputs": [],
   "source": [
    "class History:\n",
    "    def __init__(self, model, test_user_ids, train_user_ids):\n",
    "        self.model = model\n",
    "        self.test_user_ids = test_user_ids\n",
    "        self.train_user_ids = train_user_ids\n",
    "        self.test_scores = []\n",
    "        self.train_scores = []\n",
    "        self.epoch_number = 0\n",
    "\n",
    "    def add_test_score(self, score):\n",
    "        self.test_scores.append(score)\n",
    "        \n",
    "    def add_train_score(self, score):\n",
    "        self.train_scores.append(score)\n",
    "    \n",
    "    def eval_test_users(self):\n",
    "        return eval_all_users(model = self.model,user_ids = self.test_user_ids, test = True)\n",
    "\n",
    "    def eval_train_users(self):\n",
    "        return eval_all_users(model = self.model,user_ids = self.train_user_ids, test = False)\n",
    "        \n",
    "def fit_callback(hist, iterations, elapsed, interval = 1):\n",
    "    if iterations % interval != 0: return\n",
    "    start = time.time()\n",
    "    test_score = hist.eval_test_users()\n",
    "    hist.add_test_score(test_score)\n",
    "    train_score = hist.eval_train_users()\n",
    "    hist.add_train_score(train_score)\n",
    "    end = time.time()\n",
    "    print('iteration #{}, elapsed = ({:.2f}, {:.2f}), train_score = {}, test_score = {}'.\n",
    "          format(iterations, elapsed, end - start, train_score, test_score))\n"
   ]
  },
  {
   "cell_type": "code",
   "execution_count": 282,
   "metadata": {
    "collapsed": true
   },
   "outputs": [],
   "source": [
    "def plot_precision_history(history):\n",
    "    plt.plot([x[0] for x in history.train_scores])\n",
    "    plt.plot([x[0] for x in history.test_scores])\n",
    "    plt.xlabel('# of iteratios')\n",
    "    plt.ylabel('p@k')\n",
    "    plt.legend(['train', 'test'])\n",
    "\n",
    "def plot_recall_history(history):\n",
    "    plt.plot([x[1] for x in history.train_scores])\n",
    "    plt.plot([x[1] for x in history.test_scores])\n",
    "    plt.xlabel('# of iteratios')\n",
    "    plt.ylabel('r@k')\n",
    "    plt.legend(['train', 'test'])"
   ]
  },
  {
   "cell_type": "markdown",
   "metadata": {},
   "source": [
    "# Train ALS Model\n",
    "\n",
    "这个模型综合效果不错, user, item recomm都还行\n",
    "\n",
    "即便是数据量缩减不少，item recomm也还不错"
   ]
  },
  {
   "cell_type": "code",
   "execution_count": 95,
   "metadata": {
    "collapsed": true
   },
   "outputs": [],
   "source": [
    "np.random.seed(42)\n",
    "als_model = implicit.als.AlternatingLeastSquares(\n",
    "    factors= 100, \n",
    "    regularization = 0.01,\n",
    "    iterations = 10)\n",
    "    #calculate_training_loss = True)\n",
    "als_history = History(als_model, test_user_ids, train_user_ids)\n",
    "als_model.fit_callback = functools.partial(fit_callback, als_history)"
   ]
  },
  {
   "cell_type": "code",
   "execution_count": 142,
   "metadata": {},
   "outputs": [
    {
     "data": {
      "text/plain": [
       "6.4929743399990345"
      ]
     },
     "execution_count": 142,
     "metadata": {},
     "output_type": "execute_result"
    }
   ],
   "source": [
    "np.mean(train_mat_csr2.data)"
   ]
  },
  {
   "cell_type": "code",
   "execution_count": 96,
   "metadata": {},
   "outputs": [
    {
     "name": "stderr",
     "output_type": "stream",
     "text": [
      "DEBUG:implicit:Converting input to CSR format\n",
      "DEBUG:implicit:Converted input to CSR in 0.058s\n",
      "DEBUG:implicit:Calculated transpose in 0.055s\n",
      "DEBUG:implicit:initialize factors in 0.650916814804\n",
      "DEBUG:implicit:finished iteration 0 in 4.779s\n"
     ]
    },
    {
     "name": "stdout",
     "output_type": "stream",
     "text": [
      "iteration #0, elapsed = (4.78, 16.61), train_score = (0.2374, 0.3787), test_score = (0.0291, 0.0728)\n"
     ]
    },
    {
     "name": "stderr",
     "output_type": "stream",
     "text": [
      "DEBUG:implicit:finished iteration 1 in 4.585s\n"
     ]
    },
    {
     "name": "stdout",
     "output_type": "stream",
     "text": [
      "iteration #1, elapsed = (4.59, 17.14), train_score = (0.3188, 0.5085), test_score = (0.0699, 0.1749)\n"
     ]
    },
    {
     "name": "stderr",
     "output_type": "stream",
     "text": [
      "DEBUG:implicit:finished iteration 2 in 4.519s\n"
     ]
    },
    {
     "name": "stdout",
     "output_type": "stream",
     "text": [
      "iteration #2, elapsed = (4.52, 16.74), train_score = (0.3211, 0.5123), test_score = (0.0865, 0.2163)\n"
     ]
    },
    {
     "name": "stderr",
     "output_type": "stream",
     "text": [
      "DEBUG:implicit:finished iteration 3 in 4.448s\n"
     ]
    },
    {
     "name": "stdout",
     "output_type": "stream",
     "text": [
      "iteration #3, elapsed = (4.45, 16.15), train_score = (0.3181, 0.5075), test_score = (0.0886, 0.2216)\n"
     ]
    },
    {
     "name": "stderr",
     "output_type": "stream",
     "text": [
      "DEBUG:implicit:finished iteration 4 in 4.387s\n"
     ]
    },
    {
     "name": "stdout",
     "output_type": "stream",
     "text": [
      "iteration #4, elapsed = (4.39, 17.42), train_score = (0.3151, 0.5027), test_score = (0.0895, 0.2237)\n"
     ]
    },
    {
     "name": "stderr",
     "output_type": "stream",
     "text": [
      "DEBUG:implicit:finished iteration 5 in 4.709s\n"
     ]
    },
    {
     "name": "stdout",
     "output_type": "stream",
     "text": [
      "iteration #5, elapsed = (4.71, 16.38), train_score = (0.3126, 0.4986), test_score = (0.0897, 0.2243)\n"
     ]
    },
    {
     "name": "stderr",
     "output_type": "stream",
     "text": [
      "DEBUG:implicit:finished iteration 6 in 4.623s\n"
     ]
    },
    {
     "name": "stdout",
     "output_type": "stream",
     "text": [
      "iteration #6, elapsed = (4.62, 16.83), train_score = (0.3107, 0.4956), test_score = (0.0898, 0.2246)\n"
     ]
    },
    {
     "name": "stderr",
     "output_type": "stream",
     "text": [
      "DEBUG:implicit:finished iteration 7 in 4.620s\n"
     ]
    },
    {
     "name": "stdout",
     "output_type": "stream",
     "text": [
      "iteration #7, elapsed = (4.62, 16.65), train_score = (0.3089, 0.4927), test_score = (0.0902, 0.2256)\n"
     ]
    },
    {
     "name": "stderr",
     "output_type": "stream",
     "text": [
      "DEBUG:implicit:finished iteration 8 in 5.011s\n"
     ]
    },
    {
     "name": "stdout",
     "output_type": "stream",
     "text": [
      "iteration #8, elapsed = (5.01, 16.54), train_score = (0.3075, 0.4904), test_score = (0.0902, 0.2256)\n"
     ]
    },
    {
     "name": "stderr",
     "output_type": "stream",
     "text": [
      "DEBUG:implicit:finished iteration 9 in 4.686s\n"
     ]
    },
    {
     "name": "stdout",
     "output_type": "stream",
     "text": [
      "iteration #9, elapsed = (4.69, 16.75), train_score = (0.3066, 0.4891), test_score = (0.0901, 0.2253)\n",
      "CPU times: user 23min 25s, sys: 32min 12s, total: 55min 38s\n",
      "Wall time: 3min 34s\n"
     ]
    }
   ],
   "source": [
    "%%time\n",
    "als_model.fit(train_mat_csr2.T)"
   ]
  },
  {
   "cell_type": "code",
   "execution_count": 97,
   "metadata": {},
   "outputs": [
    {
     "data": {
      "image/png": "[encoded data removed]",
      "text/plain": [
       "<matplotlib.figure.Figure at 0x7fc948572990>"
      ]
     },
     "metadata": {},
     "output_type": "display_data"
    }
   ],
   "source": [
    "plot_precision_history(als_history)"
   ]
  },
  {
   "cell_type": "code",
   "execution_count": 98,
   "metadata": {},
   "outputs": [
    {
     "data": {
      "image/png": "[encoded data removed]",
      "text/plain": [
       "<matplotlib.figure.Figure at 0x7fc95bb77b10>"
      ]
     },
     "metadata": {},
     "output_type": "display_data"
    }
   ],
   "source": [
    "plot_recall_history(als_history)"
   ]
  },
  {
   "cell_type": "markdown",
   "metadata": {},
   "source": [
    "# ALS Validation"
   ]
  },
  {
   "cell_type": "code",
   "execution_count": 100,
   "metadata": {},
   "outputs": [
    {
     "name": "stdout",
     "output_type": "stream",
     "text": [
      "base ...\n",
      "- 574393 6 Minute English\n",
      "- 493867 Klatsch & Tratsch – Niemand muss ein Promi sein\n",
      "- 1138693 Besser als Sex\n",
      "pred ...\n",
      "- 574385 The English We Speak 26236 0.40444111824\n",
      "- 222520 Happy, holy & confident. Dein Podcast fürs Herz und den Verstand 121141 0.258255898952\n",
      "- 574409 6 Minute Grammar 115801 0.246490076184\n",
      "- 979035 Eine Stunde History  - Deutschlandfunk Nova 107801 0.244291856885\n",
      "- 574415 6 Minute Vocabulary 26353 0.242610350251\n",
      "- 342339 Lage der Nation - der Politik-Podcast aus Berlin 50830 0.214995414019\n",
      "- 1284210 Erfolgreich mit praktischer Psychologie - Wirtschaftspsychologie 127448 0.210041701794\n",
      "- 1105809 Woher weißt Du das? 51307 0.202497288585\n",
      "- 33259 Einschlafen Podcast 22850 0.200601622462\n",
      "- 1114825 Beste Freundinnen 80829 0.196726992726\n",
      "truth ...\n",
      "- 2164 All Ears English Podcast | Real English Vocabulary | Conversation | American Culture\n",
      "- 31184 Effizienter Lernen - Arbeiten - Leben | Thomas Mangold | Der Podcast zum effizienten und maßgeschneidertem Selbst-Management\n",
      "- 1105809 Woher weißt Du das?\n",
      "- 1268194 Biologie in 2 Minuten\n"
     ]
    },
    {
     "data": {
      "text/plain": [
       "(1, 10, 4)"
      ]
     },
     "execution_count": 100,
     "metadata": {},
     "output_type": "execute_result"
    }
   ],
   "source": [
    "lang = 'de'\n",
    "users_idx = test_meta_df[test_meta_df['lang'] == lang].index\n",
    "user_id = users_idx[np.random.randint(0, len(users_idx) - 1)]\n",
    "eval_user_recomm(als_model, user_id)"
   ]
  },
  {
   "cell_type": "code",
   "execution_count": 106,
   "metadata": {},
   "outputs": [
    {
     "name": "stdout",
     "output_type": "stream",
     "text": [
      "pid=486852, title=Deep Learning: Zero to One, score=1.00\n",
      "pid=1107580, title=Amazon Web Services: AWS re:Invent 2017 Breakout Sessions | Containers, score=0.96\n",
      "pid=485455, title=This Week in Machine Learning & AI, score=0.95\n",
      "pid=442472, title=Introduction to Python, score=0.95\n",
      "pid=480423, title=IBM Analytics Insights Podcasts, score=0.95\n",
      "pid=2348, title=Learning Machines 101, score=0.95\n",
      "pid=402010, title=This Week in Machine Learning & Artificial Intelligence (AI) Podcast, score=0.95\n",
      "pid=538016, title=Machine Learning – Software Engineering Daily, score=0.95\n",
      "pid=650841, title=Machine Learning Guide, score=0.95\n",
      "pid=26120, title=Linear Digressions, score=0.95\n",
      "pid=1253615, title=Business Innovators (Video), score=0.95\n",
      "pid=33099, title=Distributed Podcast, score=0.95\n",
      "pid=321762, title=Crypto-Gram Security Podcast, score=0.95\n",
      "pid=21809, title=VMware - A Connected Social Media Showcase, score=0.95\n",
      "pid=650739, title=Talking Machines, score=0.95\n",
      "pid=89540, title=15 Minute Pools Podcast / Improve Your Business, score=0.95\n",
      "pid=1202800, title=Embedded Insiders, score=0.95\n",
      "pid=1089088, title=The Cloud Architects Podcast, score=0.95\n",
      "pid=571199, title=NLP Highlights, score=0.95\n",
      "pid=633, title=Analytical Chemistry Podcast, score=0.95\n",
      "pid=521361, title=Talk Data To Me, score=0.94\n",
      "pid=431049, title=Linear Digressions, score=0.94\n",
      "pid=6849, title=Partially Derivative, score=0.94\n",
      "pid=52293, title=Programming Programming, score=0.94\n",
      "pid=1516, title=O'Reilly Data Show - O'Reilly Media Podcast, score=0.94\n",
      "pid=384845, title=AFP Conversations, score=0.94\n",
      "pid=579954, title=Concerning AI, score=0.94\n",
      "pid=1092013, title=Easy Luxembourgish, score=0.94\n",
      "pid=1047575, title=Data Skeptic Bonus Feed, score=0.94\n",
      "pid=500781, title=Planet Python, score=0.94\n",
      "pid=635, title=Data Skeptic, score=0.93\n",
      "pid=973732, title=Distributed Data Show, score=0.93\n",
      "pid=201143, title=Linux Academy Blog, score=0.93\n",
      "pid=430829, title=Machine Learning, score=0.93\n",
      "pid=396480, title=SuperDataScience, score=0.93\n",
      "pid=116984, title=Shofar Joburg Sermons, score=0.93\n",
      "pid=433488, title=The AI Podcast, score=0.93\n",
      "pid=337033, title=中庸 （共十九集）【南怀瑾老师讲述】, score=0.92\n",
      "pid=330966, title=《伤寒论》, score=0.92\n",
      "pid=579188, title=Creative AI Podcast, score=0.92\n",
      "pid=3725, title=Data Stories, score=0.92\n",
      "pid=1136953, title=Data Science at Home, score=0.92\n",
      "pid=410810, title=Python Bytes, score=0.91\n",
      "pid=25629, title=Artificial Intelligence in Industry with Dan Faggella, score=0.91\n",
      "pid=1030593, title=Astrophysics Research Institute, score=0.91\n",
      "pid=540927, title=Data – Software Engineering Daily, score=0.91\n",
      "pid=406827, title=Podcast.__init__('Python'), score=0.90\n",
      "pid=425607, title=The Cloudcast (.net) - Weekly Cloud Computing Podcast, score=0.90\n",
      "pid=22663, title=SQL Data Partners Podcast, score=0.90\n",
      "pid=491638, title=Full Stack Radio, score=0.90\n"
     ]
    }
   ],
   "source": [
    "ref_pids = [486852, 1241617, 285553, 1215926]\n",
    "_= item_recomm(als_model, 486852, N = 50)"
   ]
  },
  {
   "cell_type": "markdown",
   "metadata": {},
   "source": [
    "# Train BPR Model\n",
    "\n",
    "这个模型训练user推荐太差\n",
    "\n",
    "而且当数据量少的时候，item推荐效果也不行"
   ]
  },
  {
   "cell_type": "code",
   "execution_count": 112,
   "metadata": {
    "collapsed": true
   },
   "outputs": [],
   "source": [
    "np.random.seed(42)\n",
    "bpr_model = implicit.bpr.BayesianPersonalizedRanking(\n",
    "    factors= 100, \n",
    "    regularization = 0.01,\n",
    "    iterations = 30)\n",
    "    #calculate_training_loss = True)"
   ]
  },
  {
   "cell_type": "code",
   "execution_count": 114,
   "metadata": {},
   "outputs": [
    {
     "name": "stderr",
     "output_type": "stream",
     "text": [
      "DEBUG:implicit:Converting input to COO format\n",
      "DEBUG:implicit:Converted input to COO in 0.013s\n",
      "DEBUG:implicit:fit epoch 0 in 0.124s (87.18% ranked correctly)\n",
      "DEBUG:implicit:fit epoch 1 in 0.121s (87.84% ranked correctly)\n",
      "DEBUG:implicit:fit epoch 2 in 0.121s (88.42% ranked correctly)\n",
      "DEBUG:implicit:fit epoch 3 in 0.122s (89.01% ranked correctly)\n",
      "DEBUG:implicit:fit epoch 4 in 0.125s (89.54% ranked correctly)\n",
      "DEBUG:implicit:fit epoch 5 in 0.121s (90.03% ranked correctly)\n",
      "DEBUG:implicit:fit epoch 6 in 0.154s (90.49% ranked correctly)\n",
      "DEBUG:implicit:fit epoch 7 in 0.140s (90.88% ranked correctly)\n",
      "DEBUG:implicit:fit epoch 8 in 0.159s (91.30% ranked correctly)\n",
      "DEBUG:implicit:fit epoch 9 in 0.142s (91.68% ranked correctly)\n",
      "DEBUG:implicit:fit epoch 10 in 0.138s (92.02% ranked correctly)\n",
      "DEBUG:implicit:fit epoch 11 in 0.136s (92.35% ranked correctly)\n",
      "DEBUG:implicit:fit epoch 12 in 0.138s (92.67% ranked correctly)\n",
      "DEBUG:implicit:fit epoch 13 in 0.136s (92.95% ranked correctly)\n",
      "DEBUG:implicit:fit epoch 14 in 0.130s (93.21% ranked correctly)\n",
      "DEBUG:implicit:fit epoch 15 in 0.122s (93.47% ranked correctly)\n",
      "DEBUG:implicit:fit epoch 16 in 0.124s (93.72% ranked correctly)\n",
      "DEBUG:implicit:fit epoch 17 in 0.122s (93.89% ranked correctly)\n",
      "DEBUG:implicit:fit epoch 18 in 0.124s (94.14% ranked correctly)\n",
      "DEBUG:implicit:fit epoch 19 in 0.121s (94.30% ranked correctly)\n",
      "DEBUG:implicit:fit epoch 20 in 0.123s (94.47% ranked correctly)\n",
      "DEBUG:implicit:fit epoch 21 in 0.121s (94.68% ranked correctly)\n",
      "DEBUG:implicit:fit epoch 22 in 0.123s (94.85% ranked correctly)\n",
      "DEBUG:implicit:fit epoch 23 in 0.121s (94.97% ranked correctly)\n",
      "DEBUG:implicit:fit epoch 24 in 0.122s (95.13% ranked correctly)\n",
      "DEBUG:implicit:fit epoch 25 in 0.125s (95.25% ranked correctly)\n",
      "DEBUG:implicit:fit epoch 26 in 0.122s (95.42% ranked correctly)\n",
      "DEBUG:implicit:fit epoch 27 in 0.120s (95.52% ranked correctly)\n",
      "DEBUG:implicit:fit epoch 28 in 0.124s (95.65% ranked correctly)\n",
      "DEBUG:implicit:fit epoch 29 in 0.124s (95.79% ranked correctly)\n"
     ]
    },
    {
     "name": "stdout",
     "output_type": "stream",
     "text": [
      "CPU times: user 59.8 s, sys: 16 ms, total: 59.9 s\n",
      "Wall time: 4.39 s\n"
     ]
    }
   ],
   "source": [
    "%%time\n",
    "bpr_model.fit(train_mat_csr2.T)\n",
    "# bpr_history.eval_test_users()"
   ]
  },
  {
   "cell_type": "code",
   "execution_count": 115,
   "metadata": {},
   "outputs": [
    {
     "name": "stdout",
     "output_type": "stream",
     "text": [
      "CPU times: user 55.8 s, sys: 1min 18s, total: 2min 13s\n",
      "Wall time: 8.49 s\n"
     ]
    },
    {
     "data": {
      "text/plain": [
       "(0.0, 0.0)"
      ]
     },
     "execution_count": 115,
     "metadata": {},
     "output_type": "execute_result"
    }
   ],
   "source": [
    "%%time\n",
    "eval_all_users(bpr_model, test_user_ids)"
   ]
  },
  {
   "cell_type": "code",
   "execution_count": 116,
   "metadata": {},
   "outputs": [
    {
     "name": "stdout",
     "output_type": "stream",
     "text": [
      "pid=486852, title=Deep Learning: Zero to One, score=1.00\n",
      "pid=427132, title=Slow Boat Sailing Podcast, score=0.80\n",
      "pid=87361, title=C'est pas du vent, score=0.80\n",
      "pid=375087, title=The Vegan Alliance, score=0.80\n",
      "pid=46119, title=Mormon Expression, score=0.80\n",
      "pid=1079517, title=The Instagram Stories, score=0.80\n",
      "pid=103725, title=Brian Lehrer's Podcast About \"Parks and Recreation\", score=0.79\n",
      "pid=403173, title=Allo La Planète, score=0.79\n",
      "pid=597321, title=Bruce R McConkie General Conference, score=0.79\n",
      "pid=271544, title=The Fifth Estate, score=0.79\n",
      "pid=575624, title=Only Artists, score=0.79\n",
      "pid=456658, title=Área de Transferência, score=0.79\n",
      "pid=24706, title=The Download Youth Ministry Show (Video), score=0.79\n",
      "pid=82086, title=Sleep Music for Relaxation and Sound Sleeping! (aac), score=0.79\n",
      "pid=1096936, title=In Depth, Out Loud, score=0.79\n",
      "pid=1215292, title=Sex Talk Podcast, score=0.78\n",
      "pid=279561, title=Strength and Performance Podcast: Weekly In-Depth Interviews With Leading Strength and Conditioning Experts, score=0.78\n",
      "pid=11277, title=ISKCON Leaders, score=0.78\n",
      "pid=394244, title=Kaydo Fishing Radio Show - South East Queensland, score=0.78\n",
      "pid=355790, title=Que raconte la musique, score=0.78\n"
     ]
    }
   ],
   "source": [
    "ref_pids = [486852, 1241617, 285553, 1215926]\n",
    "_= item_recomm(bpr_model, 486852)"
   ]
  },
  {
   "cell_type": "markdown",
   "metadata": {},
   "source": [
    "# Train LightFM Model\n",
    "\n",
    "user, item recomm效果也都还行，在小规模数据下面也可以work"
   ]
  },
  {
   "cell_type": "code",
   "execution_count": 315,
   "metadata": {
    "collapsed": true
   },
   "outputs": [],
   "source": [
    "lfm_model = C.MyLightFM(no_components=100, learning_rate=0.02, random_state = 42, loss = 'warp')                        \n",
    "lfm_history = History(lfm_model, test_user_ids[:200], train_user_ids[:200])\n",
    "lfm_model.fit_callback = functools.partial(fit_callback, lfm_history, interval = 10)"
   ]
  },
  {
   "cell_type": "code",
   "execution_count": 321,
   "metadata": {},
   "outputs": [
    {
     "name": "stdout",
     "output_type": "stream",
     "text": [
      "iteration #100, elapsed = (1.23, 4.55), train_score = (0.177, 0.2746), test_score = (0.0895, 0.2229)\n",
      "Epoch 100 in 1.23s\n",
      "Epoch 101 in 1.22s\n",
      "Epoch 102 in 1.22s\n",
      "Epoch 103 in 1.22s\n",
      "Epoch 104 in 1.23s\n",
      "Epoch 105 in 1.23s\n",
      "Epoch 106 in 1.22s\n",
      "Epoch 107 in 1.22s\n",
      "Epoch 108 in 1.23s\n",
      "Epoch 109 in 1.22s\n",
      "iteration #110, elapsed = (1.22, 4.48), train_score = (0.1805, 0.2801), test_score = (0.092, 0.2291)\n",
      "Epoch 110 in 1.22s\n",
      "Epoch 111 in 1.23s\n",
      "Epoch 112 in 1.23s\n",
      "Epoch 113 in 1.23s\n",
      "Epoch 114 in 1.23s\n",
      "Epoch 115 in 1.23s\n",
      "Epoch 116 in 1.25s\n",
      "Epoch 117 in 1.23s\n",
      "Epoch 118 in 1.24s\n",
      "Epoch 119 in 1.23s\n",
      "iteration #120, elapsed = (1.23, 4.49), train_score = (0.182, 0.2824), test_score = (0.0925, 0.2304)\n",
      "Epoch 120 in 1.23s\n",
      "Epoch 121 in 1.22s\n",
      "Epoch 122 in 1.22s\n",
      "Epoch 123 in 1.21s\n",
      "Epoch 124 in 1.21s\n",
      "Epoch 125 in 1.21s\n",
      "Epoch 126 in 1.21s\n",
      "Epoch 127 in 1.21s\n",
      "Epoch 128 in 1.21s\n",
      "Epoch 129 in 1.24s\n",
      "iteration #130, elapsed = (1.21, 4.49), train_score = (0.1865, 0.2894), test_score = (0.0915, 0.2279)\n",
      "Epoch 130 in 1.21s\n",
      "Epoch 131 in 1.23s\n",
      "Epoch 132 in 1.23s\n",
      "Epoch 133 in 1.23s\n",
      "Epoch 134 in 1.22s\n",
      "Epoch 135 in 1.23s\n",
      "Epoch 136 in 1.23s\n",
      "Epoch 137 in 1.23s\n",
      "Epoch 138 in 1.23s\n",
      "Epoch 139 in 1.23s\n",
      "iteration #140, elapsed = (1.23, 4.51), train_score = (0.1945, 0.3018), test_score = (0.0895, 0.2229)\n",
      "Epoch 140 in 1.23s\n",
      "Epoch 141 in 1.21s\n",
      "Epoch 142 in 1.22s\n",
      "Epoch 143 in 1.21s\n",
      "Epoch 144 in 1.21s\n",
      "Epoch 145 in 1.21s\n",
      "Epoch 146 in 1.21s\n",
      "Epoch 147 in 1.21s\n",
      "Epoch 148 in 1.21s\n",
      "Epoch 149 in 1.21s\n",
      "iteration #150, elapsed = (1.21, 4.48), train_score = (0.1965, 0.3049), test_score = (0.0925, 0.2304)\n",
      "Epoch 150 in 1.21s\n",
      "Epoch 151 in 1.23s\n",
      "Epoch 152 in 1.23s\n",
      "Epoch 153 in 1.23s\n",
      "Epoch 154 in 1.22s\n",
      "Epoch 155 in 1.22s\n",
      "Epoch 156 in 1.22s\n",
      "Epoch 157 in 1.23s\n",
      "Epoch 158 in 1.23s\n",
      "Epoch 159 in 1.22s\n",
      "iteration #160, elapsed = (1.22, 4.48), train_score = (0.198, 0.3072), test_score = (0.094, 0.2341)\n",
      "Epoch 160 in 1.22s\n",
      "Epoch 161 in 1.21s\n",
      "Epoch 162 in 1.21s\n",
      "Epoch 163 in 1.21s\n",
      "Epoch 164 in 1.21s\n",
      "Epoch 165 in 1.21s\n",
      "Epoch 166 in 1.21s\n",
      "Epoch 167 in 1.21s\n",
      "Epoch 168 in 1.21s\n",
      "Epoch 169 in 1.21s\n",
      "iteration #170, elapsed = (1.21, 4.48), train_score = (0.2005, 0.3111), test_score = (0.0945, 0.2354)\n",
      "Epoch 170 in 1.21s\n",
      "Epoch 171 in 1.23s\n",
      "Epoch 172 in 1.23s\n",
      "Epoch 173 in 1.24s\n",
      "Epoch 174 in 1.23s\n",
      "Epoch 175 in 1.22s\n",
      "Epoch 176 in 1.22s\n",
      "Epoch 177 in 1.22s\n",
      "Epoch 178 in 1.22s\n",
      "Epoch 179 in 1.22s\n",
      "iteration #180, elapsed = (1.22, 4.62), train_score = (0.2045, 0.3173), test_score = (0.0945, 0.2354)\n",
      "Epoch 180 in 1.22s\n",
      "Epoch 181 in 1.21s\n",
      "Epoch 182 in 1.21s\n",
      "Epoch 183 in 1.21s\n",
      "Epoch 184 in 1.21s\n",
      "Epoch 185 in 1.21s\n",
      "Epoch 186 in 1.21s\n",
      "Epoch 187 in 1.21s\n",
      "Epoch 188 in 1.21s\n",
      "Epoch 189 in 1.21s\n",
      "iteration #190, elapsed = (1.21, 4.47), train_score = (0.2055, 0.3189), test_score = (0.096, 0.2391)\n",
      "Epoch 190 in 1.21s\n",
      "Epoch 191 in 1.23s\n",
      "Epoch 192 in 1.22s\n",
      "Epoch 193 in 1.22s\n",
      "Epoch 194 in 1.22s\n",
      "Epoch 195 in 1.22s\n",
      "Epoch 196 in 1.22s\n",
      "Epoch 197 in 1.23s\n",
      "Epoch 198 in 1.23s\n",
      "Epoch 199 in 1.22s\n",
      "CPU times: user 19min 15s, sys: 164 ms, total: 19min 15s\n",
      "Wall time: 2min 48s\n"
     ]
    },
    {
     "data": {
      "text/plain": [
       "<util.MyLightFM at 0x7fc985ac5050>"
      ]
     },
     "execution_count": 321,
     "metadata": {},
     "output_type": "execute_result"
    }
   ],
   "source": [
    "%%time\n",
    "lfm_model.fit_partial(train_mat2, epochs = 100, num_threads = 8, sample_weight=train_mat2)"
   ]
  },
  {
   "cell_type": "code",
   "execution_count": 322,
   "metadata": {},
   "outputs": [
    {
     "data": {
      "image/png": "[encoded data removed]",
      "text/plain": [
       "<matplotlib.figure.Figure at 0x7fc9484eea90>"
      ]
     },
     "metadata": {},
     "output_type": "display_data"
    }
   ],
   "source": [
    "plot_precision_history(lfm_history)"
   ]
  },
  {
   "cell_type": "code",
   "execution_count": 323,
   "metadata": {},
   "outputs": [
    {
     "data": {
      "image/png": "[encoded data removed]",
      "text/plain": [
       "<matplotlib.figure.Figure at 0x7fc95bb4ffd0>"
      ]
     },
     "metadata": {},
     "output_type": "display_data"
    }
   ],
   "source": [
    "plot_recall_history(lfm_history)"
   ]
  },
  {
   "cell_type": "code",
   "execution_count": 324,
   "metadata": {},
   "outputs": [
    {
     "name": "stdout",
     "output_type": "stream",
     "text": [
      "CPU times: user 2min 31s, sys: 444 ms, total: 2min 32s\n",
      "Wall time: 22.9 s\n"
     ]
    },
    {
     "data": {
      "text/plain": [
       "(0.0882, 0.2206)"
      ]
     },
     "execution_count": 324,
     "metadata": {},
     "output_type": "execute_result"
    }
   ],
   "source": [
    "%%time\n",
    "eval_all_users(lfm_model, test_user_ids, N = 10)"
   ]
  },
  {
   "cell_type": "markdown",
   "metadata": {},
   "source": [
    "# LFM rank mechanism"
   ]
  },
  {
   "cell_type": "code",
   "execution_count": 124,
   "metadata": {},
   "outputs": [
    {
     "name": "stdout",
     "output_type": "stream",
     "text": [
      "CPU times: user 37min 1s, sys: 1.15 s, total: 37min 3s\n",
      "Wall time: 4min 48s\n"
     ]
    }
   ],
   "source": [
    "%%time\n",
    "_ranks = lfm_model.predict_rank(test_mat_csr, train_mat_csr2, num_threads=8)"
   ]
  },
  {
   "cell_type": "code",
   "execution_count": 125,
   "metadata": {
    "collapsed": true
   },
   "outputs": [],
   "source": [
    "ranks = _ranks.copy()"
   ]
  },
  {
   "cell_type": "code",
   "execution_count": 126,
   "metadata": {
    "collapsed": true
   },
   "outputs": [],
   "source": [
    "user_id = test_users_idx[0]"
   ]
  },
  {
   "cell_type": "code",
   "execution_count": 127,
   "metadata": {},
   "outputs": [
    {
     "data": {
      "text/plain": [
       "(<1x137344 sparse matrix of type '<type 'numpy.float32'>'\n",
       " \twith 4 stored elements in Compressed Sparse Row format>,\n",
       " <1x137344 sparse matrix of type '<type 'numpy.float64'>'\n",
       " \twith 3 stored elements in Compressed Sparse Row format>,\n",
       " array([ 11671,  84784, 115708, 124604], dtype=int32),\n",
       " array([  12.,   18.,   25.,  466.], dtype=float32))"
      ]
     },
     "execution_count": 127,
     "metadata": {},
     "output_type": "execute_result"
    }
   ],
   "source": [
    "test_mat_csr[user_id], train_mat_csr2[user_id], _ranks[user_id].indices, _ranks[user_id].data"
   ]
  },
  {
   "cell_type": "code",
   "execution_count": 128,
   "metadata": {
    "collapsed": true
   },
   "outputs": [],
   "source": [
    "def lfm_precision(k):\n",
    "    ranks = _ranks.copy()\n",
    "    test_interactions = test_mat_csr\n",
    "    ranks.data = np.less(ranks.data, k, ranks.data)\n",
    "    precision = np.squeeze(np.array(ranks.sum(axis=1))) / k\n",
    "    precision = precision[test_interactions.getnnz(axis=1) > 0]\n",
    "    print('precision at {}: mean = {}'.format(k, np.mean(precision)))\n",
    "\n",
    "def lfm_recall(k):\n",
    "    ranks = _ranks.copy()\n",
    "    test_interactions = test_mat_csr\n",
    "    ranks.data = np.less(ranks.data, k, ranks.data)\n",
    "    retrieved = np.squeeze(test_interactions.getnnz(axis=1))\n",
    "    hit = np.squeeze(np.array(ranks.sum(axis=1)))\n",
    "    hit = hit[test_interactions.getnnz(axis=1) > 0]\n",
    "    retrieved = retrieved[test_interactions.getnnz(axis=1) > 0]\n",
    "    recall = hit / retrieved\n",
    "    print('recall at {}: mean = {}'.format(k, np.mean(recall)))"
   ]
  },
  {
   "cell_type": "code",
   "execution_count": 129,
   "metadata": {},
   "outputs": [
    {
     "name": "stdout",
     "output_type": "stream",
     "text": [
      "precision at 3: mean = 0.129280015826\n",
      "precision at 5: mean = 0.11055200547\n",
      "precision at 10: mean = 0.0847240015864\n"
     ]
    },
    {
     "data": {
      "text/plain": [
       "(None, None, None)"
      ]
     },
     "execution_count": 129,
     "metadata": {},
     "output_type": "execute_result"
    }
   ],
   "source": [
    "lfm_precision(3), lfm_precision(5), lfm_precision(10)"
   ]
  },
  {
   "cell_type": "code",
   "execution_count": 130,
   "metadata": {},
   "outputs": [
    {
     "name": "stdout",
     "output_type": "stream",
     "text": [
      "recall at 3: mean = 0.097553\n",
      "recall at 5: mean = 0.138996333333\n",
      "recall at 10: mean = 0.212714333333\n"
     ]
    },
    {
     "data": {
      "text/plain": [
       "(None, None, None)"
      ]
     },
     "execution_count": 130,
     "metadata": {},
     "output_type": "execute_result"
    }
   ],
   "source": [
    "lfm_recall(3), lfm_recall(5), lfm_recall(10)"
   ]
  },
  {
   "cell_type": "code",
   "execution_count": 131,
   "metadata": {},
   "outputs": [
    {
     "name": "stdout",
     "output_type": "stream",
     "text": [
      "CPU times: user 41min 51s, sys: 616 ms, total: 41min 52s\n",
      "Wall time: 6min 42s\n"
     ]
    }
   ],
   "source": [
    "%%time\n",
    "auc_score = lightfm.evaluation.auc_score(lfm_model, test_mat_csr, train_mat_csr2, num_threads=8)"
   ]
  },
  {
   "cell_type": "code",
   "execution_count": 132,
   "metadata": {},
   "outputs": [
    {
     "data": {
      "text/plain": [
       "0.96692884"
      ]
     },
     "execution_count": 132,
     "metadata": {},
     "output_type": "execute_result"
    }
   ],
   "source": [
    "np.mean(auc_score)"
   ]
  },
  {
   "cell_type": "markdown",
   "metadata": {},
   "source": [
    "## LFM Validation"
   ]
  },
  {
   "cell_type": "code",
   "execution_count": 263,
   "metadata": {},
   "outputs": [
    {
     "name": "stdout",
     "output_type": "stream",
     "text": [
      "base ...\n",
      "- 1570 Happy Tree Friends\n",
      "- 4541 TED Talks Daily\n",
      "- 25502 CHILL\n",
      "pred ...\n",
      "- 574393 6 Minute English 26256 3.20102882385\n",
      "- 4541 TED Talks Daily 3421 3.07527375221\n",
      "- 574385 The English We Speak 26236 2.90507411957\n",
      "- 2155 English as a Second Language (ESL) Podcast - Learn English Online 1651 2.74223399162\n",
      "- 468563 Global News Podcast 113969 2.54035162926\n",
      "- 468582 Discovery 113987 2.48439073563\n",
      "- 574409 6 Minute Grammar 115801 2.4319665432\n",
      "- 2164 All Ears English Podcast | Real English Vocabulary | Conversation | American Culture 1656 2.40946125984\n",
      "- 431972 TED Radio Hour 97197 2.29311776161\n",
      "- 574415 6 Minute Vocabulary 26353 2.283213377\n",
      "truth ...\n",
      "- 611873 Навальный LIVE\n",
      "- 45266 Анекдоты\n",
      "- 350630 Стихи вслух. Классика\n"
     ]
    },
    {
     "data": {
      "text/plain": [
       "(0, 10, 3)"
      ]
     },
     "execution_count": 263,
     "metadata": {},
     "output_type": "execute_result"
    }
   ],
   "source": [
    "lang = 'ru'\n",
    "users_idx = test_meta_df[test_meta_df['lang'] == lang].index\n",
    "user_id = users_idx[np.random.randint(0, len(users_idx) - 1)]\n",
    "eval_user_recomm(lfm_model, user_id, test = True)"
   ]
  },
  {
   "cell_type": "code",
   "execution_count": 264,
   "metadata": {},
   "outputs": [
    {
     "name": "stdout",
     "output_type": "stream",
     "text": [
      "pid=486852, title=Deep Learning: Zero to One, score=-1.91\n",
      "pid=1062110, title=Brightest Singularity - Blockchain and Machine Learning, score=-1.75\n",
      "pid=933690, title=Data Science, score=-1.63\n",
      "pid=1047575, title=Data Skeptic Bonus Feed, score=-1.62\n",
      "pid=396480, title=SuperDataScience, score=-1.62\n",
      "pid=430829, title=Machine Learning, score=-1.62\n",
      "pid=650841, title=Machine Learning Guide, score=-1.57\n",
      "pid=934188, title=Data Science Imposters Podcast, score=-1.57\n",
      "pid=26120, title=Linear Digressions, score=-1.57\n",
      "pid=402010, title=This Week in Machine Learning & Artificial Intelligence (AI) Podcast, score=-1.56\n",
      "pid=945037, title=The Drawing Board by Udacity, score=-1.56\n",
      "pid=538016, title=Machine Learning – Software Engineering Daily, score=-1.55\n",
      "pid=465489, title=Get Up and CODE, score=-1.54\n",
      "pid=2348, title=Learning Machines 101, score=-1.54\n",
      "pid=1139516, title=HackerRank Radio, score=-1.52\n",
      "pid=1160099, title=The Public Speaker's Quick and Dirty Tips for Improving Your Communication Skills, score=-1.52\n",
      "pid=1498, title=Accidental Tech Podcast, score=-1.52\n",
      "pid=378094, title=The O'Reilly Data Show Podcast, score=-1.51\n",
      "pid=1049067, title=The Cynical Developer, score=-1.51\n",
      "pid=2315, title=Talk Python To Me - Python conversations for passionate developers, score=-1.51\n",
      "pid=650739, title=Talking Machines, score=-1.51\n",
      "pid=1072755, title=Dhamma Talks in English (audio + video), score=-1.50\n",
      "pid=536120, title=Greatest Hits – Software Engineering Daily, score=-1.50\n",
      "pid=534143, title=China Tech Talk, score=-1.50\n",
      "pid=1365, title=Ethics Talk: Philosophy, Flourishing and The Good Life, score=-1.50\n",
      "pid=485983, title=DevOps on AWS Radio, score=-1.49\n",
      "pid=1511, title=5 Minutes of JavaScript, score=-1.49\n",
      "pid=1121832, title=Analyse Asia with Bernard Leong, score=-1.49\n",
      "pid=1099196, title=Microsoft Research Podcast, score=-1.48\n",
      "pid=1003256, title=AWS Podcast, score=-1.48\n",
      "pid=578031, title=Data Driven, score=-1.48\n",
      "pid=574793, title=Paisa Vaisa, score=-1.47\n",
      "pid=635, title=Data Skeptic, score=-1.47\n",
      "pid=491202, title=The Frontside Podcast, score=-1.47\n",
      "pid=344293, title=Crunch Report, score=-1.47\n",
      "pid=65114, title=The Hello World Podcast, score=-1.47\n",
      "pid=6871, title=Microsoft TechNet Podcast, score=-1.47\n",
      "pid=1133099, title=McKinsey Greater China, score=-1.46\n",
      "pid=107760, title=Mac Power Users, score=-1.46\n",
      "pid=577755, title=The 10 Minute Business Analytics Podcast | Data Analytics, Big Data, Data Visualization, Data Warehousing, score=-1.46\n",
      "pid=1004491, title=Global Spotlight Podcast - Keith Keller, score=-1.46\n",
      "pid=1105671, title=I Hear Voices, score=-1.46\n",
      "pid=1015100, title=AWS Mobile Podcast, score=-1.46\n",
      "pid=898, title=Science Update » Weekly Show, score=-1.46\n",
      "pid=449238, title=AWS TechChat, score=-1.46\n",
      "pid=976116, title=Exponential Wisdom, score=-1.45\n",
      "pid=40013, title=Anatomy of the Human Body, Part 4 (Gray's Anatomy) by GRAY, Henry, score=-1.45\n",
      "pid=491077, title=Fragmented - Android Developer Podcast, score=-1.45\n",
      "pid=91923, title=Conversations That Heal, score=-1.45\n",
      "pid=332027, title=AWS TechChat, score=-1.45\n"
     ]
    }
   ],
   "source": [
    "ref_pids = [486852, 1241617, 285553, 1215926]\n",
    "_ = item_recomm(lfm_model,486852, N = 50)"
   ]
  },
  {
   "cell_type": "code",
   "execution_count": null,
   "metadata": {
    "collapsed": true
   },
   "outputs": [],
   "source": []
  }
 ],
 "metadata": {
  "kernelspec": {
   "display_name": "Python 2",
   "language": "python",
   "name": "python2"
  },
  "language_info": {
   "codemirror_mode": {
    "name": "ipython",
    "version": 2
   },
   "file_extension": ".py",
   "mimetype": "text/x-python",
   "name": "python",
   "nbconvert_exporter": "python",
   "pygments_lexer": "ipython2",
   "version": "2.7.12"
  }
 },
 "nbformat": 4,
 "nbformat_minor": 2
}
