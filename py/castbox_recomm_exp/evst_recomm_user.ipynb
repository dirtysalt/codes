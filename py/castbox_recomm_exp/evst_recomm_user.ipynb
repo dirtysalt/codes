{
 "cells": [
  {
   "cell_type": "code",
   "execution_count": 21,
   "metadata": {
    "collapsed": true
   },
   "outputs": [],
   "source": [
    "import scipy\n",
    "import scipy.sparse\n",
    "import cPickle\n",
    "import logging\n",
    "import implicit\n",
    "reload(implicit)\n",
    "import implicit.approximate_als\n",
    "reload(implicit.approximate_als)\n",
    "import implicit.bpr\n",
    "reload(implicit.bpr)\n",
    "import sklearn\n",
    "import numpy as np\n",
    "import itertools\n",
    "import random\n",
    "import pandas as pd\n",
    "import time\n",
    "import lightfm\n",
    "import lightfm.evaluation\n",
    "from tqdm import tqdm as mytqdm\n",
    "import seaborn as sns\n",
    "%matplotlib inline\n",
    "import util as C\n",
    "reload(C)\n",
    "import functools\n",
    "%matplotlib inline\n",
    "import seaborn as sns\n",
    "import matplotlib.pyplot as plt\n",
    "import pymongo"
   ]
  },
  {
   "cell_type": "markdown",
   "metadata": {},
   "source": [
    "# Load Data"
   ]
  },
  {
   "cell_type": "code",
   "execution_count": 2,
   "metadata": {
    "collapsed": true
   },
   "outputs": [],
   "source": [
    "logging.basicConfig(level = logging.DEBUG)\n",
    "logger = logging.getLogger()\n",
    "logger.setLevel(logging.DEBUG)"
   ]
  },
  {
   "cell_type": "code",
   "execution_count": 3,
   "metadata": {
    "collapsed": true
   },
   "outputs": [],
   "source": [
    "channel_helper = C.ChannelHelper()\n",
    "user_helper = C.UserHelper(channel_helper)"
   ]
  },
  {
   "cell_type": "code",
   "execution_count": 4,
   "metadata": {
    "collapsed": true
   },
   "outputs": [],
   "source": [
    "channel_helper.load_index_data()\n",
    "channel_helper.load_meta_data()"
   ]
  },
  {
   "cell_type": "code",
   "execution_count": 5,
   "metadata": {
    "collapsed": true
   },
   "outputs": [],
   "source": [
    "channel_cid2idx, channel_idx2cid = channel_helper.channel_cid2idx, channel_helper.channel_idx2cid\n",
    "channel_data, channel_pid_data = channel_helper.channel_data, channel_helper.channel_pid_data"
   ]
  },
  {
   "cell_type": "code",
   "execution_count": 6,
   "metadata": {},
   "outputs": [
    {
     "name": "stdout",
     "output_type": "stream",
     "text": [
      "CPU times: user 252 ms, sys: 204 ms, total: 456 ms\n",
      "Wall time: 453 ms\n"
     ]
    }
   ],
   "source": [
    "%%time\n",
    "mat_csr = C.load_mat(C.EVST_USER_ITEM_PATH)\n",
    "mat_coo = mat_csr.tocoo()"
   ]
  },
  {
   "cell_type": "code",
   "execution_count": 7,
   "metadata": {
    "collapsed": true
   },
   "outputs": [],
   "source": [
    "mat_coo2 = implicit.nearest_neighbours.bm25_weight(mat_coo, K1= 2.0, B = 0.8)"
   ]
  },
  {
   "cell_type": "code",
   "execution_count": 8,
   "metadata": {
    "collapsed": true
   },
   "outputs": [],
   "source": [
    "mat_csr2 = mat_coo2.tocsr()"
   ]
  },
  {
   "cell_type": "code",
   "execution_count": 9,
   "metadata": {},
   "outputs": [
    {
     "data": {
      "text/plain": [
       "<1884585x137344 sparse matrix of type '<type 'numpy.float64'>'\n",
       "\twith 15979221 stored elements in Compressed Sparse Row format>"
      ]
     },
     "execution_count": 9,
     "metadata": {},
     "output_type": "execute_result"
    }
   ],
   "source": [
    "mat_csr2"
   ]
  },
  {
   "cell_type": "code",
   "execution_count": 10,
   "metadata": {
    "collapsed": true
   },
   "outputs": [],
   "source": [
    "train_mat_coo2 = mat_coo2\n",
    "train_mat_csr2 = mat_csr2\n",
    "lfm_item_ids = np.arange(train_mat_csr2.shape[1])"
   ]
  },
  {
   "cell_type": "code",
   "execution_count": 11,
   "metadata": {
    "collapsed": true
   },
   "outputs": [],
   "source": [
    "# user_helper.dump_evst_user_email()"
   ]
  },
  {
   "cell_type": "code",
   "execution_count": 12,
   "metadata": {
    "collapsed": true
   },
   "outputs": [],
   "source": [
    "evst_email_df = user_helper.load_evst_user_email()"
   ]
  },
  {
   "cell_type": "code",
   "execution_count": 13,
   "metadata": {},
   "outputs": [
    {
     "data": {
      "text/html": [
       "<div>\n",
       "<style>\n",
       "    .dataframe thead tr:only-child th {\n",
       "        text-align: right;\n",
       "    }\n",
       "\n",
       "    .dataframe thead th {\n",
       "        text-align: left;\n",
       "    }\n",
       "\n",
       "    .dataframe tbody tr th {\n",
       "        vertical-align: top;\n",
       "    }\n",
       "</style>\n",
       "<table border=\"1\" class=\"dataframe\">\n",
       "  <thead>\n",
       "    <tr style=\"text-align: right;\">\n",
       "      <th></th>\n",
       "      <th>uid</th>\n",
       "      <th>email</th>\n",
       "    </tr>\n",
       "  </thead>\n",
       "  <tbody>\n",
       "    <tr>\n",
       "      <th>0</th>\n",
       "      <td>84443254a35142ae8172065eac95b1ea</td>\n",
       "      <td>shty8@126.com</td>\n",
       "    </tr>\n",
       "    <tr>\n",
       "      <th>1</th>\n",
       "      <td>1fcad777842f4707bc47dc5604f8ef07</td>\n",
       "      <td>tommycoue100@gmail.com</td>\n",
       "    </tr>\n",
       "    <tr>\n",
       "      <th>2</th>\n",
       "      <td>98962c5791ec43e4af56aba9e654f992</td>\n",
       "      <td>w20163@gmail.com</td>\n",
       "    </tr>\n",
       "  </tbody>\n",
       "</table>\n",
       "</div>"
      ],
      "text/plain": [
       "                                uid                   email\n",
       "0  84443254a35142ae8172065eac95b1ea           shty8@126.com\n",
       "1  1fcad777842f4707bc47dc5604f8ef07  tommycoue100@gmail.com\n",
       "2  98962c5791ec43e4af56aba9e654f992        w20163@gmail.com"
      ]
     },
     "execution_count": 13,
     "metadata": {},
     "output_type": "execute_result"
    }
   ],
   "source": [
    "evst_email_df.head(3)"
   ]
  },
  {
   "cell_type": "code",
   "execution_count": 14,
   "metadata": {
    "collapsed": true
   },
   "outputs": [],
   "source": [
    "evst_df = user_helper.load_evst_subs_idx_df()"
   ]
  },
  {
   "cell_type": "code",
   "execution_count": 15,
   "metadata": {
    "collapsed": true
   },
   "outputs": [],
   "source": [
    "uid2idx = {x: idx for (idx, x) in enumerate(evst_df['uid'])}\n",
    "idx2uid = evst_df['uid']"
   ]
  },
  {
   "cell_type": "code",
   "execution_count": 16,
   "metadata": {
    "collapsed": true
   },
   "outputs": [],
   "source": [
    "email2uid = dict(zip(evst_email_df['email'], evst_email_df['uid']))\n",
    "uid2email = dict(zip(evst_email_df['uid'], evst_email_df['email']))"
   ]
  },
  {
   "cell_type": "code",
   "execution_count": 17,
   "metadata": {
    "collapsed": true
   },
   "outputs": [],
   "source": [
    "def ensure_uid(t):\n",
    "    if '@' in t:\n",
    "        email = t\n",
    "        uid = email2uid[t]\n",
    "    else:\n",
    "        uid = t\n",
    "        email = uid2email.get(t, '')\n",
    "    print('email = {}, uid = {}'.format(email, uid))\n",
    "    return uid\n",
    "def get_user_idx(t):\n",
    "    uid = ensure_uid(t)\n",
    "    return uid2idx[uid]"
   ]
  },
  {
   "cell_type": "code",
   "execution_count": 22,
   "metadata": {},
   "outputs": [
    {
     "data": {
      "text/plain": [
       "'xuan.yang@castbox.fm'"
      ]
     },
     "execution_count": 22,
     "metadata": {},
     "output_type": "execute_result"
    }
   ],
   "source": [
    "uid2email['c42d3c9fee07479fb4ac9713ceb7e999']"
   ]
  },
  {
   "cell_type": "markdown",
   "metadata": {},
   "source": [
    "# Evaluation"
   ]
  },
  {
   "cell_type": "code",
   "execution_count": 18,
   "metadata": {
    "collapsed": true
   },
   "outputs": [],
   "source": [
    "def compute_pred(model, user_id, N = 10):\n",
    "    if model.__module__.startswith('implicit'):\n",
    "        user = model._user_factor(user_id, user_items = train_mat_csr2)\n",
    "        scores = model.item_factors.dot(user)\n",
    "    else:\n",
    "        scores = model.predict(user_ids = user_id, item_ids = lfm_item_ids)\n",
    "    scores = -scores\n",
    "    pred_idxs = np.argpartition(scores, N)[:N]\n",
    "    pred = [(x, -scores[x]) for x in pred_idxs]\n",
    "    pred.sort(key = lambda x: -x[1])\n",
    "    return pred\n",
    "    \n",
    "def eval_user_recomm(model, user_id, N = 20, verbose = True):\n",
    "    if verbose:\n",
    "        user_id = get_user_idx(user_id)\n",
    "        print('user_idx = {}'.format(user_id))\n",
    "    base_idxs = set(train_mat_csr2[user_id].indices)\n",
    "    pred = compute_pred(model, user_id, N = 200)\n",
    "    pred = [x for x in pred if x[0] not in base_idxs][:N]\n",
    "    pred = pred[:N]\n",
    "    pred_idxs = [x[0] for x in pred]    \n",
    "    if verbose:\n",
    "        print('base ...')\n",
    "        base_pids = [channel_idx2cid[x] for x in base_idxs]\n",
    "        for pid in base_pids:\n",
    "            print('- {} {}'.format(pid, channel_pid_data[pid]['title']))\n",
    "\n",
    "        print('pred ...')\n",
    "        pred_pids = [channel_idx2cid[x] for x in pred_idxs]\n",
    "        for idx, pid in enumerate(pred_pids):\n",
    "            print('- {} {} {} {}'.format(pid, channel_pid_data[pid]['title'], pred_idxs[idx], pred[idx][1]))\n",
    "    else:\n",
    "        return [channel_idx2cid[x] for x in pred_idxs]\n",
    "            \n",
    "def item_recomm(model, cid, N=20,  verbose = True):\n",
    "    idx = channel_cid2idx[cid]\n",
    "    if model.__module__.startswith('implicit'):\n",
    "        related = model.similar_items(idx, N=N)\n",
    "        res = []\n",
    "        for rid, score in related:\n",
    "            pid= channel_idx2cid[rid]\n",
    "            title = channel_pid_data[pid]['title']\n",
    "            res.append((pid, title, score))\n",
    "            \n",
    "    else: # lightfm model.\n",
    "        item_embeddings = model.item_embeddings\n",
    "        scores = item_embeddings.dot(item_embeddings[idx])\n",
    "        norm_scores = -scores / np.linalg.norm(item_embeddings, axis = -1)\n",
    "        scores_idx = norm_scores.argpartition(N)\n",
    "        scores_idx = scores_idx[:N]\n",
    "        scores_idx_value = list(zip(scores_idx, [norm_scores[x] for x in scores_idx]))\n",
    "        scores_idx_value = sorted(scores_idx_value, key = lambda x: x[1])\n",
    "        res = []\n",
    "        for idx, value in scores_idx_value:\n",
    "            pid= channel_idx2cid[idx]\n",
    "            title = channel_pid_data[pid]['title']\n",
    "            res.append((pid, title, value))\n",
    "\n",
    "    if verbose:\n",
    "        for pid, title, score in res:\n",
    "            print('pid={}, title={}, score={:.2f}'.format(pid, title, score))\n",
    "    return res"
   ]
  },
  {
   "cell_type": "markdown",
   "metadata": {},
   "source": [
    "# Train ALS Model"
   ]
  },
  {
   "cell_type": "code",
   "execution_count": 19,
   "metadata": {
    "collapsed": true
   },
   "outputs": [],
   "source": [
    "np.random.seed(42)\n",
    "als_model = implicit.als.AlternatingLeastSquares(\n",
    "    factors= 100, \n",
    "    regularization = 0.01,\n",
    "    iterations = 10)"
   ]
  },
  {
   "cell_type": "code",
   "execution_count": 20,
   "metadata": {},
   "outputs": [
    {
     "name": "stderr",
     "output_type": "stream",
     "text": [
      "DEBUG:implicit:Converting input to CSR format\n",
      "DEBUG:implicit:Converted input to CSR in 0.830s\n",
      "DEBUG:implicit:Calculated transpose in 1.556s\n",
      "DEBUG:implicit:initialize factors in 3.87056994438\n",
      "DEBUG:implicit:finished iteration 0 in 35.213s\n",
      "DEBUG:implicit:finished iteration 1 in 35.084s\n",
      "DEBUG:implicit:finished iteration 2 in 33.976s\n",
      "DEBUG:implicit:finished iteration 3 in 34.115s\n",
      "DEBUG:implicit:finished iteration 4 in 34.092s\n",
      "DEBUG:implicit:finished iteration 5 in 33.504s\n",
      "DEBUG:implicit:finished iteration 6 in 34.998s\n",
      "DEBUG:implicit:finished iteration 7 in 34.863s\n",
      "DEBUG:implicit:finished iteration 8 in 34.244s\n",
      "DEBUG:implicit:finished iteration 9 in 34.191s\n"
     ]
    },
    {
     "name": "stdout",
     "output_type": "stream",
     "text": [
      "CPU times: user 39min 7s, sys: 51min 23s, total: 1h 30min 30s\n",
      "Wall time: 5min 50s\n"
     ]
    }
   ],
   "source": [
    "%%time\n",
    "als_model.fit(train_mat_csr2.T)"
   ]
  },
  {
   "cell_type": "markdown",
   "metadata": {},
   "source": [
    "# ALS Validation"
   ]
  },
  {
   "cell_type": "code",
   "execution_count": 41,
   "metadata": {},
   "outputs": [
    {
     "name": "stdout",
     "output_type": "stream",
     "text": [
      "email = , uid = 6c6e4d6f97904e018b06643032d4e85d\n",
      "user_idx = 1\n",
      "base ...\n",
      "- 3175 Serial\n",
      "- 378324 Albert Breer, The MMQB Podcast\n",
      "- 19416 轻阅读\n",
      "- 973326 Dkey\n",
      "- 4382 Raise Your Hand Say Yes with Tiffany Han\n",
      "- 472318 NESBROS: A Positive Gaming & Nintendo Switch Community\n",
      "- 499 The Yogahealer Podcast l Ayurveda l Yoga l Healthy Foods | Yoga teachers with Cate Stillman\n",
      "- 479560 Adult Sound\n",
      "- 340105 TPOK Live!\n",
      "- 486338 Price Of A Mile\n",
      "- 476304 Unshakeable by Tony Robbins\n",
      "- 7826 Nightmare Magazine - Horror and Dark Fantasy Story Podcast (Audiobook | Short Stories)\n",
      "- 112984 Unscrewed\n",
      "pred ...\n",
      "- 492411 S-Town 124780 0.413534998894\n",
      "- 262988 The Tony Robbins Podcast 3855 0.293162405491\n",
      "- 257325 The GaryVee Audio Experience 135326 0.20967143774\n",
      "- 14983 酷狗音乐新歌榜 11057 0.208269014955\n",
      "- 15554 段子来了 11414 0.179603695869\n",
      "- 570881 晓说2018 31554 0.153581976891\n",
      "- 973334 看电影，听音乐 79384 0.147670000792\n",
      "- 1086228 潘吉Jenny告诉你|学英语聊美国|开言英语 · Podcast 25720 0.138017266989\n",
      "- 935281 罗辑思维/得到App 26108 0.134647160769\n",
      "- 1814 This American Life 1427 0.12970495224\n",
      "- 470090 當音樂來敲門 114659 0.1283865273\n",
      "- 574416 Learning English for China 26359 0.127797797322\n",
      "- 146 The Black Tapes 114 0.125529661775\n",
      "- 535289 The School of Greatness with Lewis Howes 136420 0.125161573291\n",
      "- 351158 The NoSleep Podcast 55595 0.122864544392\n",
      "- 6119 Grimms' Fairy Tales by Jacob & Wilhelm Grimm 4691 0.120777033269\n",
      "- 14977 怀旧金曲 11053 0.120151475072\n",
      "- 1059468 The Tim Ferriss Show 8257 0.117934338748\n",
      "- 1244953 American Innovations 109501 0.11647170037\n",
      "- 14973 国家大剧院-聆听古典 11051 0.112756967545\n",
      "- 1189174 My Favorite Murder with Karen Kilgariff and Georgia Hardstark 83083 0.111722528934\n",
      "- 468582 Discovery 113987 0.11161583662\n",
      "- 1266264 Why Is This Happening? with Chris Hayes 119181 0.106363430619\n",
      "- 8108 The MFCEO Project 6137 0.105880886316\n",
      "- 373349 科学脱口秀 68268 0.105437636375\n",
      "- 12955 蕊希电台 9785 0.104002386332\n",
      "- 148 We're Alive - A \"Zombie\" Story of Survival 116 0.101499065757\n",
      "- 450951 Bill O'Reilly: No Spin News Excerpts 106006 0.101337313652\n",
      "- 15726 幽默笑话大全 11544 0.0994768440723\n",
      "- 12954 一个人的书房 9784 0.0989838689566\n",
      "- 1013607 英语口语每天学 123162 0.0985720083117\n",
      "- 320 The Scarecast - Scary Stories & Creepypasta 249 0.0982045307755\n",
      "- 131574 3D催眠【睡前精神按摩】 78912 0.0974348559976\n",
      "- 460268 Success Audio Books 110329 0.0945526212454\n",
      "- 15821 TED演讲中文朗读版 11601 0.09130166471\n",
      "- 12947 阅读经典 9779 0.0869631171227\n",
      "- 377 The Tai Lopez Show 295 0.086857676506\n",
      "- 224967 一个人睡前听【一个人听的晚安电台】 122177 0.0864777266979\n",
      "- 8104 Cardone Zone 6135 0.0859253108501\n",
      "- 3600 The History of Rome 2768 0.0850647389889\n"
     ]
    }
   ],
   "source": [
    "# uid = 'afc3a7f884d441ecbc4fbd34a208e657'\n",
    "# uid = 'yan.zhang@castbox.fm'\n",
    "uid = 'yuanyuan.sun@castbox.fm'\n",
    "uid = 'wenchao.du@castbox.fm'\n",
    "uid = '6c6e4d6f97904e018b06643032d4e85d'\n",
    "eval_user_recomm(als_model, uid, N = 40)"
   ]
  },
  {
   "cell_type": "code",
   "execution_count": 25,
   "metadata": {},
   "outputs": [
    {
     "name": "stdout",
     "output_type": "stream",
     "text": [
      "pid=1241617, title=Blockchain Inside, score=1.00\n",
      "pid=1240826, title=TFECON 2018: Blockchain Technology and Future Economy, score=0.97\n",
      "pid=1174008, title=Humans of Bitcoin, score=0.94\n",
      "pid=442885, title=Blockchain Billions Podcast, score=0.92\n",
      "pid=954020, title=The Let's Talk Bitcoin Network, score=0.92\n",
      "pid=1162122, title=Cryptos Weekly, score=0.92\n",
      "pid=1180347, title=The Coin Pod, score=0.92\n",
      "pid=1081950, title=The Trust Technology TTT #blockchain, score=0.92\n",
      "pid=1195023, title=The Doug Polk Podcast, score=0.92\n",
      "pid=1270670, title=The Bitcoin Game, score=0.92\n",
      "pid=573252, title=Blockchain Innovation: Interviewing The Brightest Minds In Blockchain, score=0.92\n",
      "pid=1209713, title=Blockchain, score=0.92\n",
      "pid=1080143, title=The Blockcast Show: Everything about Blockchain, Bitcoin, Ethereum, and Cryptocurrency, score=0.92\n",
      "pid=1057334, title=Middle Market Growth Conversations, score=0.91\n",
      "pid=575583, title=Dash: Detailed (Digital Cash), score=0.91\n",
      "pid=484165, title=Blockgeekslab Podcast, score=0.91\n",
      "pid=1152933, title=Call to Freedom, score=0.91\n",
      "pid=1153724, title=Blockchain & Crypto Revolution, score=0.91\n",
      "pid=1102448, title=The Bitcoin Lecture Series, score=0.91\n",
      "pid=83790, title=Bitcoins & Gravy, score=0.91\n"
     ]
    }
   ],
   "source": [
    "ref_pids = [486852, 1241617, 285553, 1215926]\n",
    "_= item_recomm(als_model, 1241617, N = 20)"
   ]
  },
  {
   "cell_type": "markdown",
   "metadata": {},
   "source": [
    "# 输出推荐结果"
   ]
  },
  {
   "cell_type": "code",
   "execution_count": 28,
   "metadata": {
    "collapsed": true
   },
   "outputs": [],
   "source": [
    "def pid_to_key(pid):\n",
    "    assert(pid in channel_pid_data)\n",
    "    data = channel_pid_data[pid]\n",
    "    return data['key']\n",
    "\n",
    "def get_track_keys(feeds):\n",
    "    tracks = []\n",
    "    for x in feeds:\n",
    "        track = channel_data.get(x, {}).get('track')\n",
    "        if not track: continue\n",
    "        tracks.append('{}-{}'.format(x, track))\n",
    "    return tracks\n",
    "\n",
    "def deploy_to_db(table, recomm_data):\n",
    "    ops = []\n",
    "    for (f, feeds, tracks) in mytqdm(recomm_data):\n",
    "        ops.append(pymongo.UpdateOne({'_id': f}, {'$set': {'feeds': feeds, 'tracks': tracks}}, upsert=True))\n",
    "        if len(ops) == 100:\n",
    "            table.bulk_write(ops, ordered=False)\n",
    "            ops = []\n",
    "    if ops:\n",
    "        table.bulk_write(ops, ordered=False)"
   ]
  },
  {
   "cell_type": "code",
   "execution_count": null,
   "metadata": {},
   "outputs": [
    {
     "name": "stderr",
     "output_type": "stream",
     "text": [
      "  0%|          | 1936/1884585 [00:08<2:18:31, 226.50it/s]Exception KeyError: KeyError(<weakref at 0x7f8618162c58; to 'tqdm' at 0x7f85d314f450>,) in <bound method tqdm.__del__ of   0%|          | 1175/1884585 [00:40<17:54:40, 29.21it/s]> ignored\n",
      "  8%|▊         | 144755/1884585 [10:48<2:09:56, 223.16it/s]"
     ]
    }
   ],
   "source": [
    "recomm_data = []\n",
    "uid_size = len(uid2idx)\n",
    "for uid_idx in mytqdm(xrange(uid_size)):\n",
    "    res = eval_user_recomm(als_model, uid_idx, N = 200, verbose = False)\n",
    "    recomm_keys = [pid_to_key(x) for x in res]\n",
    "    recomm_keys = recomm_keys[1:]\n",
    "    feed_keys = recomm_keys\n",
    "    track_keys = get_track_keys(feed_keys)\n",
    "    uid = idx2uid[uid_idx]\n",
    "    recomm_data.append((uid, feed_keys, track_keys))"
   ]
  },
  {
   "cell_type": "code",
   "execution_count": null,
   "metadata": {
    "collapsed": true
   },
   "outputs": [],
   "source": [
    "from recomm import app\n",
    "table = app.CBRecommDB['user_id']\n",
    "table.create_index('_id')\n",
    "deploy_to_db(table, recomm_data)"
   ]
  },
  {
   "cell_type": "code",
   "execution_count": 57,
   "metadata": {},
   "outputs": [
    {
     "data": {
      "text/plain": [
       "'OK'"
      ]
     },
     "execution_count": 57,
     "metadata": {},
     "output_type": "execute_result"
    }
   ],
   "source": [
    "'OK'"
   ]
  },
  {
   "cell_type": "code",
   "execution_count": 58,
   "metadata": {},
   "outputs": [
    {
     "data": {
      "text/plain": [
       "'838fa37e63d34783baeed268fc9de9f4'"
      ]
     },
     "execution_count": 58,
     "metadata": {},
     "output_type": "execute_result"
    }
   ],
   "source": [
    "email2uid['wenchao.du@castbox.fm']"
   ]
  }
 ],
 "metadata": {
  "kernelspec": {
   "display_name": "Python 2",
   "language": "python",
   "name": "python2"
  },
  "language_info": {
   "codemirror_mode": {
    "name": "ipython",
    "version": 2
   },
   "file_extension": ".py",
   "mimetype": "text/x-python",
   "name": "python",
   "nbconvert_exporter": "python",
   "pygments_lexer": "ipython2",
   "version": "2.7.12"
  }
 },
 "nbformat": 4,
 "nbformat_minor": 2
}
