{
 "cells": [
  {
   "cell_type": "code",
   "execution_count": 3,
   "metadata": {},
   "outputs": [
    {
     "name": "stdout",
     "output_type": "stream",
     "text": [
      "Requirement already satisfied: beautifulsoup4 in c:\\users\\zya\\globalpyve\\lib\\site-packages (4.9.3)\n",
      "Requirement already satisfied: soupsieve>1.2; python_version >= \"3.0\" in c:\\users\\zya\\globalpyve\\lib\\site-packages (from beautifulsoup4) (2.1)\n"
     ]
    },
    {
     "name": "stderr",
     "output_type": "stream",
     "text": [
      "WARNING: You are using pip version 20.2.3; however, version 20.3.3 is available.\n",
      "You should consider upgrading via the 'c:\\users\\zya\\globalpyve\\scripts\\python.exe -m pip install --upgrade pip' command.\n"
     ]
    },
    {
     "name": "stdout",
     "output_type": "stream",
     "text": [
      "Requirement already satisfied: requests in c:\\users\\zya\\globalpyve\\lib\\site-packages (2.25.1)\n",
      "Requirement already satisfied: certifi>=2017.4.17 in c:\\users\\zya\\globalpyve\\lib\\site-packages (from requests) (2020.12.5)\n"
     ]
    },
    {
     "name": "stderr",
     "output_type": "stream",
     "text": [
      "WARNING: You are using pip version 20.2.3; however, version 20.3.3 is available.\n",
      "You should consider upgrading via the 'c:\\users\\zya\\globalpyve\\scripts\\python.exe -m pip install --upgrade pip' command.\n"
     ]
    },
    {
     "name": "stdout",
     "output_type": "stream",
     "text": [
      "Requirement already satisfied: chardet<5,>=3.0.2 in c:\\users\\zya\\globalpyve\\lib\\site-packages (from requests) (4.0.0)\n",
      "Requirement already satisfied: idna<3,>=2.5 in c:\\users\\zya\\globalpyve\\lib\\site-packages (from requests) (2.10)\n",
      "Requirement already satisfied: urllib3<1.27,>=1.21.1 in c:\\users\\zya\\globalpyve\\lib\\site-packages (from requests) (1.26.2)\n"
     ]
    }
   ],
   "source": [
    "!pip3 install beautifulsoup4\n",
    "!pip3 install requests\n",
    "import sys\n",
    "from bs4 import BeautifulSoup\n",
    "import functools\n",
    "import requests"
   ]
  },
  {
   "cell_type": "code",
   "execution_count": 7,
   "metadata": {},
   "outputs": [],
   "source": [
    "def loadElements(inputFile):\n",
    "    html = open(inputFile, encoding='utf8').read()\n",
    "    bs = BeautifulSoup(html)\n",
    "    elements = bs.select('#anchor_sound_list > div.sound-list._is > ul > li > div.text.lF_')\n",
    "    return elements"
   ]
  },
  {
   "cell_type": "code",
   "execution_count": 8,
   "metadata": {},
   "outputs": [],
   "source": [
    "elements = []\n",
    "for i in range(1, 7+1):\n",
    "    inputFile = 'page{}.html'.format(i)\n",
    "    es = loadElements(inputFile)\n",
    "    elements.extend(es)"
   ]
  },
  {
   "cell_type": "code",
   "execution_count": 9,
   "metadata": {},
   "outputs": [],
   "source": [
    "def parseElement(x):\n",
    "    y = next(x.children)\n",
    "    link = y.attrs['href']\n",
    "    title = y.text\n",
    "    item_id = link.split('/')[-1]\n",
    "    return {'item_id': item_id,'title':title}"
   ]
  },
  {
   "cell_type": "code",
   "execution_count": 10,
   "metadata": {},
   "outputs": [],
   "source": [
    "items = [parseElement(x) for x in elements]"
   ]
  },
  {
   "cell_type": "code",
   "execution_count": 32,
   "metadata": {},
   "outputs": [],
   "source": [
    "# https://blog.csdn.net/BigBoy_Coder/article/details/103406332\n",
    "import requests\n",
    "import time\n",
    "import hashlib\n",
    "import random\n",
    " \n",
    " \n",
    "class ximalaya(object):\n",
    " \n",
    "    def __init__(self):\n",
    "        self.headers = {\n",
    "            \"User-Agent\": \"Mozilla/5.0 (Windows NT 10.0; Win64; x64) AppleWebKit/537.36 (KHTML, like Gecko) Chrome/75.0.3770.90 Safari/537.36\"\n",
    "        }\n",
    " \n",
    "    def getServerTime(self):\n",
    "        \"\"\"\n",
    "        获取喜马拉雅服务器的时间戳\n",
    "        :return:\n",
    "        \"\"\"\n",
    "        # 这个地址就是返回服务器时间戳的接口\n",
    "        serverTimeUrl = \"https://www.ximalaya.com/revision/time\"\n",
    "        response = requests.get(serverTimeUrl,headers = self.headers)\n",
    "        return response.text\n",
    " \n",
    "    def getSign(self,serverTime):\n",
    "        \"\"\"\n",
    "        生成 xm-sign\n",
    "        规则是 md5(ximalaya-服务器时间戳)(100以内随机数)服务器时间戳(100以内随机数)现在时间戳\n",
    "        :param serverTime:\n",
    "        :return:\n",
    "        \"\"\"\n",
    "        nowTime = str(round(time.time()*1000))\n",
    " \n",
    "        sign = str(hashlib.md5(\"himalaya-{}\".format(serverTime).encode()).hexdigest()) + \"({})\".format(str(round(random.random()*100))) + serverTime + \"({})\".format(str(round(random.random()*100))) + nowTime\n",
    "        # 将xm-sign添加到请求头中\n",
    "        self.headers[\"xm-sign\"] = sign\n",
    "        return sign"
   ]
  },
  {
   "cell_type": "code",
   "execution_count": 29,
   "metadata": {},
   "outputs": [
    {
     "data": {
      "text/plain": [
       "'8027f59161034deedd03f21bd6bbc653(77)1611118563632(21)1611118563899'"
      ]
     },
     "execution_count": 29,
     "metadata": {},
     "output_type": "execute_result"
    }
   ],
   "source": [
    "x = ximalaya()\n",
    "x.getSign(x.getServerTime())"
   ]
  },
  {
   "cell_type": "code",
   "execution_count": 30,
   "metadata": {},
   "outputs": [],
   "source": [
    "@functools.lru_cache()\n",
    "def getDownloadLink(item_id):\n",
    "    url = 'https://www.ximalaya.com/revision/play/v1/audio?id={}&ptype=1'.format(item_id)\n",
    "    print(url)\n",
    "    x = ximalaya()\n",
    "    sign = x.getSign(x.getServerTime())\n",
    "    r = requests.get(url, headers = {\n",
    "        'User-Agent':'Mozilla/5.0 (Windows NT 10.0; Win64; x64) AppleWebKit/537.36 (KHTML, like Gecko) Chrome/87.0.4280.141 Safari/537.36', 'Content-Type': 'application/json',\n",
    "        'xm-sign':sign,\n",
    "        'cookie':'_xmLog=h5&ba306987-7f3f-4929-917d-e761b482168d&2.2.12; Hm_lvt_4a7d8ec50cfd6af753c4f8aee3425070=1611117155; wb_nickname_1=dirtysalt; wb_avatar_1=https%3A%2F%2Ftvax4.sinaimg.cn%2Fcrop.0.0.512.512.180%2F7a1ecb3ely8g4j9uk9ijcj20e80e8t99.jpg%3FKID%3Dimgbed%2Ctva%26Expires%3D1611127971%26ssig%3Dy%252BaH962tnH; trackType=web; fds_otp=6240493213403637617; x_xmly_traffic=utm_source%253A%2526utm_medium%253A%2526utm_campaign%253A%2526utm_content%253A%2526utm_term%253A%2526utm_from%253A; 1&remember_me=y; 1&_token=55621669&1E9FD900140NC550B690C0DDAE717E13971709F994E274E1653C59C8A0FAC9B05C1FD725104C39M24020C8EC725C6B_; 1_l_flag=55621669&1E9FD900140NC550B690C0DDAE717E13971709F994E274E1653C59C8A0FAC9B05C1FD725104C39M24020C8EC725C6B__2021-01-2012:35:41; Hm_lpvt_4a7d8ec50cfd6af753c4f8aee3425070=1611117347',\n",
    "        'referer':'https://www.ximalaya.com/ertong/29122679/360821293',\n",
    "    })\n",
    "    print(r.status_code, r.content)\n",
    "    link = r.json()['data']['src']    \n",
    "    return link"
   ]
  },
  {
   "cell_type": "code",
   "execution_count": 31,
   "metadata": {},
   "outputs": [
    {
     "name": "stdout",
     "output_type": "stream",
     "text": [
      "https://www.ximalaya.com/revision/play/v1/audio?id=360821293&ptype=1\n",
      "200 b'{\"ret\":200,\"data\":{\"trackId\":360821293,\"canPlay\":true,\"isPaid\":false,\"hasBuy\":true,\"src\":\"https://aod.cos.tx.xmcdn.com/storages/a177-audiofreehighqps/FC/A1/CMCoOSQDloqnABR3nwBrXce5.m4a\",\"albumIsSample\":false,\"sampleDuration\":49,\"isBaiduMusic\":false,\"firstPlayStatus\":true,\"isVipFree\":false,\"isXimiAhead\":false,\"isAlbumTimeLimited\":false,\"ximiVipFreeType\":0}}'\n"
     ]
    },
    {
     "data": {
      "text/plain": [
       "'https://aod.cos.tx.xmcdn.com/storages/a177-audiofreehighqps/FC/A1/CMCoOSQDloqnABR3nwBrXce5.m4a'"
      ]
     },
     "execution_count": 31,
     "metadata": {},
     "output_type": "execute_result"
    }
   ],
   "source": [
    "getDownloadLink('360821293')"
   ]
  },
  {
   "cell_type": "code",
   "execution_count": 33,
   "metadata": {},
   "outputs": [
    {
     "data": {
      "text/plain": [
       "196"
      ]
     },
     "execution_count": 33,
     "metadata": {},
     "output_type": "execute_result"
    }
   ],
   "source": [
    "len(items)"
   ]
  },
  {
   "cell_type": "code",
   "execution_count": 34,
   "metadata": {},
   "outputs": [
    {
     "data": {
      "text/plain": [
       "196"
      ]
     },
     "execution_count": 34,
     "metadata": {},
     "output_type": "execute_result"
    }
   ],
   "source": [
    "len(set([x['title'] for x in items]))"
   ]
  },
  {
   "cell_type": "code",
   "execution_count": null,
   "metadata": {},
   "outputs": [],
   "source": [
    "for it in items:\n",
    "    if 'link' not in it:\n",
    "        link = getDownloadLink(it['item_id'])\n",
    "#         print('OK!!!')\n",
    "        it['link'] = link\n",
    "    else:\n",
    "        print(it)"
   ]
  },
  {
   "cell_type": "code",
   "execution_count": null,
   "metadata": {},
   "outputs": [],
   "source": [
    "with open('download.sh', 'w') as fh:\n",
    "    for it in items:\n",
    "        s = \"\"\"\n",
    "        if [ ! -f \"audio/{title}.m4a\" ]; then\n",
    "            wget \"{url}\" -O temp.m4a\n",
    "            mv temp.m4a \"audio/{title}.m4a\"\n",
    "        fi\n",
    "        \"\"\".format(title = it['title'], url = it['link'])\n",
    "        fh.write(s)"
   ]
  }
 ],
 "metadata": {
  "kernelspec": {
   "display_name": "Python 3",
   "language": "python",
   "name": "python3"
  },
  "language_info": {
   "codemirror_mode": {
    "name": "ipython",
    "version": 3
   },
   "file_extension": ".py",
   "mimetype": "text/x-python",
   "name": "python",
   "nbconvert_exporter": "python",
   "pygments_lexer": "ipython3",
   "version": "3.9.1"
  }
 },
 "nbformat": 4,
 "nbformat_minor": 4
}
