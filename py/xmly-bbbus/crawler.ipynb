{
 "cells": [
  {
   "cell_type": "code",
   "execution_count": null,
   "metadata": {},
   "outputs": [],
   "source": [
    "import sys\n",
    "from bs4 import BeautifulSoup\n",
    "import functools\n",
    "import requests"
   ]
  },
  {
   "cell_type": "code",
   "execution_count": null,
   "metadata": {},
   "outputs": [],
   "source": [
    "!pip3 install beautifulsoup4\n",
    "!pip3 install requests"
   ]
  },
  {
   "cell_type": "code",
   "execution_count": null,
   "metadata": {},
   "outputs": [],
   "source": [
    "def loadElements(inputFile):\n",
    "    html = open(inputFile).read()\n",
    "    bs = BeautifulSoup(html)\n",
    "    elements = bs.select('#anchor_sound_list > div.sound-list._is > ul > li > div.text.lF_')\n",
    "    return elements"
   ]
  },
  {
   "cell_type": "code",
   "execution_count": null,
   "metadata": {},
   "outputs": [],
   "source": [
    "elements = []\n",
    "for i in range(1, 7+1):\n",
    "    inputFile = 'page{}.html'.format(i)\n",
    "    es = loadElements(inputFile)\n",
    "    elements.extend(es)"
   ]
  },
  {
   "cell_type": "code",
   "execution_count": null,
   "metadata": {},
   "outputs": [],
   "source": [
    "def parseElement(x):\n",
    "    y = next(x.children)\n",
    "    link = y.attrs['href']\n",
    "    title = y.text\n",
    "    item_id = link.split('/')[-1]\n",
    "    return {'item_id': item_id,'title':title}"
   ]
  },
  {
   "cell_type": "code",
   "execution_count": null,
   "metadata": {},
   "outputs": [],
   "source": [
    "items = [parseElement(x) for x in elements]"
   ]
  },
  {
   "cell_type": "code",
   "execution_count": null,
   "metadata": {},
   "outputs": [],
   "source": [
    "@functools.lru_cache()\n",
    "def getDownloadLink(item_id):\n",
    "    url = 'https://www.ximalaya.com/revision/play/v1/audio?id={}&ptype=1'.format(item_id)\n",
    "    print(url)\n",
    "    r = requests.get(url, headers = {'User-Agent':'curl/7.54.0', 'Content-Type': 'application/json'})\n",
    "    print(r.status_code, r.content)\n",
    "    link = r.json()['data']['src']    \n",
    "    return link"
   ]
  },
  {
   "cell_type": "code",
   "execution_count": null,
   "metadata": {},
   "outputs": [],
   "source": [
    "getDownloadLink('360821293')"
   ]
  },
  {
   "cell_type": "code",
   "execution_count": null,
   "metadata": {},
   "outputs": [],
   "source": [
    "len(items)"
   ]
  },
  {
   "cell_type": "code",
   "execution_count": null,
   "metadata": {},
   "outputs": [],
   "source": [
    "len(set([x['title'] for x in items]))"
   ]
  },
  {
   "cell_type": "code",
   "execution_count": null,
   "metadata": {},
   "outputs": [],
   "source": [
    "for it in items:\n",
    "    if 'link' not in it:\n",
    "        link = getDownloadLink(it['item_id'])\n",
    "#         print('OK!!!')\n",
    "        it['link'] = link\n",
    "    else:\n",
    "        print(it)"
   ]
  },
  {
   "cell_type": "code",
   "execution_count": null,
   "metadata": {},
   "outputs": [],
   "source": [
    "with open('download.sh', 'w') as fh:\n",
    "    for it in items:\n",
    "        s = \"\"\"\n",
    "        if [ ! -f \"audio/{title}.m4a\" ]; then\n",
    "            wget \"{url}\" -O temp.m4a\n",
    "            mv temp.m4a \"audio/{title}.m4a\"\n",
    "        fi\n",
    "        \"\"\".format(title = it['title'], url = it['link'])\n",
    "        fh.write(s)"
   ]
  }
 ],
 "metadata": {
  "kernelspec": {
   "display_name": "Python 3",
   "language": "python",
   "name": "python3"
  },
  "language_info": {
   "codemirror_mode": {
    "name": "ipython",
    "version": 3
   },
   "file_extension": ".py",
   "mimetype": "text/x-python",
   "name": "python",
   "nbconvert_exporter": "python",
   "pygments_lexer": "ipython3",
   "version": "3.7.7"
  }
 },
 "nbformat": 4,
 "nbformat_minor": 4
}
