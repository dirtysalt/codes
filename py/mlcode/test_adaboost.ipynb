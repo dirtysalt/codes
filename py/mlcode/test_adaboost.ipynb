{
 "cells": [
  {
   "cell_type": "code",
   "execution_count": 13,
   "metadata": {},
   "outputs": [],
   "source": [
    "import adaboost\n",
    "from imp import reload\n",
    "reload(adaboost)\n",
    "import mnist_util\n",
    "reload(mnist_util)\n",
    "import numpy as np"
   ]
  },
  {
   "cell_type": "code",
   "execution_count": 14,
   "metadata": {},
   "outputs": [],
   "source": [
    "X, Y = mnist_util.load_from_pickle()"
   ]
  },
  {
   "cell_type": "code",
   "execution_count": 15,
   "metadata": {},
   "outputs": [],
   "source": [
    "X2 = X.copy()\n",
    "for i in range(X.shape[-1]):\n",
    "    X2[:, i] = (X[:, i] * 10).astype(np.int)"
   ]
  },
  {
   "cell_type": "code",
   "execution_count": 16,
   "metadata": {},
   "outputs": [],
   "source": [
    "# to balance them\n",
    "y0_count = sum(Y == 0)\n",
    "y0_index = (Y == 0)\n",
    "Y0 = Y[y0_index]\n",
    "X0 = X2[y0_index]\n",
    "\n",
    "y1_index = (Y != 0)\n",
    "Y1 = Y[y1_index][:y0_count]\n",
    "Y1[:] = 1\n",
    "X1 = X2[y1_index][:y0_count]"
   ]
  },
  {
   "cell_type": "code",
   "execution_count": 17,
   "metadata": {},
   "outputs": [
    {
     "data": {
      "text/plain": [
       "((4132, 324), (4132,), (4132, 324), (4132,))"
      ]
     },
     "execution_count": 17,
     "metadata": {},
     "output_type": "execute_result"
    }
   ],
   "source": [
    "X1.shape, Y1.shape, X0.shape, Y0.shape"
   ]
  },
  {
   "cell_type": "code",
   "execution_count": 18,
   "metadata": {},
   "outputs": [
    {
     "data": {
      "text/plain": [
       "((8264, 324), (8264,))"
      ]
     },
     "execution_count": 18,
     "metadata": {},
     "output_type": "execute_result"
    }
   ],
   "source": [
    "XF = np.vstack([X0, X1])\n",
    "YF = np.hstack([Y0, Y1])\n",
    "XF.shape, YF.shape"
   ]
  },
  {
   "cell_type": "code",
   "execution_count": 19,
   "metadata": {},
   "outputs": [],
   "source": [
    "X_train, X_test, y_train, y_test = mnist_util.train_test_split(XF, YF)"
   ]
  },
  {
   "cell_type": "code",
   "execution_count": 20,
   "metadata": {},
   "outputs": [],
   "source": [
    "from sklearn.metrics import accuracy_score\n",
    "reload(adaboost)\n",
    "\n",
    "clf = adaboost.AdaBoost()\n",
    "clf.reset()"
   ]
  },
  {
   "cell_type": "code",
   "execution_count": 21,
   "metadata": {},
   "outputs": [
    {
     "name": "stdout",
     "output_type": "stream",
     "text": [
      "training weak clf #0\n",
      "error rate = 0.0806\n",
      "done. weight = 1.2170\n",
      "training weak clf #1\n",
      "error rate = 0.1280\n",
      "done. weight = 0.9593\n",
      "training weak clf #2\n",
      "error rate = 0.1564\n",
      "done. weight = 0.8428\n",
      "training weak clf #3\n",
      "error rate = 0.2265\n",
      "done. weight = 0.6140\n",
      "training weak clf #4\n",
      "error rate = 0.5441\n",
      "done. weight = -0.0884\n",
      "training weak clf #5\n",
      "error rate = 0.5000\n",
      "done. weight = 0.0000\n",
      "training weak clf #6\n",
      "error rate = 0.5000\n",
      "done. weight = 0.0000\n",
      "training weak clf #7\n",
      "error rate = 0.5000\n"
     ]
    }
   ],
   "source": [
    "clf.fit(X_train, y_train, n_iter=10)"
   ]
  },
  {
   "cell_type": "code",
   "execution_count": 22,
   "metadata": {},
   "outputs": [
    {
     "data": {
      "text/plain": [
       "[1.216954774655447,\n",
       " 0.95933321947313088,\n",
       " 0.84276992063584255,\n",
       " 0.61401034528653597,\n",
       " -0.088390025612381157,\n",
       " 1.1102230246251564e-16,\n",
       " 1.1102230246251564e-16]"
      ]
     },
     "execution_count": 22,
     "metadata": {},
     "output_type": "execute_result"
    }
   ],
   "source": [
    "list(map(lambda x: x[1],clf.models))"
   ]
  },
  {
   "cell_type": "code",
   "execution_count": 23,
   "metadata": {},
   "outputs": [
    {
     "data": {
      "text/plain": [
       "0.96128251663641862"
      ]
     },
     "execution_count": 23,
     "metadata": {},
     "output_type": "execute_result"
    }
   ],
   "source": [
    "y_pred = clf.predict(X_test)\n",
    "accuracy_score(y_pred, y_test)"
   ]
  }
 ],
 "metadata": {
  "kernelspec": {
   "display_name": "Python 3",
   "language": "python",
   "name": "python3"
  },
  "language_info": {
   "codemirror_mode": {
    "name": "ipython",
    "version": 3
   },
   "file_extension": ".py",
   "mimetype": "text/x-python",
   "name": "python",
   "nbconvert_exporter": "python",
   "pygments_lexer": "ipython3",
   "version": "3.6.2"
  }
 },
 "nbformat": 4,
 "nbformat_minor": 2
}
