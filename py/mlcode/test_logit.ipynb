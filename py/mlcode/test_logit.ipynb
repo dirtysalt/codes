{
 "cells": [
  {
   "cell_type": "code",
   "execution_count": 1,
   "metadata": {},
   "outputs": [],
   "source": [
    "import logit\n",
    "from imp import reload\n",
    "reload(logit)\n",
    "import mnist_util\n",
    "reload(mnist_util)\n",
    "import numpy as np"
   ]
  },
  {
   "cell_type": "code",
   "execution_count": 2,
   "metadata": {},
   "outputs": [],
   "source": [
    "X, Y = mnist_util.load_from_pickle()"
   ]
  },
  {
   "cell_type": "code",
   "execution_count": 3,
   "metadata": {},
   "outputs": [],
   "source": [
    "# to balance them\n",
    "y0_count = sum(Y == 0)\n",
    "y0_index = (Y == 0)\n",
    "Y0 = Y[y0_index]\n",
    "X0 = X[y0_index]\n",
    "\n",
    "y1_index = (Y != 0)\n",
    "Y1 = Y[y1_index][:y0_count]\n",
    "Y1[:] = 1\n",
    "X1 = X[y1_index][:y0_count]"
   ]
  },
  {
   "cell_type": "code",
   "execution_count": 4,
   "metadata": {},
   "outputs": [
    {
     "data": {
      "text/plain": [
       "((4132, 324), (4132,), (4132, 324), (4132,))"
      ]
     },
     "execution_count": 4,
     "metadata": {},
     "output_type": "execute_result"
    }
   ],
   "source": [
    "X1.shape, Y1.shape, X0.shape, Y0.shape"
   ]
  },
  {
   "cell_type": "code",
   "execution_count": 5,
   "metadata": {},
   "outputs": [
    {
     "data": {
      "text/plain": [
       "((8264, 324), (8264,))"
      ]
     },
     "execution_count": 5,
     "metadata": {},
     "output_type": "execute_result"
    }
   ],
   "source": [
    "XF = np.vstack([X0, X1])\n",
    "YF = np.hstack([Y0, Y1])\n",
    "XF.shape, YF.shape"
   ]
  },
  {
   "cell_type": "code",
   "execution_count": 6,
   "metadata": {},
   "outputs": [],
   "source": [
    "X_train, X_test, y_train, y_test = mnist_util.train_test_split(XF, YF)"
   ]
  },
  {
   "cell_type": "code",
   "execution_count": 7,
   "metadata": {},
   "outputs": [
    {
     "name": "stdout",
     "output_type": "stream",
     "text": [
      "X.shape = (6611, 325), y.shape = (6611,)\n",
      "iteration #0\n",
      "sum of delta_w 0.30\n",
      "acc 0.52\n",
      "iteration #500\n",
      "sum of delta_w 24.65\n",
      "acc 0.98\n",
      "iteration #1000\n",
      "sum of delta_w 27.84\n",
      "acc 0.99\n",
      "iteration #1500\n",
      "sum of delta_w 28.12\n",
      "acc 0.99\n",
      "iteration #2000\n",
      "sum of delta_w 27.46\n",
      "acc 0.98\n",
      "iteration #2500\n",
      "sum of delta_w 29.65\n",
      "acc 0.99\n",
      "iteration #3000\n",
      "sum of delta_w 31.51\n",
      "acc 1.00\n",
      "iteration #3500\n",
      "sum of delta_w 30.92\n",
      "acc 1.00\n",
      "iteration #4000\n",
      "sum of delta_w 28.57\n",
      "acc 1.00\n",
      "iteration #4500\n",
      "sum of delta_w 30.06\n",
      "acc 1.00\n",
      "iteration #5000\n",
      "sum of delta_w 29.57\n",
      "acc 1.00\n",
      "iteration #5500\n",
      "sum of delta_w 29.69\n",
      "acc 1.00\n",
      "iteration #6000\n",
      "sum of delta_w 29.69\n",
      "acc 1.00\n",
      "iteration #6500\n",
      "sum of delta_w 29.69\n",
      "acc 1.00\n",
      "iteration #7000\n",
      "sum of delta_w 29.69\n",
      "acc 1.00\n",
      "iteration #7500\n",
      "sum of delta_w 29.69\n",
      "acc 1.00\n",
      "iteration #8000\n",
      "sum of delta_w 29.69\n",
      "acc 1.00\n",
      "iteration #8500\n",
      "sum of delta_w 29.69\n",
      "acc 1.00\n",
      "iteration #9000\n",
      "sum of delta_w 29.69\n",
      "acc 1.00\n",
      "iteration #9500\n",
      "sum of delta_w 29.69\n",
      "acc 1.00\n"
     ]
    }
   ],
   "source": [
    "from sklearn.metrics import accuracy_score\n",
    "reload(logit)\n",
    "\n",
    "def cb(i, w, delta_w):\n",
    "    if i % 500 != 0:\n",
    "        return\n",
    "    print('iteration #%d' % i)\n",
    "    print('sum of delta_w %.2f' % np.sum(delta_w))\n",
    "    y_pred = logit.predict(X_test, w)\n",
    "    print('acc %.2f' % accuracy_score(y_pred, y_test))\n",
    "    \n",
    "w = logit.fit(X_train, y_train, cb)\n",
    "# y_pred = logit.predict(X_test, w)\n",
    "# accuracy_score(y_pred, y_test)"
   ]
  },
  {
   "cell_type": "code",
   "execution_count": 8,
   "metadata": {},
   "outputs": [
    {
     "data": {
      "text/plain": [
       "0.99576527525710834"
      ]
     },
     "execution_count": 8,
     "metadata": {},
     "output_type": "execute_result"
    }
   ],
   "source": [
    "y_pred = logit.predict(X_test, w)\n",
    "accuracy_score(y_pred, y_test)"
   ]
  }
 ],
 "metadata": {
  "kernelspec": {
   "display_name": "Python 3",
   "language": "python",
   "name": "python3"
  },
  "language_info": {
   "codemirror_mode": {
    "name": "ipython",
    "version": 3
   },
   "file_extension": ".py",
   "mimetype": "text/x-python",
   "name": "python",
   "nbconvert_exporter": "python",
   "pygments_lexer": "ipython3",
   "version": "3.6.2"
  }
 },
 "nbformat": 4,
 "nbformat_minor": 2
}
