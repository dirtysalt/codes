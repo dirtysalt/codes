{
 "cells": [
  {
   "cell_type": "code",
   "execution_count": 2,
   "id": "3c85fb93",
   "metadata": {},
   "outputs": [],
   "source": [
    "from langchain.embeddings.openai import OpenAIEmbeddings\n",
    "from langchain.vectorstores import StarRocks\n",
    "from langchain.vectorstores.starrocks import StarRocksSettings\n",
    "from langchain.vectorstores import Chroma\n",
    "from langchain.text_splitter import CharacterTextSplitter, TokenTextSplitter\n",
    "from langchain import OpenAI,VectorDBQA\n",
    "from langchain.document_loaders import DirectoryLoader\n",
    "from langchain.chains import RetrievalQA\n",
    "from langchain.document_loaders import TextLoader, UnstructuredMarkdownLoader\n",
    "\n",
    "update_vectordb = False"
   ]
  },
  {
   "cell_type": "code",
   "execution_count": 3,
   "id": "85912696",
   "metadata": {},
   "outputs": [],
   "source": [
    "# load markdown files understand `docs` directory\n",
    "# for starrocks documents, you can clone repo from https://github.com/StarRocks/starrocks\n",
    "# and there is `docs` directory in it.\n",
    "\n",
    "loader = DirectoryLoader('./docs', glob='**/*.md', loader_cls=UnstructuredMarkdownLoader)\n",
    "documents = loader.load()"
   ]
  },
  {
   "cell_type": "code",
   "execution_count": 4,
   "id": "07e8acff",
   "metadata": {},
   "outputs": [],
   "source": [
    "# load text splitter and split docs into snippets of text\n",
    "text_splitter = TokenTextSplitter(chunk_size=400, chunk_overlap=50)\n",
    "split_docs = text_splitter.split_documents(documents)\n",
    "\n",
    "# tell vectordb to update text embeddings\n",
    "update_vectordb = True"
   ]
  },
  {
   "cell_type": "code",
   "execution_count": 5,
   "id": "c2608e87",
   "metadata": {},
   "outputs": [
    {
     "data": {
      "text/plain": [
       "Document(page_content='Compile StarRocks with Docker\\n\\nThis topic describes how to compile StarRocks using Docker.\\n\\nOverview\\n\\nStarRocks provides development environment images for both Ubuntu 22.04 and CentOS 7.9. With the image, you can launch a Docker container and compile StarRocks in the container.\\n\\nStarRocks version and DEV ENV image\\n\\nDifferent branches of StarRocks correspond to different development environment images provided on StarRocks Docker Hub.\\n\\nFor Ubuntu 22.04:\\n\\n| Branch name | Image name              |\\n  | --------------- | ----------------------------------- |\\n  | main            | starrocks/dev-env-ubuntu:latest     |\\n  | branch-3.0      | starrocks/dev-env-ubuntu:3.0-latest |\\n  | branch-2.5      | starrocks/dev-env-ubuntu:2.5-latest |\\n\\nFor CentOS 7.9:\\n\\n| Branch name | Image name                       |\\n  | --------------- | ------------------------------------ |\\n  | main            | starrocks/dev-env-centos7:latest     |\\n  | branch-3.0      | starrocks/dev-env-centos7:3.0-latest |\\n  | branch-2.5      | starrocks/dev-env-centos7:2.5-latest |\\n\\nPrerequisites\\n\\nBefore compiling StarRocks, make sure the following requirements are satisfied:\\n\\nHardware\\n\\n', metadata={'source': 'docs/developers/build-starrocks/Build_in_docker.md'})"
      ]
     },
     "execution_count": 5,
     "metadata": {},
     "output_type": "execute_result"
    }
   ],
   "source": [
    "split_docs[-20]"
   ]
  },
  {
   "cell_type": "code",
   "execution_count": 6,
   "id": "50012b29",
   "metadata": {},
   "outputs": [
    {
     "name": "stdout",
     "output_type": "stream",
     "text": [
      "# docs  = 657, # splits = 2802\n"
     ]
    }
   ],
   "source": [
    "print('# docs  = %d, # splits = %d' % (len(documents), len(split_docs)))"
   ]
  },
  {
   "cell_type": "code",
   "execution_count": 7,
   "id": "bb759f81",
   "metadata": {},
   "outputs": [],
   "source": [
    "# use chroma as vectordb\n",
    "def gen_chroma(update_vectordb, embeddings, persist_directory = './vectordb'):\n",
    "    if update_vectordb:\n",
    "        docsearch = Chroma.from_documents(split_docs, embeddings, persist_directory = persist_directory)        \n",
    "    else:\n",
    "        docsearch = Chroma(persist_directory = persist_directory, embedding_function=embeddings)\n",
    "    return docsearch\n",
    "\n",
    "# use starrocks as vectordb\n",
    "def gen_starrocks(update_vectordb, embeddings, settings):\n",
    "    if update_vectordb:\n",
    "        docsearch = StarRocks.from_documents(split_docs, embeddings, config = settings)            \n",
    "    else:\n",
    "        docsearch = StarRocks(embeddings, settings)    \n",
    "    return docsearch"
   ]
  },
  {
   "cell_type": "code",
   "execution_count": 13,
   "id": "a4805ac4",
   "metadata": {},
   "outputs": [
    {
     "name": "stderr",
     "output_type": "stream",
     "text": [
      "Inserting data...: 100%|████████████████████████████████████████████████████████████████████████████████████████████████████████████████████| 2802/2802 [02:28<00:00, 18.81it/s]\n"
     ]
    }
   ],
   "source": [
    "embeddings = OpenAIEmbeddings()\n",
    "# configure starrocks settings(host/port/user/pw/db)\n",
    "settings = StarRocksSettings()\n",
    "settings.port = 41003\n",
    "settings.host = '127.0.0.1'\n",
    "settings.username = 'root'\n",
    "settings.password = ''\n",
    "settings.database = 'zya'\n",
    "\n",
    "# docsearch = gen_chroma(embeddings)\n",
    "docsearch = gen_starrocks(update_vectordb, embeddings, settings)\n",
    "update_vectordb = False"
   ]
  },
  {
   "cell_type": "code",
   "execution_count": 15,
   "id": "84921814",
   "metadata": {},
   "outputs": [
    {
     "name": "stdout",
     "output_type": "stream",
     "text": [
      " You can enable query profile by setting the variable `enable_profile` to `true`.\n"
     ]
    }
   ],
   "source": [
    "llm = OpenAI()\n",
    "qa = RetrievalQA.from_chain_type(llm=llm, chain_type=\"stuff\", retriever=docsearch.as_retriever())\n",
    "query = \"how to enable query profile\"\n",
    "resp = qa.run(query)\n",
    "print(resp)"
   ]
  },
  {
   "cell_type": "code",
   "execution_count": null,
   "id": "ed541067",
   "metadata": {},
   "outputs": [],
   "source": []
  }
 ],
 "metadata": {
  "kernelspec": {
   "display_name": "Python 3 (ipykernel)",
   "language": "python",
   "name": "python3"
  },
  "language_info": {
   "codemirror_mode": {
    "name": "ipython",
    "version": 3
   },
   "file_extension": ".py",
   "mimetype": "text/x-python",
   "name": "python",
   "nbconvert_exporter": "python",
   "pygments_lexer": "ipython3",
   "version": "3.9.6"
  }
 },
 "nbformat": 4,
 "nbformat_minor": 5
}
