{
 "cells": [
  {
   "cell_type": "code",
   "execution_count": null,
   "metadata": {},
   "outputs": [],
   "source": [
    "import pandas as pd\n",
    "import numpy as np\n",
    "import seaborn as sns\n",
    "import matplotlib.pyplot as plt\n",
    "import xgboost\n",
    "import sklearn\n",
    "%matplotlib inline\n",
    "data_path = '/Users/dirlt/.kaggle/competitions/bike-sharing-demand/'"
   ]
  },
  {
   "cell_type": "markdown",
   "metadata": {},
   "source": [
    "# Load Data"
   ]
  },
  {
   "cell_type": "code",
   "execution_count": null,
   "metadata": {},
   "outputs": [],
   "source": [
    "def extend_fields(df, as_float = False):\n",
    "    df = df.copy()\n",
    "    dt = df['datetime']\n",
    "    dt2 = pd.to_datetime(dt)\n",
    "    df['dt_day'] = dt2.apply(lambda x: x.day)\n",
    "    df['dt_weekday'] = dt2.apply(lambda x: x.weekday())\n",
    "    df['dt_month'] = dt2.apply(lambda x: x.month)\n",
    "    df['dt_hour'] = dt2.apply(lambda x: x.hour)\n",
    "    df['dt_year'] = dt2.apply(lambda x: x.year)\n",
    "    x = df\n",
    "    if not as_float:\n",
    "        x['temp'] = np.round(x['temp']).astype(int)\n",
    "        x['atemp'] = np.round(x['atemp']).astype(int)\n",
    "        x['humidity'] = np.round(x['humidity']).astype(int)\n",
    "        x['windspeed'] = np.round(x['windspeed']).astype(int)\n",
    "    tmp = pd.get_dummies(x['season'], prefix = 'season')\n",
    "    x = x.join(tmp)\n",
    "    tmp = pd.get_dummies(x['weather'], prefix = 'weather')\n",
    "    x = x.join(tmp)\n",
    "    tmp = pd.get_dummies(x['dt_weekday'], prefix = 'weekday')\n",
    "    x = x.join(tmp)\n",
    "    tmp = pd.get_dummies(x['dt_month'], prefix = 'month')\n",
    "    x = x.join(tmp)\n",
    "    tmp = pd.get_dummies(x['dt_hour'], prefix = 'hour')\n",
    "    x = x.join(tmp)\n",
    "    tmp = pd.get_dummies(x['dt_year'], prefix = 'year')\n",
    "    x = x.join(tmp)\n",
    "    return x"
   ]
  },
  {
   "cell_type": "code",
   "execution_count": null,
   "metadata": {},
   "outputs": [],
   "source": [
    "ogn_df = pd.read_csv(data_path + 'train.csv')\n",
    "df = extend_fields(ogn_df)"
   ]
  },
  {
   "cell_type": "code",
   "execution_count": null,
   "metadata": {},
   "outputs": [],
   "source": [
    "ogn_df.columns"
   ]
  },
  {
   "cell_type": "code",
   "execution_count": null,
   "metadata": {},
   "outputs": [],
   "source": [
    "def group_plot(group_fields, value_fields = ['casual', 'registered']):\n",
    "    df.groupby(group_fields)[value_fields].sum().plot(kind = 'bar', figsize = (10, 6))"
   ]
  },
  {
   "cell_type": "markdown",
   "metadata": {},
   "source": [
    "# count 出现异常值\n",
    "\n",
    "使用boxplot和distplot来观察分布情况"
   ]
  },
  {
   "cell_type": "code",
   "execution_count": null,
   "metadata": {},
   "outputs": [],
   "source": [
    "df.boxplot(['count', 'casual', 'registered'])"
   ]
  },
  {
   "cell_type": "code",
   "execution_count": null,
   "metadata": {},
   "outputs": [],
   "source": [
    "sns.distplot(np.log1p(df['count']))"
   ]
  },
  {
   "cell_type": "markdown",
   "metadata": {},
   "source": [
    "# 体感温度的修正"
   ]
  },
  {
   "cell_type": "code",
   "execution_count": null,
   "metadata": {},
   "outputs": [],
   "source": [
    "plt.scatter(df['temp'], df['atemp'])"
   ]
  },
  {
   "cell_type": "code",
   "execution_count": null,
   "metadata": {},
   "outputs": [],
   "source": [
    "def fix_atemp(x):\n",
    "    atemp_outliner = (x['temp'] / x['atemp'] > 2.0)\n",
    "    x.loc[atemp_outliner, 'atemp'] = x.loc[atemp_outliner, 'temp']\n",
    "    x['atemp'] = x['atemp'].astype(int)\n",
    "    return x\n",
    "df = fix_atemp(df)"
   ]
  },
  {
   "cell_type": "code",
   "execution_count": null,
   "metadata": {},
   "outputs": [],
   "source": [
    "plt.scatter(df['temp'], df['atemp'])"
   ]
  },
  {
   "cell_type": "markdown",
   "metadata": {},
   "source": [
    "可以看到atemp分布不太均匀，temp相对还比较均匀一些。所以特征的话最好还是用temp"
   ]
  },
  {
   "cell_type": "code",
   "execution_count": null,
   "metadata": {},
   "outputs": [],
   "source": [
    "sns.countplot('atemp', data = df)"
   ]
  },
  {
   "cell_type": "code",
   "execution_count": null,
   "metadata": {},
   "outputs": [],
   "source": [
    "group_plot('atemp')"
   ]
  },
  {
   "cell_type": "code",
   "execution_count": null,
   "metadata": {},
   "outputs": [],
   "source": [
    "sns.countplot('temp', data = df)"
   ]
  },
  {
   "cell_type": "code",
   "execution_count": null,
   "metadata": {},
   "outputs": [],
   "source": [
    "group_plot('temp')"
   ]
  },
  {
   "cell_type": "markdown",
   "metadata": {},
   "source": [
    "# hour分布情况"
   ]
  },
  {
   "cell_type": "code",
   "execution_count": null,
   "metadata": {},
   "outputs": [],
   "source": [
    "df['hour'] = df['dt_hour'].astype('category')\n",
    "sns.boxplot(data = df, x = 'hour', y = 'count')"
   ]
  },
  {
   "cell_type": "markdown",
   "metadata": {},
   "source": [
    "casual: 如果左移4个单位的话可以看到非常对称"
   ]
  },
  {
   "cell_type": "code",
   "execution_count": null,
   "metadata": {},
   "outputs": [],
   "source": [
    "group_plot('dt_hour', value_fields=['casual'])"
   ]
  },
  {
   "cell_type": "code",
   "execution_count": null,
   "metadata": {},
   "outputs": [],
   "source": [
    "group_plot('dt_hour', ['registered'])"
   ]
  },
  {
   "cell_type": "markdown",
   "metadata": {},
   "source": [
    "# winspeed异常"
   ]
  },
  {
   "cell_type": "code",
   "execution_count": null,
   "metadata": {},
   "outputs": [],
   "source": [
    "sns.countplot(df['windspeed'])"
   ]
  },
  {
   "cell_type": "code",
   "execution_count": null,
   "metadata": {},
   "outputs": [],
   "source": [
    "def mark_windspeed(x):\n",
    "    x['windspeed_0'] = 0\n",
    "    x.loc[(np.round(x['windspeed']).astype(int) == 0),'windspeed_0'] = 1\n",
    "    return x\n",
    "df = mark_windspeed(df)"
   ]
  },
  {
   "cell_type": "code",
   "execution_count": null,
   "metadata": {},
   "outputs": [],
   "source": [
    "df['windspeed'].describe()"
   ]
  },
  {
   "cell_type": "markdown",
   "metadata": {},
   "source": [
    "# humidity异常"
   ]
  },
  {
   "cell_type": "code",
   "execution_count": null,
   "metadata": {},
   "outputs": [],
   "source": [
    "fig, ax = plt.subplots()\n",
    "fig.set_figheight(10)\n",
    "fig.set_figwidth(30)\n",
    "sns.countplot('humidity', data = df, ax = ax)"
   ]
  },
  {
   "cell_type": "code",
   "execution_count": null,
   "metadata": {},
   "outputs": [],
   "source": [
    "df['humidity'].describe(percentiles = np.arange(0, 1, 0.1))"
   ]
  },
  {
   "cell_type": "code",
   "execution_count": null,
   "metadata": {},
   "outputs": [],
   "source": [
    "def mark_humidity(x):\n",
    "    h = np.round(x['humidity']).astype(int)\n",
    "    x['humidity_0'] = 0\n",
    "    x.loc[h == 0, 'humidity_0'] = 1\n",
    "    x['humidity_1'] = 0 \n",
    "    x.loc[(h >= 85) & (h <=92), 'humidity_1'] = 1\n",
    "    x['humidity_2'] = 0\n",
    "    x.loc[(h >92) & (h < 100), 'humidity_2'] = 1\n",
    "    x['humidity_3'] = 0\n",
    "    x.loc[h == 100, 'humidity_3'] = 1\n",
    "    return x\n",
    "df = mark_humidity(df)"
   ]
  },
  {
   "cell_type": "markdown",
   "metadata": {},
   "source": [
    "# humidity, temp, windspeed关系"
   ]
  },
  {
   "cell_type": "code",
   "execution_count": null,
   "metadata": {},
   "outputs": [],
   "source": [
    "sns.jointplot('temp', 'windspeed', data = df)"
   ]
  },
  {
   "cell_type": "code",
   "execution_count": null,
   "metadata": {},
   "outputs": [],
   "source": [
    "sns.jointplot('temp', 'humidity', data = df)"
   ]
  },
  {
   "cell_type": "code",
   "execution_count": null,
   "metadata": {},
   "outputs": [],
   "source": [
    "sns.jointplot('humidity', 'windspeed', data = df)"
   ]
  },
  {
   "cell_type": "markdown",
   "metadata": {},
   "source": [
    "# 输出features"
   ]
  },
  {
   "cell_type": "code",
   "execution_count": null,
   "metadata": {},
   "outputs": [],
   "source": [
    "def select_features(df, test = False):\n",
    "    columns = ['holiday', 'workingday',  'casual', 'registered',\n",
    "               'count', 'dt_month', 'dt_day', 'dt_hour',\n",
    "               'temp', 'humidity', 'windspeed', 'atemp',\n",
    "               'season', 'dt_weekday', 'weather', 'dt_year', 'windspeed_0',\n",
    "               'humidity_0', 'humidity_1', 'humidity_2', 'humidity_3']\n",
    "    columns.extend(['season_{}'.format(x) for x in range(1,5)])\n",
    "    columns.extend(['weather_{}'.format(x) for x in range(1,5)])\n",
    "    columns.extend(['weekday_{}'.format(x) for x in range(0, 7)])\n",
    "    columns.extend(['month_{}'.format(x) for x in range(1, 13)])\n",
    "    columns.extend(['year_{}'.format(x) for x in range(2011, 2013)])\n",
    "    columns.extend(['hour_{}'.format(x) for x in range(0, 24)])\n",
    "\n",
    "    if test:\n",
    "        columns.remove('count')\n",
    "        columns.remove('casual')\n",
    "        columns.remove('registered')\n",
    "        columns.insert(0, 'datetime')\n",
    "\n",
    "    return df[columns]"
   ]
  },
  {
   "cell_type": "code",
   "execution_count": null,
   "metadata": {},
   "outputs": [],
   "source": [
    "train_df = pd.read_csv(data_path + 'train.csv')\n",
    "train_df = extend_fields(train_df, as_float=True)\n",
    "train_df = mark_windspeed(train_df)\n",
    "train_df = mark_humidity(train_df)\n",
    "output_df = select_features(train_df)\n",
    "output_df.to_csv('mytrain.csv', index=False)"
   ]
  },
  {
   "cell_type": "code",
   "execution_count": null,
   "metadata": {},
   "outputs": [],
   "source": [
    "test_df = pd.read_csv(data_path + 'test.csv')\n",
    "test_df = extend_fields(test_df, as_float=True)\n",
    "test_df = mark_windspeed(test_df)\n",
    "test_df = mark_humidity(test_df)\n",
    "test_output_df = select_features(test_df, test=True)\n",
    "test_output_df.to_csv('mytest.csv', index = False)"
   ]
  }
 ],
 "metadata": {
  "kernelspec": {
   "display_name": "Python 3",
   "language": "python",
   "name": "python3"
  },
  "language_info": {
   "codemirror_mode": {
    "name": "ipython",
    "version": 3
   },
   "file_extension": ".py",
   "mimetype": "text/x-python",
   "name": "python",
   "nbconvert_exporter": "python",
   "pygments_lexer": "ipython3",
   "version": "3.6.2"
  }
 },
 "nbformat": 4,
 "nbformat_minor": 1
}
