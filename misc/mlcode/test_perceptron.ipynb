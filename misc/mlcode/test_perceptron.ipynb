{
 "cells": [
  {
   "cell_type": "code",
   "execution_count": 1,
   "metadata": {},
   "outputs": [],
   "source": [
    "import perceptron\n",
    "from imp import reload\n",
    "reload(perceptron)\n",
    "import mnist_util\n",
    "reload(mnist_util)\n",
    "import numpy as np"
   ]
  },
  {
   "cell_type": "code",
   "execution_count": 2,
   "metadata": {},
   "outputs": [],
   "source": [
    "X, Y = mnist_util.load_from_pickle()"
   ]
  },
  {
   "cell_type": "code",
   "execution_count": 3,
   "metadata": {},
   "outputs": [],
   "source": [
    "# to balance them\n",
    "y0_count = sum(Y == 0)\n",
    "y0_index = (Y == 0)\n",
    "Y0 = Y[y0_index]\n",
    "X0 = X[y0_index]\n",
    "\n",
    "y1_index = (Y != 0)\n",
    "Y1 = Y[y1_index][:y0_count]\n",
    "Y1[:] = 1\n",
    "X1 = X[y1_index][:y0_count]"
   ]
  },
  {
   "cell_type": "code",
   "execution_count": 4,
   "metadata": {},
   "outputs": [
    {
     "data": {
      "text/plain": [
       "((4132, 324), (4132,), (4132, 324), (4132,))"
      ]
     },
     "execution_count": 4,
     "metadata": {},
     "output_type": "execute_result"
    }
   ],
   "source": [
    "X1.shape, Y1.shape, X0.shape, Y0.shape"
   ]
  },
  {
   "cell_type": "code",
   "execution_count": 5,
   "metadata": {},
   "outputs": [
    {
     "data": {
      "text/plain": [
       "((8264, 324), (8264,))"
      ]
     },
     "execution_count": 5,
     "metadata": {},
     "output_type": "execute_result"
    }
   ],
   "source": [
    "XF = np.vstack([X0, X1])\n",
    "YF = np.hstack([Y0, Y1])\n",
    "XF.shape, YF.shape"
   ]
  },
  {
   "cell_type": "code",
   "execution_count": 6,
   "metadata": {},
   "outputs": [],
   "source": [
    "X_train, X_test, y_train, y_test = mnist_util.train_test_split(XF, YF)"
   ]
  },
  {
   "cell_type": "code",
   "execution_count": 7,
   "metadata": {},
   "outputs": [
    {
     "name": "stdout",
     "output_type": "stream",
     "text": [
      "X.shape = (6611, 325), y.shape = (6611,)\n"
     ]
    },
    {
     "data": {
      "text/plain": [
       "0.99516031457955234"
      ]
     },
     "execution_count": 7,
     "metadata": {},
     "output_type": "execute_result"
    }
   ],
   "source": [
    "from sklearn.metrics import accuracy_score\n",
    "reload(perceptron)\n",
    "w = perceptron.fit(X_train, y_train)\n",
    "y_pred = perceptron.predict(X_test, w)\n",
    "accuracy_score(y_pred, y_test)"
   ]
  }
 ],
 "metadata": {
  "kernelspec": {
   "display_name": "Python 3",
   "language": "python",
   "name": "python3"
  },
  "language_info": {
   "codemirror_mode": {
    "name": "ipython",
    "version": 3
   },
   "file_extension": ".py",
   "mimetype": "text/x-python",
   "name": "python",
   "nbconvert_exporter": "python",
   "pygments_lexer": "ipython3",
   "version": "3.6.2"
  }
 },
 "nbformat": 4,
 "nbformat_minor": 2
}
